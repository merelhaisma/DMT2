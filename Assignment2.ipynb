{
 "cells": [
  {
   "cell_type": "code",
   "execution_count": 1,
   "outputs": [],
   "source": [
    "# Import the required libraries\n",
    "import os\n",
    "import zipfile\n",
    "import pandas as pd\n",
    "import numpy as np"
   ],
   "metadata": {
    "collapsed": false,
    "ExecuteTime": {
     "end_time": "2023-05-10T13:39:33.150211Z",
     "start_time": "2023-05-10T13:39:32.566840300Z"
    }
   }
  },
  {
   "cell_type": "code",
   "execution_count": 2,
   "outputs": [],
   "source": [
    "# Load the data into pandas dataframes. The data has to be manually saved to a folder called 'data'.\n",
    "# Note: the data is quite large, so this may take a while (~40 seconds)\n",
    "train_df = pd.read_csv(os.path.join('data', 'training_set_VU_DM.csv'))\n",
    "test_df = pd.read_csv(os.path.join('data', 'test_set_VU_DM.csv'))"
   ],
   "metadata": {
    "collapsed": false,
    "ExecuteTime": {
     "end_time": "2023-05-10T13:40:14.137362Z",
     "start_time": "2023-05-10T13:39:33.152529300Z"
    }
   }
  },
  {
   "cell_type": "code",
   "execution_count": 3,
   "outputs": [
    {
     "name": "stdout",
     "output_type": "stream",
     "text": [
      "Train data contains 4,958,347 rows and 54 columns\n",
      "Test data contains 4,959,183 rows and 50 columns\n"
     ]
    }
   ],
   "source": [
    "print(f\"Train data contains {train_df.shape[0]:,} rows and {train_df.shape[1]} columns\")\n",
    "print(f\"Test data contains {test_df.shape[0]:,} rows and {test_df.shape[1]} columns\")"
   ],
   "metadata": {
    "collapsed": false,
    "ExecuteTime": {
     "end_time": "2023-05-10T13:40:14.152661800Z",
     "start_time": "2023-05-10T13:40:14.142519900Z"
    }
   }
  },
  {
   "cell_type": "markdown",
   "source": [
    "### Data Columns"
   ],
   "metadata": {
    "collapsed": false
   }
  },
  {
   "cell_type": "markdown",
   "source": [
    "| Column Name                 | Data Type | Description                                                                                                                                                                                                       |\n",
    "|-----------------------------|-----------|-------------------------------------------------------------------------------------------------------------------------------------------------------------------------------------------------------------------|\n",
    "| position                    | Integer   | Hotel position on Expedia's search results page. This is only provided for the training data, but not the test data.                                                                                              |\n",
    "| gross_booking_usd           | Float     | Total value of the transaction. This can differ from the price_usd due to taxes, fees, conventions on multiple day bookings and purchase of a room type other than the one shown in the search                    |\n",
    "| click_bool                  | Boolean   | 1 if the user clicked on the property, 0 if not.                                                                                              |\n",
    "| booking_bool                | Boolean   | 1 if the user booked the property, 0 if not.                    |\n",
    "|                             |           ||\n",
    "| srch_id                     | Integer   | The ID of the search                                                                                                                                                                                              |\n",
    "| date_time                   | Date/time | Date and time of the search                                                                                                                                                                                       |\n",
    "| site_id                     | Integer   | ID of the Expedia point of sale (i.e. Expedia.com, Expedia.co.uk, Expedia.co.jp, ..)                                                                                                                              |\n",
    "| visitor_location_country_id | Integer   | The ID of the country the customer is located                                                                                                                                                                     |\n",
    "| visitor_hist_starrating     | Float     | The mean star rating of hotels the customer has previously purchased; null signifies there is no purchase history on the customer                                                                                 |\n",
    "| visitor_hist_adr_usd        | Float     | The mean price per night (in US$) of the hotels the customer has previously purchased; null signifies there is no purchase history on the customer                                                                |\n",
    "| prop_country_id             | Integer   | The ID of the country the hotel is located in                                                                                                                                                                     |\n",
    "| prop_id                     | Integer   | The ID of the hotel                                                                                                                                                                                               |\n",
    "| prop_starrating             | Integer   | The star rating of the hotel, from 1 to 5, in increments of 1. A 0 indicates the property has no stars, the star rating is not known or cannot be publicized.                                                     |\n",
    "| prop_review_score           | Float     | The mean customer review score for the hotel on a scale out of 5, rounded to 0.5 increments. A 0 means there have been no reviews, null that the information is not available.                                    |\n",
    "| prop_brand_bool             | Integer   | +1 if the hotel is part of a major hotel chain; 0 if it is an independent hotel                                                                                                                                   |\n",
    "| prop_location_score1        | Float     | A (first) score outlining the desirability of a hotel’s location                                                                                                                                                  |\n",
    "| prop_location_score2        | Float     | A (second) score outlining the desirability of the hotel’s location                                                                                                                                               |\n",
    "| prop_log_historical_price   | Float     | The logarithm of the mean price of the hotel over the last trading period. A 0 will occur if the hotel was not sold in that period.                                                                               |\n",
    "| price_usd                   | Float     | Displayed price of the hotel for the given search. Note that different countries have different conventions regarding displaying taxes and fees and the value may be per night or for the whole stay              |\n",
    "| promotion_flag              | Integer   | +1 if the hotel had a sale price promotion specifically displayed                                                                                                                                                 |\n",
    "| srch_destination_id         | Integer   | ID of the destination where the hotel search was performed                                                                                                                                                        |\n",
    "| srch_length_of_stay         | Integer   | Number of nights stay that was searched                                                                                                                                                                           |\n",
    "| srch_booking_window         | Integer   | Number of days in the future the hotel stay started from the search date                                                                                                                                          |\n",
    "| srch_adults_count           | Integer   | The number of adults specified in the hotel room                                                                                                                                                                  |\n",
    "| srch_children_count         | Integer   | The number of (extra occupancy) children specified in the hotel room                                                                                                                                              |\n",
    "| srch_room_count             | Integer   | Number of hotel rooms specified in the search                                                                                                                                                                     |\n",
    "| srch_saturday_night_bool    | Boolean   | +1 if the stay includes a Saturday night, starts from Thursday with a length of stay is less than or equal to 4 nights (i.e. weekend); otherwise 0                                                                |\n",
    "| srch_query_affinity_score   | Float     | The log of the probability a hotel will be clicked on in Internet searches (hence the values are negative)  A null signifies there are no data (i.e. hotel did not register in any searches)                      |\n",
    "| orig_destination_distance   | Float     | Physical distance between the hotel and the customer at the time of search. A null means the distance could not be calculated.                                                                                    |\n",
    "| random_bool                 | Boolean   | +1 when the displayed sort was random, 0 when the normal sort order was displayed                                                                                                                                 |\n",
    "| comp*x*_rate                | Integer   | '*x*' denotes the competitor number. +1 if Expedia has a lower price than competitor 1 for the hotel; 0 if the same; -1 if Expedia’s price is higher than competitor 1; null signifies there is no competitive data |\n",
    "| comp*x*_inv                 | Integer   | '*x*' denotes the competitor number. +1 if competitor 1 does not have availability in the hotel; 0 if both Expedia and competitor 1 have availability; null signifies there is no competitive data                  |\n",
    "| comp*x*_rate_percent_diff   | Float     | '*x*' denotes the competitor number. The absolute percentage difference (if one exists) between Expedia and competitor 1’s price (Expedia’s price the denominator); null signifies there is no competitive data      |\n"
   ],
   "metadata": {
    "collapsed": false
   }
  }
 ],
 "metadata": {
  "kernelspec": {
   "display_name": "Python 3",
   "language": "python",
   "name": "python3"
  },
  "language_info": {
   "codemirror_mode": {
    "name": "ipython",
    "version": 2
   },
   "file_extension": ".py",
   "mimetype": "text/x-python",
   "name": "python",
   "nbconvert_exporter": "python",
   "pygments_lexer": "ipython2",
   "version": "2.7.6"
  }
 },
 "nbformat": 4,
 "nbformat_minor": 0
}
