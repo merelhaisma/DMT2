{
 "cells": [
  {
   "cell_type": "code",
   "execution_count": 1,
   "metadata": {
    "ExecuteTime": {
     "end_time": "2023-05-20T15:10:35.501279500Z",
     "start_time": "2023-05-20T15:10:32.476616600Z"
    },
    "collapsed": false
   },
   "outputs": [
    {
     "name": "stderr",
     "output_type": "stream",
     "text": [
      "c:\\Users\\Cyproxius\\anaconda3\\envs\\dmt\\lib\\site-packages\\tqdm\\auto.py:21: TqdmWarning: IProgress not found. Please update jupyter and ipywidgets. See https://ipywidgets.readthedocs.io/en/stable/user_install.html\n",
      "  from .autonotebook import tqdm as notebook_tqdm\n"
     ]
    }
   ],
   "source": [
    "# Import the required libraries\n",
    "import os\n",
    "import pandas as pd\n",
    "import numpy as np\n",
    "from torch.utils.data import DataLoader, Dataset, random_split\n",
    "from tqdm import tqdm\n",
    "import pickle"
   ]
  },
  {
   "cell_type": "code",
   "execution_count": 2,
   "metadata": {
    "ExecuteTime": {
     "end_time": "2023-05-20T15:10:40.780006700Z",
     "start_time": "2023-05-20T15:10:35.506504300Z"
    },
    "collapsed": false
   },
   "outputs": [],
   "source": [
    "# Load the data into pandas dataframes. The data has to be manually saved to a folder called 'data'.\n",
    "# Note: the data is quite large, so this may take a while (~40 seconds) if the data is read as a csv. To speed up further file reading, it is converted to pickle format.\n",
    "# if (os.path.exists(os.path.join('data', 'training_set_VU_DM.pickle'))\n",
    "#     & os.path.exists((os.path.join('data', 'test_set_VU_DM.pickle')))):\n",
    "#     train_df = pd.read_pickle(os.path.join('data', 'training_set_VU_DM.pickle'))\n",
    "#     test_df = pd.read_pickle(os.path.join('data', 'test_set_VU_DM.pickle'))\n",
    "# else:\n",
    "#     train_df = pd.read_csv(os.path.join('data', 'training_set_VU_DM.csv'))\n",
    "#     test_df = pd.read_csv(os.path.join('data', 'test_set_VU_DM.csv'))\n",
    "#     train_df.to_pickle(os.path.join('data', 'training_set_VU_DM.pickle'))\n",
    "#     test_df.to_pickle(os.path.join('data', 'test_set_VU_DM.pickle'))\n",
    "\n",
    "# TODO: When running for real, uncomment the real data\n",
    "train_df = pd.read_csv(os.path.join('data', 'dummy_training.csv'))\n",
    "test_df = pd.read_csv(os.path.join('data', 'dummy_testing.csv'))"
   ]
  },
  {
   "cell_type": "code",
   "execution_count": 3,
   "metadata": {
    "ExecuteTime": {
     "end_time": "2023-05-20T15:10:42.755325900Z",
     "start_time": "2023-05-20T15:10:40.819803800Z"
    },
    "collapsed": false
   },
   "outputs": [
    {
     "name": "stdout",
     "output_type": "stream",
     "text": [
      "Period of data collection: 2012/11/01 - 2013/06/29\n",
      "Train data contains 4,999 rows and 54 columns\n",
      "Test data contains 4,999 rows and 50 columns\n",
      "\n",
      "Train data:\n",
      "Number of unique search IDs: 207\n",
      "Number of unique property IDs: 4,602\n",
      "Number of clicks per search: avg. 1.09, std. 0.21\n",
      "Number of bookings per search: avg. 0.66, std. 0.16\n",
      "\n",
      "Test data:\n",
      "Number of unique search IDs: 194\n",
      "Number of unique property IDs: 4,551\n"
     ]
    }
   ],
   "source": [
    "print(f\"Period of data collection: {pd.to_datetime(train_df['date_time']).min().strftime('%Y/%m/%d')} - {pd.to_datetime(train_df['date_time']).max().strftime('%Y/%m/%d')}\")\n",
    "print(f\"Train data contains {train_df.shape[0]:,} rows and {train_df.shape[1]} columns\")\n",
    "print(f\"Test data contains {test_df.shape[0]:,} rows and {test_df.shape[1]} columns\")\n",
    "print()\n",
    "print(f\"Train data:\")\n",
    "print(f\"Number of unique search IDs: {len(train_df['srch_id'].unique()):,}\")\n",
    "print(f\"Number of unique property IDs: {len(train_df['prop_id'].unique()):,}\")\n",
    "print(f\"Number of clicks per search: avg. {train_df['click_bool'].sum() / len(train_df['srch_id'].unique()):.2f}, std. {train_df['click_bool'].std():.2f}\")\n",
    "print(f\"Number of bookings per search: avg. {train_df['booking_bool'].sum() / len(train_df['srch_id'].unique()):.2f}, std. {train_df['booking_bool'].std():.2f}\")\n",
    "print()\n",
    "print(f\"Test data:\")\n",
    "print(f\"Number of unique search IDs: {len(test_df['srch_id'].unique()):,}\")\n",
    "print(f\"Number of unique property IDs: {len(test_df['prop_id'].unique()):,}\")"
   ]
  },
  {
   "attachments": {},
   "cell_type": "markdown",
   "metadata": {
    "collapsed": false
   },
   "source": [
    "### Data Columns"
   ]
  },
  {
   "attachments": {},
   "cell_type": "markdown",
   "metadata": {
    "collapsed": false
   },
   "source": [
    "| Column Name                 | Data Type | Description                                                                                                                                                                                                       |\n",
    "|-----------------------------|-----------|-------------------------------------------------------------------------------------------------------------------------------------------------------------------------------------------------------------------|\n",
    "| position                    | Integer   | Hotel position on Expedia's search results page. This is only provided for the training data, but not the test data.                                                                                              |\n",
    "| gross_booking_usd           | Float     | Total value of the transaction. This can differ from the price_usd due to taxes, fees, conventions on multiple day bookings and purchase of a room type other than the one shown in the search                    |\n",
    "| click_bool                  | Boolean   | 1 if the user clicked on the property, 0 if not.                                                                                              |\n",
    "| booking_bool                | Boolean   | 1 if the user booked the property, 0 if not.                    |\n",
    "|                             |           ||\n",
    "| srch_id                     | Integer   | The ID of the search                                                                                                                                                                                              |\n",
    "| date_time                   | Date/time | Date and time of the search                                                                                                                                                                                       |\n",
    "| site_id                     | Integer   | ID of the Expedia point of sale (i.e. Expedia.com, Expedia.co.uk, Expedia.co.jp, ..)                                                                                                                              |\n",
    "| visitor_location_country_id | Integer   | The ID of the country the customer is located                                                                                                                                                                     |\n",
    "| visitor_hist_starrating     | Float     | The mean star rating of hotels the customer has previously purchased; null signifies there is no purchase history on the customer                                                                                 |\n",
    "| visitor_hist_adr_usd        | Float     | The mean price per night (in US$) of the hotels the customer has previously purchased; null signifies there is no purchase history on the customer                                                                |\n",
    "| prop_country_id             | Integer   | The ID of the country the hotel is located in                                                                                                                                                                     |\n",
    "| prop_id                     | Integer   | The ID of the hotel                                                                                                                                                                                               |\n",
    "| prop_starrating             | Integer   | The star rating of the hotel, from 1 to 5, in increments of 1. A 0 indicates the property has no stars, the star rating is not known or cannot be publicized.                                                     |\n",
    "| prop_review_score           | Float     | The mean customer review score for the hotel on a scale out of 5, rounded to 0.5 increments. A 0 means there have been no reviews, null that the information is not available.                                    |\n",
    "| prop_brand_bool             | Integer   | +1 if the hotel is part of a major hotel chain; 0 if it is an independent hotel                                                                                                                                   |\n",
    "| prop_location_score1        | Float     | A (first) score outlining the desirability of a hotel’s location                                                                                                                                                  |\n",
    "| prop_location_score2        | Float     | A (second) score outlining the desirability of the hotel’s location                                                                                                                                               |\n",
    "| prop_log_historical_price   | Float     | The logarithm of the mean price of the hotel over the last trading period. A 0 will occur if the hotel was not sold in that period.                                                                               |\n",
    "| price_usd                   | Float     | Displayed price of the hotel for the given search. Note that different countries have different conventions regarding displaying taxes and fees and the value may be per night or for the whole stay              |\n",
    "| promotion_flag              | Integer   | +1 if the hotel had a sale price promotion specifically displayed                                                                                                                                                 |\n",
    "| srch_destination_id         | Integer   | ID of the destination where the hotel search was performed                                                                                                                                                        |\n",
    "| srch_length_of_stay         | Integer   | Number of nights stay that was searched                                                                                                                                                                           |\n",
    "| srch_booking_window         | Integer   | Number of days in the future the hotel stay started from the search date                                                                                                                                          |\n",
    "| srch_adults_count           | Integer   | The number of adults specified in the hotel room                                                                                                                                                                  |\n",
    "| srch_children_count         | Integer   | The number of (extra occupancy) children specified in the hotel room                                                                                                                                              |\n",
    "| srch_room_count             | Integer   | Number of hotel rooms specified in the search                                                                                                                                                                     |\n",
    "| srch_saturday_night_bool    | Boolean   | +1 if the stay includes a Saturday night, starts from Thursday with a length of stay is less than or equal to 4 nights (i.e. weekend); otherwise 0                                                                |\n",
    "| srch_query_affinity_score   | Float     | The log of the probability a hotel will be clicked on in Internet searches (hence the values are negative)  A null signifies there are no data (i.e. hotel did not register in any searches)                      |\n",
    "| orig_destination_distance   | Float     | Physical distance between the hotel and the customer at the time of search. A null means the distance could not be calculated.                                                                                    |\n",
    "| random_bool                 | Boolean   | +1 when the displayed sort was random, 0 when the normal sort order was displayed                                                                                                                                 |\n",
    "| comp*x*_rate                | Integer   | '*x*' denotes the competitor number. +1 if Expedia has a lower price than competitor 1 for the hotel; 0 if the same; -1 if Expedia’s price is higher than competitor 1; null signifies there is no competitive data |\n",
    "| comp*x*_inv                 | Integer   | '*x*' denotes the competitor number. +1 if competitor 1 does not have availability in the hotel; 0 if both Expedia and competitor 1 have availability; null signifies there is no competitive data                  |\n",
    "| comp*x*_rate_percent_diff   | Float     | '*x*' denotes the competitor number. The absolute percentage difference (if one exists) between Expedia and competitor 1’s price (Expedia’s price the denominator); null signifies there is no competitive data      |\n"
   ]
  },
  {
   "attachments": {},
   "cell_type": "markdown",
   "metadata": {
    "collapsed": false
   },
   "source": [
    "# Data Transformation"
   ]
  },
  {
   "cell_type": "code",
   "execution_count": 4,
   "metadata": {
    "ExecuteTime": {
     "end_time": "2023-05-20T15:10:42.769742700Z",
     "start_time": "2023-05-20T15:10:42.760980Z"
    },
    "collapsed": false
   },
   "outputs": [],
   "source": [
    "def create_features(df):\n",
    "    \"\"\"\n",
    "    Create the following new features: has_starrating, has_review_score, traveling_abroad, srch_prop_country_match, month, and day_of_week\n",
    "    \"\"\"\n",
    "    # has_starrating: boolean whether prop_starrating is 0 or null\n",
    "    df[\"has_starrating\"] = df[\"prop_starrating\"].isnull()\n",
    "    df[\"has_starrating\"] = df[\"has_starrating\"].astype(int)\n",
    "    df.loc[df[\"prop_starrating\"] == 0, \"has_starrating\"] = 1\n",
    "\n",
    "    # has_review_score: boolean whether prop_review_score is 0 or null\n",
    "    df[\"has_review_score\"] = df[\"prop_review_score\"].isnull()\n",
    "    df[\"has_review_score\"] = df[\"has_review_score\"].astype(int)\n",
    "    df.loc[df[\"prop_review_score\"] == 0, \"has_review_score\"] = 1\n",
    "\n",
    "    # traveling_abroad: boolean whether visitor_location_country_id != prop_country_id\n",
    "    df[\"traveling_abroad\"] = df[\"visitor_location_country_id\"] != df[\"prop_country_id\"]\n",
    "    df[\"traveling_abroad\"] = df[\"traveling_abroad\"].astype(int)\n",
    "\n",
    "    # srch_prop_country_match: boolean whether srch_destination_id == prop_country_id\n",
    "    df[\"srch_prop_country_match\"] = df[\"srch_destination_id\"] == df[\"prop_country_id\"]\n",
    "    df[\"srch_prop_country_match\"] = df[\"srch_prop_country_match\"].astype(int)\n",
    "\n",
    "    # month: month of the search, one-hot encoded\n",
    "    df[\"date_time\"] = pd.to_datetime(df[\"date_time\"])\n",
    "    df[\"month\"] = df[\"date_time\"].dt.month\n",
    "    df[\"month\"] = df[\"month\"].map({1: \"jan\", 2: \"feb\", 3: \"mar\", 4: \"apr\", 5: \"may\", 6: \"jun\", 7: \"jul\", 8: \"aug\", 9: \"sep\", 10: \"oct\", 11: \"nov\", 12: \"dec\"})\n",
    "    df = pd.get_dummies(df, columns=[\"month\"], dtype=int)\n",
    "    for col in [\"month_jan\", \"month_feb\", \"month_mar\", \"month_apr\", \"month_may\", \"month_jun\", \"month_jul\", \"month_aug\", \"month_sep\", \"month_oct\", \"month_nov\", \"month_dec\"]:\n",
    "        if col not in df.columns:\n",
    "            df[col] = 0\n",
    "\n",
    "    # day_of_week: day of the week of the search\n",
    "    df[\"day_of_week\"] = df[\"date_time\"].dt.dayofweek\n",
    "    df[\"day_of_week\"] = df[\"day_of_week\"].map({0: \"mon\", 1: \"tue\", 2: \"wed\", 3: \"thu\", 4: \"fri\", 5: \"sat\", 6: \"sun\"})\n",
    "    df = pd.get_dummies(df, columns=[\"day_of_week\"], dtype=int)\n",
    "    for col in [\"day_of_week_mon\", \"day_of_week_tue\", \"day_of_week_wed\", \"day_of_week_thu\", \"day_of_week_fri\", \"day_of_week_sat\", \"day_of_week_sun\"]:\n",
    "        if col not in df.columns:\n",
    "            df[col] = 0\n",
    "\n",
    "    return df"
   ]
  },
  {
   "cell_type": "code",
   "execution_count": 5,
   "metadata": {
    "ExecuteTime": {
     "end_time": "2023-05-20T15:10:42.786743100Z",
     "start_time": "2023-05-20T15:10:42.767659100Z"
    },
    "collapsed": false
   },
   "outputs": [],
   "source": [
    "def drop_nan_columns(df):\n",
    "    \"\"\"\n",
    "    Train data shows that \"visitor_hist_starrating\", \"visitor_hist_adr_usd\", \"srch_query_affinity_score\", and \"compx_rate_percent_diff\" have >90% NaN values. These values cannot be imputed accurately, so we drop these columns.\n",
    "    \"\"\"\n",
    "    cols = [\"visitor_hist_starrating\", \"visitor_hist_adr_usd\", \"srch_query_affinity_score\"] + [f\"comp{i}_rate_percent_diff\" for i in range(1, 9)]\n",
    "    df.drop(columns=cols, inplace=True)\n",
    "    return df"
   ]
  },
  {
   "cell_type": "code",
   "execution_count": 6,
   "metadata": {
    "ExecuteTime": {
     "end_time": "2023-05-20T15:10:42.786743100Z",
     "start_time": "2023-05-20T15:10:42.774356300Z"
    },
    "collapsed": false
   },
   "outputs": [],
   "source": [
    "def impute_missing_values(df):\n",
    "    \"\"\"\n",
    "    Impute missing values for the following columns: \"prop_starrating\", \"prop_review_score\", \"compx_rate\", and \"compx_inv\".\n",
    "\n",
    "    For \"prop_starrating\" and \"prop_review_score\", we replace 0 values with NaN and then impute the NaN values with the mean per srch_id. Remaining NaN values are then filled with 0.\n",
    "    For \"compx_rate\" and \"compx_inv\", we assume that missing data means that Expedia has the same price and equal availability as its competitors. We therefore impute the NaN values with 0.\n",
    "    \"\"\"\n",
    "    # Replace 0 values with NaN\n",
    "    df[\"prop_starrating\"] = df[\"prop_starrating\"].replace(0, np.nan)\n",
    "    df[\"prop_review_score\"] = df[\"prop_review_score\"].replace(0, np.nan)\n",
    "    # Impute NaN values with mean per srch_id\n",
    "    df[\"prop_starrating\"] = df.groupby(\"srch_id\")[\"prop_starrating\"].transform(lambda x: x.fillna(x.mean()))\n",
    "    df[\"prop_review_score\"] = df.groupby(\"srch_id\")[\"prop_review_score\"].transform(lambda x: x.fillna(x.mean()))\n",
    "    # Fill remaining NaN values with 0\n",
    "    df[\"prop_starrating\"] = df[\"prop_starrating\"].fillna(0)\n",
    "    df[\"prop_review_score\"] = df[\"prop_review_score\"].fillna(0)\n",
    "\n",
    "    # Impute NaN values with 0\n",
    "    for i in range(1, 9):\n",
    "        df[f\"comp{i}_rate\"] = df[f\"comp{i}_rate\"].fillna(0)\n",
    "        df[f\"comp{i}_inv\"] = df[f\"comp{i}_inv\"].fillna(0)\n",
    "\n",
    "    return df"
   ]
  },
  {
   "cell_type": "code",
   "execution_count": 7,
   "metadata": {
    "ExecuteTime": {
     "end_time": "2023-05-20T15:10:42.787757400Z",
     "start_time": "2023-05-20T15:10:42.780566400Z"
    },
    "collapsed": false
   },
   "outputs": [],
   "source": [
    "def compute_aggregated_values(df):\n",
    "    \"\"\"\n",
    "    Compute the mean, median and standard deviation for the following columns:\n",
    "    \"visitor_hist_starrating\", \"visitor_hist_adr_usd\", \"prop_starrating\", \"prop_review_score\", \"prop_location_score1\", \"prop_log_historical_price\", \"price_usd\"\n",
    "    \"\"\"\n",
    "    numerical_cols = [\"prop_starrating\", \"prop_review_score\", \"prop_location_score1\", \"prop_log_historical_price\", \"price_usd\"]\n",
    "    # srch_length_of_stay, srch_booking_window, srch_adults_count, srch_children_count, and srch_room_count are also numerical variables, but it has no use aggregating these values over prop_id.\n",
    "\n",
    "    agg_df = df.groupby(\"prop_id\").agg({col: [\"mean\", \"std\", \"median\"] for col in numerical_cols})\n",
    "    agg_df.columns = [\"_\".join(col) for col in agg_df.columns]\n",
    "    agg_df.fillna(0, inplace=True)  # Fill standard deviation NaN values with 0\n",
    "    for col in agg_df.columns:\n",
    "        df[col] = df[\"prop_id\"].map(agg_df[col])\n",
    "    return df"
   ]
  },
  {
   "cell_type": "code",
   "execution_count": 8,
   "metadata": {
    "ExecuteTime": {
     "end_time": "2023-05-20T15:10:42.803556400Z",
     "start_time": "2023-05-20T15:10:42.786743100Z"
    },
    "collapsed": false
   },
   "outputs": [],
   "source": [
    "def compute_relative_values(df):\n",
    "    \"\"\"\n",
    "    Subtract the mean per srch_id from the following columns:\n",
    "    \"prop_starrating\", \"prop_review_score\", \"prop_location_score1\", \"prop_log_historical_price\", \"price_usd\"\n",
    "\n",
    "    This is done so that the model can learn the relative values of these columns per srch_id.\n",
    "    \"\"\"\n",
    "    cols = [\"prop_starrating\", \"prop_review_score\", \"prop_location_score1\", \"prop_log_historical_price\", \"price_usd\"]\n",
    "    grouper = df.groupby('srch_id')\n",
    "    for col in cols:\n",
    "        df[col] = df[col] - grouper[col].transform('mean')\n",
    "    return df"
   ]
  },
  {
   "cell_type": "code",
   "execution_count": 9,
   "metadata": {
    "ExecuteTime": {
     "end_time": "2023-05-20T15:10:42.836086100Z",
     "start_time": "2023-05-20T15:10:42.792637300Z"
    },
    "collapsed": false
   },
   "outputs": [],
   "source": [
    "def drop_columns(df):\n",
    "    \"\"\"\n",
    "    Train data shows that for \"orig_destination_distance\" over 75% of the data with a calculated value lower than 0.95 of the largest distance was lower than 130, meaning that the distance per srch_id is roughly the same. We assume therefore that this is not a deciding factor for a customer in their booking process and drop this column.\n",
    "\n",
    "    Features were created from \"date_time\" and the column will not be used anymore, so we drop this column as well.\n",
    "\n",
    "    Columns containing IDs (\"site_id\", \"visitor_location_country_id\", \"prop_country_id\", \"prop_id\", and \"srch_destination_id\") are not used in the model, so we drop these columns as well. \"srch_id\" and \"prop_id\" will remain in the columns for now for later use.\n",
    "\n",
    "    If the supplied dataframe is the training dataframe, drop the unused target columns as well.\n",
    "\n",
    "    # TODO:\n",
    "    I don't really know what to do with \"prop_location_score2\" yet, so I'll drop it for now.\n",
    "    \"\"\"\n",
    "    df.drop(columns=[\"orig_destination_distance\"], inplace=True)\n",
    "    df.drop(columns=[\"date_time\"], inplace=True)\n",
    "    df.drop(columns=[\"site_id\", \"visitor_location_country_id\", \"prop_country_id\", \"srch_destination_id\"], inplace=True)\n",
    "    df.drop(columns=[\"prop_location_score2\"], inplace=True)\n",
    "    for col in [\"position\", \"gross_bookings_usd\"]:\n",
    "        if col in df.columns:\n",
    "            df.drop(columns=[col], inplace=True)\n",
    "    return df"
   ]
  },
  {
   "cell_type": "code",
   "execution_count": 10,
   "metadata": {
    "ExecuteTime": {
     "end_time": "2023-05-20T15:10:42.836086100Z",
     "start_time": "2023-05-20T15:10:42.799387700Z"
    },
    "collapsed": false
   },
   "outputs": [],
   "source": [
    "def process_data(train_df: pd.DataFrame, test_df: pd.DataFrame, target_value: str = \"booking_bool\"):\n",
    "    \"\"\"\n",
    "    Process the dataframes for training and testing the model.\n",
    "    :param train_df: The training dataframe\n",
    "    :param test_df: The test dataframe\n",
    "    :param target_value: The target value to use for training the model. Either \"booking_bool\" or \"both\".\n",
    "    :return: The processed dataframes\n",
    "    \"\"\"\n",
    "    # Create features\n",
    "    train_df = create_features(train_df)\n",
    "    test_df = create_features(test_df)\n",
    "\n",
    "    # Drop columns with NaN values\n",
    "    train_df = drop_nan_columns(train_df)\n",
    "    test_df = drop_nan_columns(test_df)\n",
    "\n",
    "    # Impute missing values\n",
    "    train_df = impute_missing_values(train_df)\n",
    "    test_df = impute_missing_values(test_df)\n",
    "\n",
    "    # Compute aggregated values\n",
    "    train_df = compute_aggregated_values(train_df)\n",
    "    test_df = compute_aggregated_values(test_df)\n",
    "\n",
    "    # Compute relative values\n",
    "    train_df = compute_relative_values(train_df)\n",
    "    test_df = compute_relative_values(test_df)\n",
    "\n",
    "    # Drop columns\n",
    "    train_df = drop_columns(train_df)\n",
    "    test_df = drop_columns(test_df)\n",
    "\n",
    "    # Split train data into features and target\n",
    "    if target_value == \"booking_bool\":\n",
    "        train_df[\"target\"] = train_df[\"booking_bool\"]\n",
    "    elif target_value == \"both\":\n",
    "        train_df[\"target\"] = 5*train_df[\"booking_bool\"] + train_df[\"click_bool\"]\n",
    "    else:\n",
    "        raise ValueError(\"target_value must be either 'booking_bool' or 'both'\")\n",
    "\n",
    "    train_df.drop(columns=[\"booking_bool\", \"click_bool\"], inplace=True)\n",
    "\n",
    "    return train_df, test_df"
   ]
  },
  {
   "attachments": {},
   "cell_type": "markdown",
   "metadata": {
    "collapsed": false
   },
   "source": [
    "### DataLoaders"
   ]
  },
  {
   "cell_type": "code",
   "execution_count": 11,
   "metadata": {
    "ExecuteTime": {
     "end_time": "2023-05-20T15:10:42.837111100Z",
     "start_time": "2023-05-20T15:10:42.806656Z"
    },
    "collapsed": false
   },
   "outputs": [],
   "source": [
    "class TrainDataset(Dataset):\n",
    "    def __init__(self, df):\n",
    "        self.data = df\n",
    "\n",
    "    def __getitem__(self, idx):\n",
    "        row = self.data[idx]\n",
    "        return row[\"srch_id\"], row[\"prop_id\"], torch.tensor(row[\"sequence\"].astype(np.float64)), row[\"target\"]\n",
    "\n",
    "    def __len__(self):\n",
    "        return len(self.data)"
   ]
  },
  {
   "cell_type": "code",
   "execution_count": 12,
   "metadata": {
    "ExecuteTime": {
     "end_time": "2023-05-20T15:10:42.837111100Z",
     "start_time": "2023-05-20T15:10:42.815915700Z"
    },
    "collapsed": false
   },
   "outputs": [],
   "source": [
    "class TestDataset(Dataset):\n",
    "    def __init__(self, df):\n",
    "        self.data = df\n",
    "\n",
    "    def __getitem__(self, idx):\n",
    "        row = self.data[idx]\n",
    "        return row[\"srch_id\"], row[\"prop_id\"], torch.tensor(row[\"sequence\"].astype(np.float64))\n",
    "\n",
    "    def __len__(self):\n",
    "        return len(self.data)"
   ]
  },
  {
   "cell_type": "code",
   "execution_count": 13,
   "metadata": {
    "ExecuteTime": {
     "end_time": "2023-05-20T15:10:42.837111100Z",
     "start_time": "2023-05-20T15:10:42.822834Z"
    },
    "collapsed": false
   },
   "outputs": [],
   "source": [
    "def generate_sequences(df: pd.DataFrame, kind: str = \"train\") -> dict:\n",
    "    \"\"\"\n",
    "    Generate sequences from the dataframe.\n",
    "    :param df: The dataframe to take the sequences from.\n",
    "    :param kind: The kind of dataframe. Either \"train\" or \"test\".\n",
    "    :return: Dictionary containing the sequences and targets for the training data.\n",
    "    \"\"\"\n",
    "    sequences = []\n",
    "    if kind == \"train\":\n",
    "        idx_dict = df.to_dict(\"index\")\n",
    "        df = df.drop(columns=[\"prop_id\", \"srch_id\", \"target\"])\n",
    "        for i, idx in enumerate(tqdm(idx_dict, desc=\"Train DataLoader\")):\n",
    "            sequences.append({\"srch_id\": idx_dict[idx][\"srch_id\"], \"prop_id\": idx_dict[idx][\"prop_id\"], \"sequence\": df.iloc[i].values, \"target\": idx_dict[idx][\"target\"]})\n",
    "    elif kind == \"test\":\n",
    "        idx_dict = df.to_dict(\"index\")\n",
    "        df = df.drop(columns=[\"prop_id\", \"srch_id\"])\n",
    "        for i, idx in enumerate(tqdm(idx_dict, desc=\"Train DataLoader\")):\n",
    "            sequences.append({\"srch_id\": idx_dict[idx][\"srch_id\"], \"prop_id\": idx_dict[idx][\"prop_id\"], \"sequence\": df.iloc[i].values})\n",
    "    else:\n",
    "        raise ValueError(\"kind must be either 'train' or 'test'\")\n",
    "    return sequences"
   ]
  },
  {
   "cell_type": "code",
   "execution_count": 14,
   "metadata": {
    "ExecuteTime": {
     "end_time": "2023-05-20T15:10:42.843838700Z",
     "start_time": "2023-05-20T15:10:42.835570400Z"
    },
    "collapsed": false
   },
   "outputs": [],
   "source": [
    "def create_dataloaders(train_df: pd.DataFrame, test_df: pd.DataFrame, target_value: str = \"booking_bool\", batch_size: int=1, train_validation_split: float=0.8, shuffle: bool=True, force_data_processing: bool = False) -> tuple[DataLoader, DataLoader, DataLoader]:\n",
    "    \"\"\"\n",
    "    Create dataloaders for the training, validation and test set.\n",
    "    :param train_df: The train dataframe.\n",
    "    :param test_df: The test dataframe.\n",
    "    :param target_value: The target value to use for training the model. Either \"booking_bool\" or \"both\".\n",
    "    :param batch_size: How many samples per batch to load.\n",
    "    :param train_validation_split: The percentage of the dataset to use for training.\n",
    "    :param shuffle: Set to True to have the data reshuffled at every epoch.\n",
    "    :param force_data_processing: Set to True to force the data to be processed again.\n",
    "    :return: Tuple containing the training, validation and test dataloaders.\n",
    "    \"\"\"\n",
    "    # The files 'final_train_set_booking_bool.pickle' and 'final_test_set_booking_bool.pickle' can be deleted, as they are not used anymore.\n",
    "    if os.path.exists(os.path.join('data', f'train_sequences_{target_value}.pickle')) \\\n",
    "            & os.path.exists(os.path.join('data', f'test_sequences_{target_value}.pickle')) \\\n",
    "            & (not force_data_processing):\n",
    "        with open(os.path.join('data', f'train_sequences_{target_value}.pickle'), 'rb') as f:\n",
    "            train_sequences = pickle.load(f)\n",
    "        with open(os.path.join('data', f'test_sequences_{target_value}.pickle'), 'rb') as f:\n",
    "            test_sequences = pickle.load(f)\n",
    "    else:\n",
    "        train_df, test_df = process_data(train_df, test_df, target_value=target_value)\n",
    "        train_sequences = generate_sequences(train_df, kind=\"train\")\n",
    "        with open(os.path.join('data', f'train_sequences_{target_value}.pickle'), 'wb') as f:\n",
    "            pickle.dump(train_sequences, f)\n",
    "        test_sequences = generate_sequences(test_df, kind=\"test\")\n",
    "        with open(os.path.join('data', f'test_sequences_{target_value}.pickle'), 'wb') as f:\n",
    "            pickle.dump(test_sequences, f)\n",
    "\n",
    "    train_dataset = TrainDataset(train_sequences)\n",
    "    train_size = int(train_validation_split * len(train_dataset))\n",
    "    val_size = len(train_dataset) - train_size\n",
    "    train_dataset, val_dataset = random_split(train_dataset, [train_size, val_size])\n",
    "\n",
    "    test_dataset = TestDataset(test_sequences)\n",
    "\n",
    "    train_dataloader = DataLoader(train_dataset, batch_size=batch_size, shuffle=shuffle)\n",
    "    val_dataloader = DataLoader(val_dataset, batch_size=batch_size, shuffle=shuffle)\n",
    "    test_dataloader = DataLoader(test_dataset, batch_size=batch_size, shuffle=shuffle)\n",
    "    return train_dataloader, val_dataloader, test_dataloader"
   ]
  },
  {
   "attachments": {},
   "cell_type": "markdown",
   "metadata": {
    "collapsed": false
   },
   "source": [
    "**Models**"
   ]
  },
  {
   "cell_type": "code",
   "execution_count": 15,
   "metadata": {
    "ExecuteTime": {
     "end_time": "2023-05-20T15:10:42.847425800Z",
     "start_time": "2023-05-20T15:10:42.840195400Z"
    }
   },
   "outputs": [],
   "source": [
    "# Relevant imports\n",
    "import torch\n",
    "import torch.nn as nn"
   ]
  },
  {
   "cell_type": "code",
   "execution_count": 16,
   "metadata": {
    "ExecuteTime": {
     "end_time": "2023-05-20T15:35:49.816195600Z",
     "start_time": "2023-05-20T15:34:24.271022100Z"
    }
   },
   "outputs": [],
   "source": [
    "# Load all data\n",
    "train_loader, dev_loader, test_loader = create_dataloaders(train_df, \n",
    "                                                           test_df,\n",
    "                                                           target_value=\"booking_bool\",\n",
    "                                                           batch_size=32,\n",
    "                                                           train_validation_split=0.8,\n",
    "                                                           shuffle=True,\n",
    "                                                           force_data_processing=True)\n",
    "\n",
    "for _, _, features, targets in train_loader:\n",
    "    print(f\"Training features shape: {features.size()}\")\n",
    "    print(f\"Training targets shape: {targets.size()}\")\n",
    "    break\n",
    "\n",
    "for _, _, features in test_loader:\n",
    "    print(f\"Testing features shape: {features.size()}\")\n",
    "    print(f\"Testing targets shape: {targets.size()}\")\n",
    "    break"
   ]
  },
  {
   "cell_type": "code",
   "execution_count": 17,
   "metadata": {},
   "outputs": [],
   "source": [
    "# Calculate NDCG@k score from file\n",
    "\n",
    "def NDCG_from_file(fn, data, k):\n",
    "    \"\"\"\n",
    "    Function to calculate the NDCG@k score from a txt file in the format specified in the assignment (two \n",
    "    columns, the left one containing the search IDs and the right one containing the PropertyIDs, sorted by\n",
    "    relevance)\n",
    "    \"\"\"\n",
    "    query_to_properties = {}\n",
    "    \n",
    "    # Fill the query-to-properties dictionary\n",
    "    with open(fn) as f:\n",
    "        lines = f.readlines()[1:] # Remove the header\n",
    "        for line in lines:\n",
    "            query_id, prop_id = line.split(\",\")\n",
    "            query_id, prop_id = int(query_id), int(prop_id)\n",
    "            if query_id not in query_to_properties.keys():\n",
    "                query_to_properties[query_id] = [prop_id]\n",
    "            else:\n",
    "                query_to_properties[query_id].append(prop_id)\n",
    "\n",
    "    NDCG_score = 0\n",
    "    for query_id, prop_ids in query_to_properties.items():\n",
    "        \n",
    "        # TODO: change this to match the correct query\n",
    "        data_query = data[query_id]\n",
    "\n",
    "        # Only select the first k properties\n",
    "        prop_selection = prop_ids[:k]\n",
    "\n",
    "        # TODO: Change \"scores\" to match the name of the column which keeps the scores (5 for booking, 1 for clicking)\n",
    "        true_scores = data.loc(data_query[\"prop_id\"] == prop_selection, \"scores\")\n",
    "    \n",
    "        # Calculate DCG@k (Discounted Cumulative Gain at k)\n",
    "        dcg = np.sum(true_scores / np.log2(np.arange(2, k+2)))\n",
    "        \n",
    "        # Sort the true scores in descending order\n",
    "        true_sorted_indices = np.argsort(data_query[\"scores\"])[::-1]\n",
    "        true_sorted_scores = np.array(data_query[\"scores\"])[true_sorted_indices]\n",
    "        \n",
    "        # Calculate ideal DCG@k\n",
    "        ideal_dcg = np.sum(true_sorted_scores[:k] / np.log2(np.arange(2, k+2)))\n",
    "        \n",
    "        # Calculate NDCG@k\n",
    "        NDCG_score += dcg / ideal_dcg if ideal_dcg > 0 else 0.0\n",
    "\n",
    "    return NDCG_score"
   ]
  },
  {
   "cell_type": "code",
   "execution_count": 18,
   "metadata": {},
   "outputs": [],
   "source": [
    "# Simple Neural model\n",
    "class RecommenderNet(nn.Module):\n",
    "    \"\"\"\n",
    "    Neural prediction model for predicting the probability that a user will buy \n",
    "    a room at a certain hotel.\n",
    "    \"\"\"\n",
    "    def __init__(self, num_features, hidden_size=64, dropout_bool=False):\n",
    "        super().__init__()\n",
    "        self.embedding = nn.Linear(num_features, hidden_size)\n",
    "        self.layer_norm = nn.LayerNorm(num_features)\n",
    "        self.dropout = nn.Dropout(0.5)\n",
    "        self.dropout_bool = dropout_bool\n",
    "\n",
    "        self.fc1 = nn.Linear(hidden_size, hidden_size//2)\n",
    "        self.fc2 = nn.Linear(hidden_size//2, hidden_size//4)\n",
    "        self.fc3 = nn.Linear(hidden_size//4, 1)\n",
    "\n",
    "    def forward(self, features):\n",
    "        x = self.layer_norm(features.float())\n",
    "        x = self.embedding(x)\n",
    "        x = nn.ReLU()(x)\n",
    "        if self.dropout_bool:\n",
    "            x = self.dropout(x)\n",
    "        \n",
    "        x = self.fc1(x)\n",
    "        x = nn.ReLU()(x)\n",
    "        if self.dropout_bool:\n",
    "            x = self.dropout(x)\n",
    "        \n",
    "        x = self.fc2(x)\n",
    "        x = nn.ReLU()(x)\n",
    "        if self.dropout_bool:\n",
    "            x = self.dropout(x)\n",
    "        \n",
    "        x = self.fc3(x)\n",
    "        \n",
    "        return x"
   ]
  },
  {
   "attachments": {},
   "cell_type": "markdown",
   "metadata": {},
   "source": [
    "_Training and testing code_"
   ]
  },
  {
   "cell_type": "code",
   "execution_count": 24,
   "metadata": {},
   "outputs": [],
   "source": [
    "import torch.optim as optim\n",
    "\n",
    "def train(model, criterion, num_epochs, learning_rate, train_loader, val_loader, device):\n",
    "    train_loss = []\n",
    "    val_loss = []    \n",
    "    optimizer = optim.Adam(model.parameters(), lr=learning_rate)\n",
    "\n",
    "    model = model.to(device)\n",
    "    criterion = criterion.to(device)\n",
    "\n",
    "    for epoch in range(num_epochs):\n",
    "        print(f\"Now training epoch {epoch}\")\n",
    "\n",
    "        # Training loop\n",
    "        running_train_loss = 0\n",
    "        for _, _, features, targets in tqdm(train_loader):\n",
    "            optimizer.zero_grad()\n",
    "            \n",
    "            outputs = model(features.squeeze().to(device))\n",
    "            loss = criterion(outputs.to(device).squeeze().float(), targets.to(device).squeeze().float())\n",
    "            loss.backward()\n",
    "\n",
    "            running_train_loss += loss.item()\n",
    "            \n",
    "            optimizer.step()\n",
    "\n",
    "        train_loss.append(running_train_loss)\n",
    "\n",
    "        # Validation loop\n",
    "        running_val_loss = 0\n",
    "        for _, _, features, targets in val_loader:\n",
    "            with torch.no_grad():\n",
    "                outputs = model(features.to(device))\n",
    "                loss = criterion(outputs.to(device).squeeze().float(), targets.to(device).squeeze().float())\n",
    "                running_val_loss += loss.item()\n",
    "\n",
    "        val_loss.append(running_val_loss)\n",
    "\n",
    "    return train_loss, val_loss\n",
    "\n",
    "\n",
    "def test_and_write(fn, model, loader):\n",
    "\n",
    "    srch_to_properties = {}\n",
    "    srch_to_probabilities = {}\n",
    "\n",
    "    for elem in tqdm(loader):\n",
    "        # Check if there are four elements in the dataloader (a feature vector and a label).\n",
    "        # If so, we have the validation set and need to extract the features accordingly\n",
    "        if len(elem) == 4:\n",
    "            search_ids, prop_ids, features, _ = elem\n",
    "        else:\n",
    "            search_ids, prop_ids, features = elem \n",
    "\n",
    "        for i, srch_id in enumerate(search_ids):\n",
    "            # Check if the current search id is not yet in the dictionaries\n",
    "            if srch_id.item() not in srch_to_properties.keys():\n",
    "                srch_to_properties[srch_id.item()] = []\n",
    "                srch_to_probabilities[srch_id.item()] = []\n",
    "\n",
    "            srch_to_properties[srch_id.item()].append(prop_ids[i])\n",
    "\n",
    "        model.eval()\n",
    "        with torch.no_grad():\n",
    "            # Don't take into account the search ID (first feature)\n",
    "            outputs = model(features.squeeze())\n",
    "            probabilities = torch.sigmoid(outputs.squeeze())\n",
    "\n",
    "        for i, srch_id in enumerate(search_ids):\n",
    "            srch_to_probabilities[srch_id.item()].append(probabilities[i])\n",
    "            \n",
    "    with open(fn, \"w\") as f:\n",
    "        f.write(\"srch_id,prop_id\\n\")\n",
    "        for srch_id, srch_probs in srch_to_probabilities.items():\n",
    "\n",
    "            # Get the order of the hotels based on the predicted probabilities\n",
    "            sorted_indices = torch.tensor(srch_probs).argsort(descending=True)\n",
    "            property_ids_sorted = np.array(srch_to_properties[srch_id])[np.array(sorted_indices)]\n",
    "\n",
    "            for s_id, p_id in zip([srch_id for _ in range(len(property_ids_sorted))],property_ids_sorted):\n",
    "                f.write(f\"{s_id},{p_id}\\n\")"
   ]
  },
  {
   "cell_type": "code",
   "execution_count": 29,
   "metadata": {},
   "outputs": [
    {
     "name": "stdout",
     "output_type": "stream",
     "text": [
      "Training on device: cpu\n",
      "Now training simple MLP model (without dropout)\n",
      "Now training epoch 0\n"
     ]
    },
    {
     "name": "stderr",
     "output_type": "stream",
     "text": []
    }
   ],
   "source": [
    "# Train simple NN model\n",
    "num_epochs = 50\n",
    "hidden_dim = 256\n",
    "num_features = 69\n",
    "learning_rate =  3e-4\n",
    "device = torch.device(\"cuda\" if torch.cuda.is_available() else \"cpu\")\n",
    "\n",
    "simple_nn_model = RecommenderNet(num_features, hidden_size=hidden_dim, dropout_bool=False)\n",
    "simple_nn_criterion = nn.BCEWithLogitsLoss()\n",
    "\n",
    "print(f\"Training on device: {device}\")\n",
    "print(f\"Now training simple MLP model (without dropout)\")\n",
    "nn_train_loss, nn_val_loss = train(simple_nn_model, simple_nn_criterion, num_epochs, learning_rate, train_loader, dev_loader, device)"
   ]
  },
  {
   "cell_type": "code",
   "execution_count": 21,
   "metadata": {},
   "outputs": [
    {
     "data": {
      "image/png": "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",
      "text/plain": [
       "<Figure size 640x480 with 1 Axes>"
      ]
     },
     "metadata": {},
     "output_type": "display_data"
    }
   ],
   "source": [
    "import matplotlib.pyplot as plt\n",
    "\n",
    "plt.plot(range(num_epochs), nn_train_loss)\n",
    "plt.xlabel(\"Number of epochs\")\n",
    "plt.ylabel(\"Training loss\")\n",
    "plt.savefig(\"simple_nn_training_loss.png\")\n",
    "plt.clf()\n",
    "\n",
    "plt.plot(range(num_epochs), nn_val_loss)\n",
    "plt.xlabel(\"Number of epochs\")\n",
    "plt.ylabel(\"Validation loss\")\n",
    "plt.savefig(\"simple_nn_validation_loss.png\")"
   ]
  },
  {
   "cell_type": "code",
   "execution_count": 25,
   "metadata": {},
   "outputs": [
    {
     "name": "stderr",
     "output_type": "stream",
     "text": [
      "100%|██████████| 39959/39959 [00:37<00:00, 1076.10it/s]\n",
      "100%|██████████| 199549/199549 [03:10<00:00, 1046.47it/s]\n"
     ]
    }
   ],
   "source": [
    "# Test and save results of simple NN model\n",
    "if not os.path.isdir(\"test_output\"):\n",
    "    os.makedirs(\"test_output\")\n",
    "\n",
    "# For validation set\n",
    "test_and_write(\"test_output/simple_nn_val.csv\", simple_nn_model, dev_loader)\n",
    "# And for testing set\n",
    "test_and_write(\"test_output/simple_nn_test.csv\", simple_nn_model, test_loader)"
   ]
  },
  {
   "cell_type": "code",
    },
    {
     "name": "stderr",
     "output_type": "stream",
     "text": []
    },
    {
     "name": "stdout",
     "output_type": "stream",
     "text": [
      "Now training epoch 2\n"
     ]
    },
    {
     "name": "stderr",
     "output_type": "stream",
     "text": []
    },
    {
     "name": "stdout",
     "output_type": "stream",
     "text": [
      "Now training epoch 3\n"
     ]
    },
    {
     "name": "stderr",
     "output_type": "stream",
     "text": []
    },
    {
     "name": "stdout",
     "output_type": "stream",
     "text": [
      "Now training epoch 4\n"
     ]
    },
    {
     "name": "stderr",
     "output_type": "stream",
     "text": []
    },
    {
     "name": "stdout",
     "output_type": "stream",
     "text": [
      "Now training epoch 5\n"
     ]
    },
    {
     "name": "stderr",
     "output_type": "stream",
     "text": []
    },
    {
     "name": "stdout",
     "output_type": "stream",
     "text": [
      "Now training epoch 6\n"
     ]
    },
    {
     "name": "stderr",
     "output_type": "stream",
     "text": []
    },
    {
     "name": "stdout",
     "output_type": "stream",
     "text": [
      "Now training epoch 7\n"
     ]
    },
    {
     "name": "stderr",
     "output_type": "stream",
     "text": []
    },
    {
     "name": "stdout",
     "output_type": "stream",
     "text": [
      "Now training epoch 8\n"
     ]
    },
    {
     "name": "stderr",
     "output_type": "stream",
     "text": []
    },
    {
     "name": "stdout",
     "output_type": "stream",
     "text": [
      "Now training epoch 9\n"
     ]
    },
    {
     "name": "stderr",
     "output_type": "stream",
     "text": []
    },
    {
     "name": "stdout",
     "output_type": "stream",
     "text": [
      "Now training epoch 10\n"
     ]
    },
    {
     "name": "stderr",
     "output_type": "stream",
     "text": []
    },
    {
     "name": "stdout",
     "output_type": "stream",
     "text": [
      "Now training epoch 11\n"
     ]
    },
    {
     "name": "stderr",
     "output_type": "stream",
     "text": []
    },
    {
     "name": "stdout",
     "output_type": "stream",
     "text": [
      "Now training epoch 12\n"
     ]
    },
    {
     "name": "stderr",
     "output_type": "stream",
     "text": []
    },
    {
     "name": "stdout",
     "output_type": "stream",
     "text": [
      "Now training epoch 13\n"
     ]
    },
    {
     "name": "stderr",
     "output_type": "stream",
     "text": []
    },
    {
     "name": "stdout",
     "output_type": "stream",
     "text": [
      "Now training epoch 14\n"
     ]
    },
    {
     "name": "stderr",
     "output_type": "stream",
     "text": []
    },
    {
     "name": "stdout",
     "output_type": "stream",
     "text": [
      "Now training epoch 15\n"
     ]
    },
    {
     "name": "stderr",
     "output_type": "stream",
     "text": []
    },
    {
     "name": "stdout",
     "output_type": "stream",
     "text": [
      "Now training epoch 16\n"
     ]
    },
    {
     "name": "stderr",
     "output_type": "stream",
     "text": []
    },
    {
     "name": "stdout",
     "output_type": "stream",
     "text": [
      "Now training epoch 17\n"
     ]
    },
    {
     "name": "stderr",
     "output_type": "stream",
     "text": []
    },
    {
     "name": "stdout",
     "output_type": "stream",
     "text": [
      "Now training epoch 18\n"
     ]
    },
    {
     "name": "stderr",
     "output_type": "stream",
     "text": []
    },
    {
     "name": "stdout",
     "output_type": "stream",
     "text": [
      "Now training epoch 19\n"
     ]
    },
    {
     "name": "stderr",
     "output_type": "stream",
     "text": []
    },
    {
     "name": "stdout",
     "output_type": "stream",
     "text": [
      "Now training epoch 20\n"
     ]
    },
    {
     "name": "stderr",
     "output_type": "stream",
     "text": []
    },
    {
     "name": "stdout",
     "output_type": "stream",
     "text": [
      "Now training epoch 21\n"
     ]
    },
    {
     "name": "stderr",
     "output_type": "stream",
     "text": []
    },
    {
     "name": "stdout",
     "output_type": "stream",
     "text": [
      "Now training epoch 22\n"
     ]
    },
    {
     "name": "stderr",
     "output_type": "stream",
     "text": []
    },
    {
     "name": "stdout",
     "output_type": "stream",
     "text": [
      "Now training epoch 23\n"
     ]
    },
    {
     "name": "stderr",
     "output_type": "stream",
     "text": []
    },
    {
     "name": "stdout",
     "output_type": "stream",
     "text": [
      "Now training epoch 24\n"
     ]
    },
    {
     "name": "stderr",
     "output_type": "stream",
     "text": []
    },
    {
     "name": "stdout",
     "output_type": "stream",
     "text": [
      "Now training epoch 25\n"
     ]
    },
    {
     "name": "stderr",
     "output_type": "stream",
     "text": []
    },
    {
     "name": "stdout",
     "output_type": "stream",
     "text": [
      "Now training epoch 26\n"
     ]
    },
    {
     "name": "stderr",
     "output_type": "stream",
     "text": []
    },
    {
     "name": "stdout",
     "output_type": "stream",
     "text": [
      "Now training epoch 27\n"
     ]
    },
    {
     "name": "stderr",
     "output_type": "stream",
     "text": []
    },
    {
     "name": "stdout",
     "output_type": "stream",
     "text": [
      "Now training epoch 28\n"
     ]
    },
    {
     "name": "stderr",
     "output_type": "stream",
     "text": []
    },
    {
     "name": "stdout",
     "output_type": "stream",
     "text": [
      "Now training epoch 29\n"
     ]
    },
    {
     "name": "stderr",
     "output_type": "stream",
     "text": []
    },
    {
     "name": "stdout",
     "output_type": "stream",
     "text": [
      "Now training epoch 30\n"
     ]
    },
    {
     "name": "stderr",
     "output_type": "stream",
     "text": []
    },
    {
     "name": "stdout",
     "output_type": "stream",
     "text": [
      "Now training epoch 31\n"
     ]
    },
    {
     "name": "stderr",
     "output_type": "stream",
     "text": []
    },
    {
     "name": "stdout",
     "output_type": "stream",
     "text": [
      "Now training epoch 32\n"
     ]
    },
    {
     "name": "stderr",
     "output_type": "stream",
     "text": []
    },
    {
     "name": "stdout",
     "output_type": "stream",
     "text": [
      "Now training epoch 33\n"
     ]
    },
    {
     "name": "stderr",
     "output_type": "stream",
     "text": []
    },
    {
     "name": "stdout",
     "output_type": "stream",
     "text": [
      "Now training epoch 34\n"
     ]
    },
    {
     "name": "stderr",
     "output_type": "stream",
     "text": []
    },
    {
     "name": "stdout",
     "output_type": "stream",
     "text": [
      "Now training epoch 35\n"
     ]
    },
    {
     "name": "stderr",
     "output_type": "stream",
     "text": []
    },
    {
     "name": "stdout",
     "output_type": "stream",
     "text": [
      "Now training epoch 36\n"
     ]
    },
    {
     "name": "stderr",
     "output_type": "stream",
     "text": []
    },
    {
     "name": "stdout",
     "output_type": "stream",
     "text": [
      "Now training epoch 37\n"
     ]
    },
    {
     "name": "stderr",
     "output_type": "stream",
     "text": []
    },
    {
     "name": "stdout",
     "output_type": "stream",
     "text": [
      "Now training epoch 38\n"
     ]
    },
    {
     "name": "stderr",
     "output_type": "stream",
     "text": []
    },
    {
     "name": "stdout",
     "output_type": "stream",
     "text": [
      "Now training epoch 39\n"
     ]
    },
    {
     "name": "stderr",
     "output_type": "stream",
     "text": []
    },
    {
     "name": "stdout",
     "output_type": "stream",
     "text": [
      "Now training epoch 40\n"
     ]
    },
    {
     "name": "stderr",
     "output_type": "stream",
     "text": []
    },
    {
     "name": "stdout",
     "output_type": "stream",
     "text": [
      "Now training epoch 41\n"
     ]
    },
    {
     "name": "stderr",
     "output_type": "stream",
     "text": []
    },
    {
     "name": "stdout",
     "output_type": "stream",
     "text": [
      "Now training epoch 42\n"
     ]
    },
    {
     "name": "stderr",
     "output_type": "stream",
     "text": []
    },
    {
     "name": "stdout",
     "output_type": "stream",
     "text": [
      "Now training epoch 43\n"
     ]
    },
    {
     "name": "stderr",
     "output_type": "stream",
     "text": []
    },
    {
     "name": "stdout",
     "output_type": "stream",
     "text": [
      "Now training epoch 44\n"
     ]
    },
    {
     "name": "stderr",
     "output_type": "stream",
     "text": []
    },
    {
     "name": "stdout",
     "output_type": "stream",
     "text": [
      "Now training epoch 45\n"
     ]
    },
    {
     "name": "stderr",
     "output_type": "stream",
     "text": []
    },
    {
     "name": "stdout",
     "output_type": "stream",
     "text": [
      "Now training epoch 46\n"
     ]
    },
    {
     "name": "stderr",
     "output_type": "stream",
     "text": []
    },
    {
     "name": "stdout",
     "output_type": "stream",
     "text": [
      "Now training epoch 47\n"
     ]
    },
    {
     "name": "stderr",
     "output_type": "stream",
     "text": []
    },
    {
     "name": "stdout",
     "output_type": "stream",
     "text": [
      "Now training epoch 48\n"
     ]
    },
    {
     "name": "stderr",
     "output_type": "stream",
     "text": []
    },
    {
     "name": "stdout",
     "output_type": "stream",
     "text": [
      "Now training epoch 49\n"
     ]
    },
    {
     "name": "stderr",
     "output_type": "stream",
     "text": [
      "100%|██████████| 125/125 [00:00<00:00, 400.28it/s]\n"
     ]
    }
   ],
   "source": [
    "# Train simple NN model\n",
    "num_epochs = 50\n",
    "hidden_dim = 128\n",
    "num_features = 68\n",
    "learning_rate =  3e-4\n",
    "device = torch.device(\"cuda\" if torch.cuda.is_available() else \"cpu\")\n",
    "\n",
    "simple_nn_model = RecommenderNet(num_features, hidden_size=hidden_dim, dropout_bool=False)\n",
    "simple_nn_criterion = nn.BCEWithLogitsLoss()\n",
    "\n",
    "print(f\"Training on device: {device}\")\n",
    "print(f\"Now training simple MLP model (without dropout)\")\n",
    "nn_train_loss, nn_val_loss = train(simple_nn_model, simple_nn_criterion, num_epochs, learning_rate, train_loader, dev_loader, device)"
   ]
  },
  {
   "cell_type": "code",
   "execution_count": 21,
   "metadata": {},
   "outputs": [
    {
     "data": {
      "image/png": "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",

      "text/plain": [
       "<Figure size 640x480 with 1 Axes>"
      ]
     },
     "metadata": {},
     "output_type": "display_data"
    }
   ],
   "source": [
    "import matplotlib.pyplot as plt\n",
    "\n",
    "if not os.path.isdir(\"plots\"):\n",
    "    os.makedirs(\"plots\")\n",
    "\n",
    "\n",
    "plt.plot(range(num_epochs), nn_train_loss)\n",
    "plt.xlabel(\"Number of epochs\")\n",
    "plt.ylabel(\"Training loss\")\n",
    "plt.savefig(\"plots/simple_nn_training_loss.png\")\n",
    "plt.clf()\n",
    "\n",
    "plt.plot(range(num_epochs), nn_val_loss)\n",
    "plt.xlabel(\"Number of epochs\")\n",
    "plt.ylabel(\"Validation loss\")\n",
    "plt.savefig(\"plots/simple_nn_validation_loss.png\")"
   ]
  },
  {
   "cell_type": "code",
   "execution_count": 22,
   "metadata": {},
   "outputs": [
    {
     "name": "stderr",
     "output_type": "stream",
     "text": [
      "100%|██████████| 32/32 [00:00<00:00, 614.83it/s]\n",
      "100%|██████████| 157/157 [00:00<00:00, 732.98it/s]\n"
     ]
    }
   ],
   "source": [
    "# Test and save results of simple NN model\n",
    "if not os.path.isdir(\"test_output\"):\n",
    "    os.makedirs(\"test_output\")\n",
    "\n",
    "# For validation set\n",
    "# TODO: When running for real, uncomment the real data\n",
    "# test_and_write(\"test_output/simple_nn_val.csv\", simple_nn_model, dev_loader)\n",
    "test_and_write(\"test_output/dummy_val.csv\", simple_nn_model, dev_loader)\n",
    "# And for testing set\n",
    "# test_and_write(\"test_output/simple_nn_test.csv\", simple_nn_model, test_loader)\n",
    "test_and_write(\"test_output/dummy_test.csv\", simple_nn_model, test_loader)"
   ]
  },
  {
   "cell_type": "code",
   "execution_count": 23,
   "metadata": {},
   "outputs": [],
   "source": [
    "# simple_nn_model_dropout = RecommenderNet(num_features, hidden_size=hidden_dim, dropout_bool=True)\n",
    "# simple_nn_criterion_dropout = nn.BCEWithLogitsLoss()\n",
    "\n",
    "# print(f\"Now training simple MLP model (with dropout)\")\n",
    "# nn_train_loss_dropout, nn_val_loss_dropout = train(simple_nn_model_dropout, simple_nn_criterion_dropout, num_epochs, learning_rate, train_loader, dev_loader, device)"
   ]
  },
  {
   "cell_type": "code",
   "execution_count": 24,
   "metadata": {},
   "outputs": [],
   "source": [
    "# import matplotlib.pyplot as plt\n",
    "\n",
    "# plt.plot(range(num_epochs), nn_train_loss_dropout)\n",
    "# plt.xlabel(\"Number of epochs\")\n",
    "# plt.ylabel(\"Training loss\")\n",
    "# plt.savefig(\"simple_nn_training_loss_dropout.png\")\n",
    "# plt.clf()\n",
    "\n",
    "# plt.plot(range(num_epochs), nn_val_loss_dropout)\n",
    "# plt.xlabel(\"Number of epochs\")\n",
    "# plt.ylabel(\"Validation loss\")\n",
    "# plt.savefig(\"simple_nn_validation_loss_dropout.png\")"
   ]
  },
  {
   "cell_type": "code",
   "execution_count": 25,
   "metadata": {},
   "outputs": [],
   "source": [
    "# # Also save results for the dropout model\n",
    "# # For validation set\n",
    "# test_and_write(\"test_output/simple_nn_dropout_val.csv\", simple_nn_model_dropout, dev_loader)\n",
    "# # And for testing set\n",
    "# test_and_write(\"test_output/simple_nn_dropout_test.csv\", simple_nn_model_dropout, test_loader)"
   ]
  },
  {
   "cell_type": "code",
   "execution_count": 26,
   "metadata": {},
   "outputs": [],
   "source": [
    "# Calculate NDCG score for validation set\n",
    "# nn_score = NDCG_from_file(\"simple_nn_val.txt\", train_df, 5)\n",
    "# print(f\"NDGC score for the simple MLP (on validation set): {nn_score}\")"
   ]
  }
 ],
 "metadata": {
  "kernelspec": {
   "display_name": "Python 3",
   "language": "python",
   "name": "python3"
  },
  "language_info": {
   "codemirror_mode": {
    "name": "ipython",
    "version": 3
   },
   "file_extension": ".py",
   "mimetype": "text/x-python",
   "name": "python",
   "nbconvert_exporter": "python",
   "pygments_lexer": "ipython3",
   "version": "3.10.10"
  }
 },
 "nbformat": 4,
 "nbformat_minor": 0
}
