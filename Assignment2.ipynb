{
 "cells": [
  {
   "cell_type": "code",
   "execution_count": 1,
   "outputs": [],
   "source": [
    "# Import the required libraries\n",
    "import os\n",
    "import zipfile\n",
    "import pandas as pd\n",
    "import numpy as np"
   ],
   "metadata": {
    "collapsed": false,
    "ExecuteTime": {
     "end_time": "2023-05-10T13:39:33.150211Z",
     "start_time": "2023-05-10T13:39:32.566840300Z"
    }
   }
  },
  {
   "cell_type": "code",
   "execution_count": 2,
   "outputs": [],
   "source": [
    "# Check if the data is already downloaded and extracted, if not, do so\n",
    "if not all([os.path.exists(os.path.join('data', 'submission_sample.csv')),\n",
    "            os.path.exists(os.path.join('data', 'test_set_VU_DM.csv')),\n",
    "            os.path.exists(os.path.join('data', 'training_set_VU_DM.csv'))]):\n",
    "    with zipfile.ZipFile(os.path.join('data', 'data.zip'), 'r') as zip_ref:\n",
    "        print('Extracting files from zip file')\n",
    "        zip_ref.extractall('data')"
   ],
   "metadata": {
    "collapsed": false,
    "ExecuteTime": {
     "end_time": "2023-05-10T13:40:14.137362Z",
     "start_time": "2023-05-10T13:39:33.152529300Z"
    }
   }
  },
  {
   "cell_type": "code",
   "execution_count": 3,
   "outputs": [
    {
     "name": "stdout",
     "output_type": "stream",
     "text": [
      "Train data contains 4,958,347 rows and 54 columns\n",
      "Test data contains 4,959,183 rows and 50 columns\n"
     ]
    }
   ],
   "source": [
    "# Load the data into pandas dataframes\n",
    "# Note: the data is quite large, so this may take a while\n",
    "train_df = pd.read_csv(os.path.join('data', 'training_set_VU_DM.csv'))\n",
    "test_df = pd.read_csv(os.path.join('data', 'test_set_VU_DM.csv'))\n",
    "submission_sample_df = pd.read_csv(os.path.join('data', 'submission_sample.csv'))"
   ],
   "metadata": {
    "collapsed": false,
    "ExecuteTime": {
     "end_time": "2023-05-10T13:40:14.152661800Z",
     "start_time": "2023-05-10T13:40:14.142519900Z"
    }
   }
  }
 ],
 "metadata": {
  "kernelspec": {
   "display_name": "Python 3",
   "language": "python",
   "name": "python3"
  },
  "language_info": {
   "codemirror_mode": {
    "name": "ipython",
    "version": 2
   },
   "file_extension": ".py",
   "mimetype": "text/x-python",
   "name": "python",
   "nbconvert_exporter": "python",
   "pygments_lexer": "ipython2",
   "version": "2.7.6"
  }
 },
 "nbformat": 4,
 "nbformat_minor": 0
}
