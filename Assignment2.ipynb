{
 "cells": [
  {
   "cell_type": "code",
   "execution_count": 41,
   "metadata": {
    "ExecuteTime": {
     "end_time": "2023-05-20T15:10:35.501279500Z",
     "start_time": "2023-05-20T15:10:32.476616600Z"
    },
    "collapsed": false
   },
   "outputs": [],
   "source": [
    "# Import the required libraries\n",
    "import os\n",
    "import pandas as pd\n",
    "import numpy as np\n",
    "from torch.utils.data import DataLoader, Dataset, random_split\n",
    "from tqdm import tqdm\n",
    "import pickle"
   ]
  },
  {
   "cell_type": "code",
   "execution_count": 42,
   "metadata": {
    "ExecuteTime": {
     "end_time": "2023-05-20T15:10:40.780006700Z",
     "start_time": "2023-05-20T15:10:35.506504300Z"
    },
    "collapsed": false
   },
   "outputs": [],
   "source": [
    "# Load the data into pandas dataframes. The data has to be manually saved to a folder called 'data'.\n",
    "# Note: the data is quite large, so this may take a while (~40 seconds) if the data is read as a csv. To speed up further file reading, it is converted to pickle format.\n",
    "# if (os.path.exists(os.path.join('data', 'training_set_VU_DM.pickle'))\n",
    "#     & os.path.exists((os.path.join('data', 'test_set_VU_DM.pickle')))):\n",
    "#     train_df = pd.read_pickle(os.path.join('data', 'training_set_VU_DM.pickle'))\n",
    "#     test_df = pd.read_pickle(os.path.join('data', 'test_set_VU_DM.pickle'))\n",
    "# else:\n",
    "#     train_df = pd.read_csv(os.path.join('data', 'training_set_VU_DM.csv'))\n",
    "#     test_df = pd.read_csv(os.path.join('data', 'test_set_VU_DM.csv'))\n",
    "#     train_df.to_pickle(os.path.join('data', 'training_set_VU_DM.pickle'))\n",
    "#     test_df.to_pickle(os.path.join('data', 'test_set_VU_DM.pickle'))\n",
    "\n",
    "train_df = pd.read_csv(os.path.join('data', 'dummy_training.csv'))\n",
    "test_df = pd.read_csv(os.path.join('data', 'dummy_testing.csv'))"
   ]
  },
  {
   "cell_type": "code",
   "execution_count": 43,
   "metadata": {
    "ExecuteTime": {
     "end_time": "2023-05-20T15:10:42.755325900Z",
     "start_time": "2023-05-20T15:10:40.819803800Z"
    },
    "collapsed": false
   },
   "outputs": [
    {
     "name": "stdout",
     "output_type": "stream",
     "text": [
      "Period of data collection: 2012/11/01 - 2013/06/29\n",
      "Train data contains 4,999 rows and 54 columns\n",
      "Test data contains 4,999 rows and 50 columns\n",
      "\n",
      "Train data:\n",
      "Number of unique search IDs: 207\n",
      "Number of unique property IDs: 4,602\n",
      "Number of clicks per search: avg. 1.09, std. 0.21\n",
      "Number of bookings per search: avg. 0.66, std. 0.16\n",
      "\n",
      "Test data:\n",
      "Number of unique search IDs: 194\n",
      "Number of unique property IDs: 4,551\n"
     ]
    }
   ],
   "source": [
    "print(f\"Period of data collection: {pd.to_datetime(train_df['date_time']).min().strftime('%Y/%m/%d')} - {pd.to_datetime(train_df['date_time']).max().strftime('%Y/%m/%d')}\")\n",
    "print(f\"Train data contains {train_df.shape[0]:,} rows and {train_df.shape[1]} columns\")\n",
    "print(f\"Test data contains {test_df.shape[0]:,} rows and {test_df.shape[1]} columns\")\n",
    "print()\n",
    "print(f\"Train data:\")\n",
    "print(f\"Number of unique search IDs: {len(train_df['srch_id'].unique()):,}\")\n",
    "print(f\"Number of unique property IDs: {len(train_df['prop_id'].unique()):,}\")\n",
    "print(f\"Number of clicks per search: avg. {train_df['click_bool'].sum() / len(train_df['srch_id'].unique()):.2f}, std. {train_df['click_bool'].std():.2f}\")\n",
    "print(f\"Number of bookings per search: avg. {train_df['booking_bool'].sum() / len(train_df['srch_id'].unique()):.2f}, std. {train_df['booking_bool'].std():.2f}\")\n",
    "print()\n",
    "print(f\"Test data:\")\n",
    "print(f\"Number of unique search IDs: {len(test_df['srch_id'].unique()):,}\")\n",
    "print(f\"Number of unique property IDs: {len(test_df['prop_id'].unique()):,}\")"
   ]
  },
  {
   "attachments": {},
   "cell_type": "markdown",
   "metadata": {
    "collapsed": false
   },
   "source": [
    "### Data Columns"
   ]
  },
  {
   "attachments": {},
   "cell_type": "markdown",
   "metadata": {
    "collapsed": false
   },
   "source": [
    "| Column Name                 | Data Type | Description                                                                                                                                                                                                       |\n",
    "|-----------------------------|-----------|-------------------------------------------------------------------------------------------------------------------------------------------------------------------------------------------------------------------|\n",
    "| position                    | Integer   | Hotel position on Expedia's search results page. This is only provided for the training data, but not the test data.                                                                                              |\n",
    "| gross_booking_usd           | Float     | Total value of the transaction. This can differ from the price_usd due to taxes, fees, conventions on multiple day bookings and purchase of a room type other than the one shown in the search                    |\n",
    "| click_bool                  | Boolean   | 1 if the user clicked on the property, 0 if not.                                                                                              |\n",
    "| booking_bool                | Boolean   | 1 if the user booked the property, 0 if not.                    |\n",
    "|                             |           ||\n",
    "| srch_id                     | Integer   | The ID of the search                                                                                                                                                                                              |\n",
    "| date_time                   | Date/time | Date and time of the search                                                                                                                                                                                       |\n",
    "| site_id                     | Integer   | ID of the Expedia point of sale (i.e. Expedia.com, Expedia.co.uk, Expedia.co.jp, ..)                                                                                                                              |\n",
    "| visitor_location_country_id | Integer   | The ID of the country the customer is located                                                                                                                                                                     |\n",
    "| visitor_hist_starrating     | Float     | The mean star rating of hotels the customer has previously purchased; null signifies there is no purchase history on the customer                                                                                 |\n",
    "| visitor_hist_adr_usd        | Float     | The mean price per night (in US$) of the hotels the customer has previously purchased; null signifies there is no purchase history on the customer                                                                |\n",
    "| prop_country_id             | Integer   | The ID of the country the hotel is located in                                                                                                                                                                     |\n",
    "| prop_id                     | Integer   | The ID of the hotel                                                                                                                                                                                               |\n",
    "| prop_starrating             | Integer   | The star rating of the hotel, from 1 to 5, in increments of 1. A 0 indicates the property has no stars, the star rating is not known or cannot be publicized.                                                     |\n",
    "| prop_review_score           | Float     | The mean customer review score for the hotel on a scale out of 5, rounded to 0.5 increments. A 0 means there have been no reviews, null that the information is not available.                                    |\n",
    "| prop_brand_bool             | Integer   | +1 if the hotel is part of a major hotel chain; 0 if it is an independent hotel                                                                                                                                   |\n",
    "| prop_location_score1        | Float     | A (first) score outlining the desirability of a hotel’s location                                                                                                                                                  |\n",
    "| prop_location_score2        | Float     | A (second) score outlining the desirability of the hotel’s location                                                                                                                                               |\n",
    "| prop_log_historical_price   | Float     | The logarithm of the mean price of the hotel over the last trading period. A 0 will occur if the hotel was not sold in that period.                                                                               |\n",
    "| price_usd                   | Float     | Displayed price of the hotel for the given search. Note that different countries have different conventions regarding displaying taxes and fees and the value may be per night or for the whole stay              |\n",
    "| promotion_flag              | Integer   | +1 if the hotel had a sale price promotion specifically displayed                                                                                                                                                 |\n",
    "| srch_destination_id         | Integer   | ID of the destination where the hotel search was performed                                                                                                                                                        |\n",
    "| srch_length_of_stay         | Integer   | Number of nights stay that was searched                                                                                                                                                                           |\n",
    "| srch_booking_window         | Integer   | Number of days in the future the hotel stay started from the search date                                                                                                                                          |\n",
    "| srch_adults_count           | Integer   | The number of adults specified in the hotel room                                                                                                                                                                  |\n",
    "| srch_children_count         | Integer   | The number of (extra occupancy) children specified in the hotel room                                                                                                                                              |\n",
    "| srch_room_count             | Integer   | Number of hotel rooms specified in the search                                                                                                                                                                     |\n",
    "| srch_saturday_night_bool    | Boolean   | +1 if the stay includes a Saturday night, starts from Thursday with a length of stay is less than or equal to 4 nights (i.e. weekend); otherwise 0                                                                |\n",
    "| srch_query_affinity_score   | Float     | The log of the probability a hotel will be clicked on in Internet searches (hence the values are negative)  A null signifies there are no data (i.e. hotel did not register in any searches)                      |\n",
    "| orig_destination_distance   | Float     | Physical distance between the hotel and the customer at the time of search. A null means the distance could not be calculated.                                                                                    |\n",
    "| random_bool                 | Boolean   | +1 when the displayed sort was random, 0 when the normal sort order was displayed                                                                                                                                 |\n",
    "| comp*x*_rate                | Integer   | '*x*' denotes the competitor number. +1 if Expedia has a lower price than competitor 1 for the hotel; 0 if the same; -1 if Expedia’s price is higher than competitor 1; null signifies there is no competitive data |\n",
    "| comp*x*_inv                 | Integer   | '*x*' denotes the competitor number. +1 if competitor 1 does not have availability in the hotel; 0 if both Expedia and competitor 1 have availability; null signifies there is no competitive data                  |\n",
    "| comp*x*_rate_percent_diff   | Float     | '*x*' denotes the competitor number. The absolute percentage difference (if one exists) between Expedia and competitor 1’s price (Expedia’s price the denominator); null signifies there is no competitive data      |\n"
   ]
  },
  {
   "attachments": {},
   "cell_type": "markdown",
   "metadata": {
    "collapsed": false
   },
   "source": [
    "# Data Transformation"
   ]
  },
  {
   "cell_type": "code",
   "execution_count": 44,
   "metadata": {
    "ExecuteTime": {
     "end_time": "2023-05-20T15:10:42.769742700Z",
     "start_time": "2023-05-20T15:10:42.760980Z"
    },
    "collapsed": false
   },
   "outputs": [],
   "source": [
    "def create_features(df):\n",
    "    \"\"\"\n",
    "    Create the following new features: has_starrating, has_review_score, traveling_abroad, srch_prop_country_match, month, and day_of_week\n",
    "    \"\"\"\n",
    "    # has_starrating: boolean whether prop_starrating is 0 or null\n",
    "    df[\"has_starrating\"] = df[\"prop_starrating\"].isnull()\n",
    "    df[\"has_starrating\"] = df[\"has_starrating\"].astype(int)\n",
    "    df.loc[df[\"prop_starrating\"] == 0, \"has_starrating\"] = 1\n",
    "\n",
    "    # has_review_score: boolean whether prop_review_score is 0 or null\n",
    "    df[\"has_review_score\"] = df[\"prop_review_score\"].isnull()\n",
    "    df[\"has_review_score\"] = df[\"has_review_score\"].astype(int)\n",
    "    df.loc[df[\"prop_review_score\"] == 0, \"has_review_score\"] = 1\n",
    "\n",
    "    # traveling_abroad: boolean whether visitor_location_country_id != prop_country_id\n",
    "    df[\"traveling_abroad\"] = df[\"visitor_location_country_id\"] != df[\"prop_country_id\"]\n",
    "    df[\"traveling_abroad\"] = df[\"traveling_abroad\"].astype(int)\n",
    "\n",
    "    # srch_prop_country_match: boolean whether srch_destination_id == prop_country_id\n",
    "    df[\"srch_prop_country_match\"] = df[\"srch_destination_id\"] == df[\"prop_country_id\"]\n",
    "    df[\"srch_prop_country_match\"] = df[\"srch_prop_country_match\"].astype(int)\n",
    "\n",
    "    # month: month of the search, one-hot encoded\n",
    "    df[\"date_time\"] = pd.to_datetime(df[\"date_time\"])\n",
    "    df[\"month\"] = df[\"date_time\"].dt.month\n",
    "    df[\"month\"] = df[\"month\"].map({1: \"jan\", 2: \"feb\", 3: \"mar\", 4: \"apr\", 5: \"may\", 6: \"jun\", 7: \"jul\", 8: \"aug\", 9: \"sep\", 10: \"oct\", 11: \"nov\", 12: \"dec\"})\n",
    "    df = pd.get_dummies(df, columns=[\"month\"], dtype=int)\n",
    "    for col in [\"month_jan\", \"month_feb\", \"month_mar\", \"month_apr\", \"month_may\", \"month_jun\", \"month_jul\", \"month_aug\", \"month_sep\", \"month_oct\", \"month_nov\", \"month_dec\"]:\n",
    "        if col not in df.columns:\n",
    "            df[col] = 0\n",
    "\n",
    "    # day_of_week: day of the week of the search\n",
    "    df[\"day_of_week\"] = df[\"date_time\"].dt.dayofweek\n",
    "    df[\"day_of_week\"] = df[\"day_of_week\"].map({0: \"mon\", 1: \"tue\", 2: \"wed\", 3: \"thu\", 4: \"fri\", 5: \"sat\", 6: \"sun\"})\n",
    "    df = pd.get_dummies(df, columns=[\"day_of_week\"], dtype=int)\n",
    "    for col in [\"day_of_week_mon\", \"day_of_week_tue\", \"day_of_week_wed\", \"day_of_week_thu\", \"day_of_week_fri\", \"day_of_week_sat\", \"day_of_week_sun\"]:\n",
    "        if col not in df.columns:\n",
    "            df[col] = 0\n",
    "\n",
    "    return df"
   ]
  },
  {
   "cell_type": "code",
   "execution_count": 45,
   "metadata": {
    "ExecuteTime": {
     "end_time": "2023-05-20T15:10:42.786743100Z",
     "start_time": "2023-05-20T15:10:42.767659100Z"
    },
    "collapsed": false
   },
   "outputs": [],
   "source": [
    "def drop_nan_columns(df):\n",
    "    \"\"\"\n",
    "    Train data shows that \"visitor_hist_starrating\", \"visitor_hist_adr_usd\", \"srch_query_affinity_score\", and \"compx_rate_percent_diff\" have >90% NaN values. These values cannot be imputed accurately, so we drop these columns.\n",
    "    \"\"\"\n",
    "    cols = [\"visitor_hist_starrating\", \"visitor_hist_adr_usd\", \"srch_query_affinity_score\"] + [f\"comp{i}_rate_percent_diff\" for i in range(1, 9)]\n",
    "    df.drop(columns=cols, inplace=True)\n",
    "    return df"
   ]
  },
  {
   "cell_type": "code",
   "execution_count": 46,
   "metadata": {
    "ExecuteTime": {
     "end_time": "2023-05-20T15:10:42.786743100Z",
     "start_time": "2023-05-20T15:10:42.774356300Z"
    },
    "collapsed": false
   },
   "outputs": [],
   "source": [
    "def impute_missing_values(df):\n",
    "    \"\"\"\n",
    "    Impute missing values for the following columns: \"prop_starrating\", \"prop_review_score\", \"compx_rate\", and \"compx_inv\".\n",
    "\n",
    "    For \"prop_starrating\" and \"prop_review_score\", we replace 0 values with NaN and then impute the NaN values with the mean per srch_id. Remaining NaN values are then filled with 0.\n",
    "    For \"compx_rate\" and \"compx_inv\", we assume that missing data means that Expedia has the same price and equal availability as its competitors. We therefore impute the NaN values with 0.\n",
    "    \"\"\"\n",
    "    # Replace 0 values with NaN\n",
    "    df[\"prop_starrating\"] = df[\"prop_starrating\"].replace(0, np.nan)\n",
    "    df[\"prop_review_score\"] = df[\"prop_review_score\"].replace(0, np.nan)\n",
    "    # Impute NaN values with mean per srch_id\n",
    "    df[\"prop_starrating\"] = df.groupby(\"srch_id\")[\"prop_starrating\"].transform(lambda x: x.fillna(x.mean()))\n",
    "    df[\"prop_review_score\"] = df.groupby(\"srch_id\")[\"prop_review_score\"].transform(lambda x: x.fillna(x.mean()))\n",
    "    # Fill remaining NaN values with 0\n",
    "    df[\"prop_starrating\"] = df[\"prop_starrating\"].fillna(0)\n",
    "    df[\"prop_review_score\"] = df[\"prop_review_score\"].fillna(0)\n",
    "\n",
    "    # Impute NaN values with 0\n",
    "    for i in range(1, 9):\n",
    "        df[f\"comp{i}_rate\"] = df[f\"comp{i}_rate\"].fillna(0)\n",
    "        df[f\"comp{i}_inv\"] = df[f\"comp{i}_inv\"].fillna(0)\n",
    "\n",
    "    return df"
   ]
  },
  {
   "cell_type": "code",
   "execution_count": 47,
   "metadata": {
    "ExecuteTime": {
     "end_time": "2023-05-20T15:10:42.787757400Z",
     "start_time": "2023-05-20T15:10:42.780566400Z"
    },
    "collapsed": false
   },
   "outputs": [],
   "source": [
    "def compute_aggregated_values(df):\n",
    "    \"\"\"\n",
    "    Compute the mean, median and standard deviation for the following columns:\n",
    "    \"visitor_hist_starrating\", \"visitor_hist_adr_usd\", \"prop_starrating\", \"prop_review_score\", \"prop_location_score1\", \"prop_log_historical_price\", \"price_usd\"\n",
    "    \"\"\"\n",
    "    numerical_cols = [\"prop_starrating\", \"prop_review_score\", \"prop_location_score1\", \"prop_log_historical_price\", \"price_usd\"]\n",
    "    # srch_length_of_stay, srch_booking_window, srch_adults_count, srch_children_count, and srch_room_count are also numerical variables, but it has no use aggregating these values over prop_id.\n",
    "\n",
    "    agg_df = df.groupby(\"prop_id\").agg({col: [\"mean\", \"std\", \"median\"] for col in numerical_cols})\n",
    "    agg_df.columns = [\"_\".join(col) for col in agg_df.columns]\n",
    "    agg_df.fillna(0, inplace=True)  # Fill standard deviation NaN values with 0\n",
    "    for col in agg_df.columns:\n",
    "        df[col] = df[\"prop_id\"].map(agg_df[col])\n",
    "    return df"
   ]
  },
  {
   "cell_type": "code",
   "execution_count": 48,
   "metadata": {
    "ExecuteTime": {
     "end_time": "2023-05-20T15:10:42.803556400Z",
     "start_time": "2023-05-20T15:10:42.786743100Z"
    },
    "collapsed": false
   },
   "outputs": [],
   "source": [
    "def compute_relative_values(df):\n",
    "    \"\"\"\n",
    "    Subtract the mean per srch_id from the following columns:\n",
    "    \"prop_starrating\", \"prop_review_score\", \"prop_location_score1\", \"prop_log_historical_price\", \"price_usd\"\n",
    "\n",
    "    This is done so that the model can learn the relative values of these columns per srch_id.\n",
    "    \"\"\"\n",
    "    cols = [\"prop_starrating\", \"prop_review_score\", \"prop_location_score1\", \"prop_log_historical_price\", \"price_usd\"]\n",
    "    grouper = df.groupby('srch_id')\n",
    "    for col in cols:\n",
    "        df[col] = df[col] - grouper[col].transform('mean')\n",
    "    return df"
   ]
  },
  {
   "cell_type": "code",
   "execution_count": 49,
   "metadata": {
    "ExecuteTime": {
     "end_time": "2023-05-20T15:10:42.836086100Z",
     "start_time": "2023-05-20T15:10:42.792637300Z"
    },
    "collapsed": false
   },
   "outputs": [],
   "source": [
    "def drop_columns(df):\n",
    "    \"\"\"\n",
    "    Train data shows that for \"orig_destination_distance\" over 75% of the data with a calculated value lower than 0.95 of the largest distance was lower than 130, meaning that the distance per srch_id is roughly the same. We assume therefore that this is not a deciding factor for a customer in their booking process and drop this column.\n",
    "\n",
    "    Features were created from \"date_time\" and the column will not be used anymore, so we drop this column as well.\n",
    "\n",
    "    Columns containing IDs (\"site_id\", \"visitor_location_country_id\", \"prop_country_id\", \"prop_id\", and \"srch_destination_id\") are not used in the model, so we drop these columns as well. \"srch_id\" and \"prop_id\" will remain in the columns for now for later use.\n",
    "\n",
    "    If the supplied dataframe is the training dataframe, drop the unused target columns as well.\n",
    "\n",
    "    # TODO:\n",
    "    I don't really know what to do with \"prop_location_score2\" yet, so I'll drop it for now.\n",
    "    \"\"\"\n",
    "    df.drop(columns=[\"orig_destination_distance\"], inplace=True)\n",
    "    df.drop(columns=[\"date_time\"], inplace=True)\n",
    "    df.drop(columns=[\"site_id\", \"visitor_location_country_id\", \"prop_country_id\", \"srch_destination_id\"], inplace=True)\n",
    "    df.drop(columns=[\"prop_location_score2\"], inplace=True)\n",
    "    for col in [\"position\", \"gross_bookings_usd\"]:\n",
    "        if col in df.columns:\n",
    "            df.drop(columns=[col], inplace=True)\n",
    "    return df"
   ]
  },
  {
   "cell_type": "code",
   "execution_count": 50,
   "metadata": {
    "ExecuteTime": {
     "end_time": "2023-05-20T15:10:42.836086100Z",
     "start_time": "2023-05-20T15:10:42.799387700Z"
    },
    "collapsed": false
   },
   "outputs": [],
   "source": [
    "def process_data(train_df: pd.DataFrame, test_df: pd.DataFrame, target_value: str = \"booking_bool\"):\n",
    "    \"\"\"\n",
    "    Process the dataframes for training and testing the model.\n",
    "    :param train_df: The training dataframe\n",
    "    :param test_df: The test dataframe\n",
    "    :param target_value: The target value to use for training the model. Either \"booking_bool\" or \"both\".\n",
    "    :return: The processed dataframes\n",
    "    \"\"\"\n",
    "    # Create features\n",
    "    train_df = create_features(train_df)\n",
    "    test_df = create_features(test_df)\n",
    "\n",
    "    # Drop columns with NaN values\n",
    "    train_df = drop_nan_columns(train_df)\n",
    "    test_df = drop_nan_columns(test_df)\n",
    "\n",
    "    # Impute missing values\n",
    "    train_df = impute_missing_values(train_df)\n",
    "    test_df = impute_missing_values(test_df)\n",
    "\n",
    "    # Compute aggregated values\n",
    "    train_df = compute_aggregated_values(train_df)\n",
    "    test_df = compute_aggregated_values(test_df)\n",
    "\n",
    "    # Compute relative values\n",
    "    train_df = compute_relative_values(train_df)\n",
    "    test_df = compute_relative_values(test_df)\n",
    "\n",
    "    # Drop columns\n",
    "    train_df = drop_columns(train_df)\n",
    "    test_df = drop_columns(test_df)\n",
    "\n",
    "    # Split train data into features and target\n",
    "    if target_value == \"booking_bool\":\n",
    "        train_df[\"target\"] = train_df[\"booking_bool\"]\n",
    "    elif target_value == \"both\":\n",
    "        train_df[\"target\"] = 5*train_df[\"booking_bool\"] + train_df[\"click_bool\"]\n",
    "    else:\n",
    "        raise ValueError(\"target_value must be either 'booking_bool' or 'both'\")\n",
    "\n",
    "    train_df.drop(columns=[\"booking_bool\", \"click_bool\"], inplace=True)\n",
    "\n",
    "    return train_df, test_df"
   ]
  },
  {
   "attachments": {},
   "cell_type": "markdown",
   "metadata": {
    "collapsed": false
   },
   "source": [
    "### DataLoaders"
   ]
  },
  {
   "cell_type": "code",
   "execution_count": 51,
   "metadata": {
    "ExecuteTime": {
     "end_time": "2023-05-20T15:10:42.837111100Z",
     "start_time": "2023-05-20T15:10:42.806656Z"
    },
    "collapsed": false
   },
   "outputs": [],
   "source": [
    "class TrainDataset(Dataset):\n",
    "    def __init__(self, df):\n",
    "        self.data = df\n",
    "\n",
    "    def __getitem__(self, idx):\n",
    "        row = self.data[idx]\n",
    "        return row[\"srch_id\"], row[\"prop_id\"], torch.tensor(row[\"sequence\"].astype(np.float64)), row[\"target\"]\n",
    "\n",
    "    def __len__(self):\n",
    "        return len(self.data)"
   ]
  },
  {
   "cell_type": "code",
   "execution_count": 52,
   "metadata": {
    "ExecuteTime": {
     "end_time": "2023-05-20T15:10:42.837111100Z",
     "start_time": "2023-05-20T15:10:42.815915700Z"
    },
    "collapsed": false
   },
   "outputs": [],
   "source": [
    "class TestDataset(Dataset):\n",
    "    def __init__(self, df):\n",
    "        self.data = df\n",
    "\n",
    "    def __getitem__(self, idx):\n",
    "        row = self.data[idx]\n",
    "        return row[\"srch_id\"], row[\"prop_id\"], torch.tensor(row[\"sequence\"].astype(np.float64))\n",
    "\n",
    "    def __len__(self):\n",
    "        return len(self.data)"
   ]
  },
  {
   "cell_type": "code",
   "execution_count": 53,
   "metadata": {
    "ExecuteTime": {
     "end_time": "2023-05-20T15:10:42.837111100Z",
     "start_time": "2023-05-20T15:10:42.822834Z"
    },
    "collapsed": false
   },
   "outputs": [],
   "source": [
    "def generate_sequences(df: pd.DataFrame, kind: str = \"train\") -> dict:\n",
    "    \"\"\"\n",
    "    Generate sequences from the dataframe.\n",
    "    :param df: The dataframe to take the sequences from.\n",
    "    :param kind: The kind of dataframe. Either \"train\" or \"test\".\n",
    "    :return: Dictionary containing the sequences and targets for the training data.\n",
    "    \"\"\"\n",
    "    sequences = []\n",
    "    if kind == \"train\":\n",
    "        idx_dict = df.to_dict(\"index\")\n",
    "        df = df.drop(columns=[\"prop_id\", \"srch_id\"])\n",
    "        for i, idx in enumerate(tqdm(idx_dict, desc=\"Train DataLoader\")):\n",
    "            sequences.append({\"srch_id\": idx_dict[idx][\"srch_id\"], \"prop_id\": idx_dict[idx][\"prop_id\"], \"sequence\": df.iloc[i].values, \"target\": idx_dict[idx][\"target\"]})\n",
    "    elif kind == \"test\":\n",
    "        idx_dict = df.to_dict(\"index\")\n",
    "        df = df.drop(columns=[\"prop_id\", \"srch_id\"])\n",
    "        for i, idx in enumerate(tqdm(idx_dict, desc=\"Train DataLoader\")):\n",
    "            sequences.append({\"srch_id\": idx_dict[idx][\"srch_id\"], \"prop_id\": idx_dict[idx][\"prop_id\"], \"sequence\": df.iloc[i].values})\n",
    "    else:\n",
    "        raise ValueError(\"kind must be either 'train' or 'test'\")\n",
    "    return sequences"
   ]
  },
  {
   "cell_type": "code",
   "execution_count": 54,
   "metadata": {
    "ExecuteTime": {
     "end_time": "2023-05-20T15:10:42.843838700Z",
     "start_time": "2023-05-20T15:10:42.835570400Z"
    },
    "collapsed": false
   },
   "outputs": [],
   "source": [
    "def create_dataloaders(train_df: pd.DataFrame, test_df: pd.DataFrame, target_value: str = \"booking_bool\", batch_size: int=1, train_validation_split: float=0.8, shuffle: bool=True, force_data_processing: bool = False) -> tuple[DataLoader, DataLoader, DataLoader]:\n",
    "    \"\"\"\n",
    "    Create dataloaders for the training, validation and test set.\n",
    "    :param train_df: The train dataframe.\n",
    "    :param test_df: The test dataframe.\n",
    "    :param target_value: The target value to use for training the model. Either \"booking_bool\" or \"both\".\n",
    "    :param batch_size: How many samples per batch to load.\n",
    "    :param train_validation_split: The percentage of the dataset to use for training.\n",
    "    :param shuffle: Set to True to have the data reshuffled at every epoch.\n",
    "    :param force_data_processing: Set to True to force the data to be processed again.\n",
    "    :return: Tuple containing the training, validation and test dataloaders.\n",
    "    \"\"\"\n",
    "    # The files 'final_train_set_booking_bool.pickle' and 'final_test_set_booking_bool.pickle' can be deleted, as they are not used anymore.\n",
    "    if os.path.exists(os.path.join('data', f'train_sequences_{target_value}.pickle')) \\\n",
    "            & os.path.exists(os.path.join('data', f'test_sequences_{target_value}.pickle')) \\\n",
    "            & (not force_data_processing):\n",
    "        with open(os.path.join('data', f'train_sequences_{target_value}.pickle'), 'rb') as f:\n",
    "            train_sequences = pickle.load(f)\n",
    "        with open(os.path.join('data', f'test_sequences_{target_value}.pickle'), 'rb') as f:\n",
    "            test_sequences = pickle.load(f)\n",
    "    else:\n",
    "        train_df, test_df = process_data(train_df, test_df, target_value=target_value)\n",
    "        train_sequences = generate_sequences(train_df, kind=\"train\")\n",
    "        with open(os.path.join('data', f'train_sequences_{target_value}.pickle'), 'wb') as f:\n",
    "            pickle.dump(train_sequences, f)\n",
    "        test_sequences = generate_sequences(test_df, kind=\"test\")\n",
    "        with open(os.path.join('data', f'test_sequences_{target_value}.pickle'), 'wb') as f:\n",
    "            pickle.dump(test_sequences, f)\n",
    "\n",
    "    train_dataset = TrainDataset(train_sequences)\n",
    "    train_size = int(train_validation_split * len(train_dataset))\n",
    "    val_size = len(train_dataset) - train_size\n",
    "    train_dataset, val_dataset = random_split(train_dataset, [train_size, val_size])\n",
    "\n",
    "    test_dataset = TestDataset(test_sequences)\n",
    "\n",
    "    train_dataloader = DataLoader(train_dataset, batch_size=batch_size, shuffle=shuffle)\n",
    "    val_dataloader = DataLoader(val_dataset, batch_size=batch_size, shuffle=shuffle)\n",
    "    test_dataloader = DataLoader(test_dataset, batch_size=batch_size, shuffle=shuffle)\n",
    "    return train_dataloader, val_dataloader, test_dataloader"
   ]
  },
  {
   "attachments": {},
   "cell_type": "markdown",
   "metadata": {
    "collapsed": false
   },
   "source": [
    "**Models**"
   ]
  },
  {
   "cell_type": "code",
   "execution_count": 55,
   "metadata": {
    "ExecuteTime": {
     "end_time": "2023-05-20T15:10:42.847425800Z",
     "start_time": "2023-05-20T15:10:42.840195400Z"
    }
   },
   "outputs": [],
   "source": [
    "# Relevant imports\n",
    "import torch\n",
    "import torch.nn as nn"
   ]
  },
  {
   "cell_type": "code",
   "execution_count": 56,
   "metadata": {
    "ExecuteTime": {
     "end_time": "2023-05-20T15:35:49.816195600Z",
     "start_time": "2023-05-20T15:34:24.271022100Z"
    }
   },
   "outputs": [],
   "source": [
    "# Load all data\n",
    "train_loader, dev_loader, test_loader = create_dataloaders(train_df, \n",
    "                                                           test_df,\n",
    "                                                           target_value=\"booking_bool\",\n",
    "                                                           batch_size=32,\n",
    "                                                           train_validation_split=0.8,\n",
    "                                                           shuffle=True,\n",
    "                                                           force_data_processing=False)\n",
    "\n",
    "for _, _, features, targets in train_loader:\n",
    "    print(f\"Training features shape: {features.size()}\")\n",
    "    print(f\"Training targets shape: {targets.size()}\")\n",
    "    break\n",
    "\n",
    "for _, _, features in test_loader:\n",
    "    print(f\"Testing features shape: {features.size()}\")\n",
    "    print(f\"Testing targets shape: {targets.size()}\")\n",
    "    break"
   ]
  },
  {
   "cell_type": "code",
   "execution_count": 57,
   "metadata": {
    "ExecuteTime": {
     "end_time": "2023-05-20T13:37:11.227874400Z",
     "start_time": "2023-05-20T13:37:11.226855800Z"
    }
   },
   "outputs": [],
   "source": [
    "# Calculate NDCG@k score from file\n",
    "\n",
    "def NDCG_from_file(fn, data, k):\n",
    "    \"\"\"\n",
    "    Function to calculate the NDCG@k score from a txt file in the format specified in the assignment (two \n",
    "    columns, the left one containing the search IDs and the right one containing the PropertyIDs, sorted by\n",
    "    relevance)\n",
    "    \"\"\"\n",
    "    query_to_properties = {}\n",
    "    \n",
    "    # Fill the query-to-properties dictionary\n",
    "    with open(fn) as f:\n",
    "        lines = f.readlines()[1:] # Remove the header\n",
    "        for line in lines:\n",
    "            query_id, prop_id = line.split(\",\")\n",
    "            query_id, prop_id = int(query_id), int(prop_id)\n",
    "            if query_id not in query_to_properties.keys():\n",
    "                query_to_properties[query_id] = [prop_id]\n",
    "            else:\n",
    "                query_to_properties[query_id].append(prop_id)\n",
    "\n",
    "    NDCG_score = 0\n",
    "    for query_id, prop_ids in query_to_properties.items():\n",
    "        \n",
    "        # TODO: change this to match the correct query\n",
    "        data_query = data[query_id]\n",
    "\n",
    "        # Only select the first k properties\n",
    "        prop_selection = prop_ids[:k]\n",
    "\n",
    "        # TODO: Change \"scores\" to match the name of the column which keeps the scores (5 for booking, 1 for clicking)\n",
    "        true_scores = data.loc(data_query[\"prop_id\"] == prop_selection, \"scores\")\n",
    "    \n",
    "        # Calculate DCG@k (Discounted Cumulative Gain at k)\n",
    "        dcg = np.sum(true_scores / np.log2(np.arange(2, k+2)))\n",
    "        \n",
    "        # Sort the true scores in descending order\n",
    "        true_sorted_indices = np.argsort(data_query[\"scores\"])[::-1]\n",
    "        true_sorted_scores = np.array(data_query[\"scores\"])[true_sorted_indices]\n",
    "        \n",
    "        # Calculate ideal DCG@k\n",
    "        ideal_dcg = np.sum(true_sorted_scores[:k] / np.log2(np.arange(2, k+2)))\n",
    "        \n",
    "        # Calculate NDCG@k\n",
    "        NDCG_score += dcg / ideal_dcg if ideal_dcg > 0 else 0.0\n",
    "\n",
    "    return NDCG_score"
   ]
  },
  {
   "cell_type": "code",
   "execution_count": 58,
   "metadata": {
    "ExecuteTime": {
     "end_time": "2023-05-20T13:37:11.228891200Z",
     "start_time": "2023-05-20T13:37:11.227874400Z"
    }
   },
   "outputs": [],
   "source": [
    "# Simple Neural model\n",
    "class RecommenderNet(nn.Module):\n",
    "    \"\"\"\n",
    "    Neural prediction model for predicting the probability that a user will buy \n",
    "    a room at a certain hotel.\n",
    "    \"\"\"\n",
    "    def __init__(self, num_features, hidden_size=64, dropout_bool=False):\n",
    "        super().__init__()\n",
    "        self.embedding = nn.Linear(num_features, hidden_size)\n",
    "        self.layer_norm = nn.LayerNorm(num_features)\n",
    "        self.dropout = nn.Dropout(0.5)\n",
    "        self.dropout_bool = dropout_bool\n",
    "\n",
    "        self.fc1 = nn.Linear(hidden_size, hidden_size//2)\n",
    "        self.fc2 = nn.Linear(hidden_size//2, hidden_size//4)\n",
    "        self.fc3 = nn.Linear(hidden_size//4, 1)\n",
    "\n",
    "    def forward(self, features):\n",
    "        x = self.layer_norm(features.float())\n",
    "        x = self.embedding(x)\n",
    "        x = nn.ReLU()(x)\n",
    "        if self.dropout_bool:\n",
    "            x = self.dropout(x)\n",
    "        \n",
    "        x = self.fc1(x)\n",
    "        x = nn.ReLU()(x)\n",
    "        if self.dropout_bool:\n",
    "            x = self.dropout(x)\n",
    "        \n",
    "        x = self.fc2(x)\n",
    "        x = nn.ReLU()(x)\n",
    "        if self.dropout_bool:\n",
    "            x = self.dropout(x)\n",
    "        \n",
    "        x = self.fc3(x)\n",
    "        \n",
    "        return x"
   ]
  },
  {
   "attachments": {},
   "cell_type": "markdown",
   "metadata": {},
   "source": [
    "_Training and testing code_"
   ]
  },
  {
   "cell_type": "code",
   "execution_count": 59,
   "metadata": {
    "ExecuteTime": {
     "end_time": "2023-05-20T13:37:11.247518700Z",
     "start_time": "2023-05-20T13:37:11.232008200Z"
    }
   },
   "outputs": [],
   "source": [
    "import torch.optim as optim\n",
    "\n",
    "def train(model, criterion, num_epochs, learning_rate, train_loader, val_loader, device):\n",
    "    train_loss = []\n",
    "    val_loss = []    \n",
    "    optimizer = optim.Adam(model.parameters(), lr=learning_rate)\n",
    "\n",
    "    model = model.to(device)\n",
    "    criterion = criterion.to(device)\n",
    "\n",
    "    for epoch in range(num_epochs):\n",
    "        print(f\"Now training epoch {epoch}\")\n",
    "\n",
    "        # Training loop\n",
    "        running_train_loss = 0\n",
    "        for _, _, features, targets in tqdm(train_loader):\n",
    "            optimizer.zero_grad()\n",
    "            \n",
    "            outputs = model(features.squeeze().to(device))\n",
    "            loss = criterion(outputs.to(device).squeeze().float(), targets.to(device).squeeze().float())\n",
    "            loss.backward()\n",
    "\n",
    "            running_train_loss += loss.item()\n",
    "            \n",
    "            optimizer.step()\n",
    "\n",
    "        train_loss.append(running_train_loss)\n",
    "\n",
    "        # Validation loop\n",
    "        running_val_loss = 0\n",
    "        for _, _, features, targets in val_loader:\n",
    "            with torch.no_grad():\n",
    "                outputs = model(features.to(device))\n",
    "                loss = criterion(outputs.to(device).squeeze().float(), targets.to(device).squeeze().float())\n",
    "                running_val_loss += loss.item()\n",
    "\n",
    "        val_loss.append(running_val_loss)\n",
    "\n",
    "    return train_loss, val_loss\n",
    "\n",
    "\n",
    "def test_and_write(fn, model, loader):\n",
    "\n",
    "    srch_to_properties = {}\n",
    "    srch_to_probabilities = {}\n",
    "\n",
    "    for elem in tqdm(loader):\n",
    "        # Check if there are four elements in the dataloader (a feature vector and a label).\n",
    "        # If so, we have the validation set and need to extract the features accordingly\n",
    "        if len(elem) == 4:\n",
    "            search_ids, prop_ids, features, _ = elem\n",
    "        else:\n",
    "            search_ids, prop_ids, features = elem \n",
    "\n",
    "        for i, srch_id in enumerate(search_ids):\n",
    "            # Check if the current search id is not yet in the dictionaries\n",
    "            if srch_id.item() not in srch_to_properties.keys():\n",
    "                srch_to_properties[srch_id.item()] = []\n",
    "                srch_to_probabilities[srch_id.item()] = []\n",
    "\n",
    "            srch_to_properties[srch_id.item()].append(prop_ids[i])\n",
    "\n",
    "        model.eval()\n",
    "        with torch.no_grad():\n",
    "            # Don't take into account the search ID (first feature)\n",
    "            outputs = model(features.squeeze())\n",
    "            probabilities = torch.sigmoid(outputs.squeeze())\n",
    "\n",
    "        for i, srch_id in enumerate(search_ids):\n",
    "            srch_to_probabilities[srch_id.item()].append(probabilities[i])\n",
    "\n",
    "        #     sorted_indices = probabilities.argsort(descending=True)\n",
    "\n",
    "        # property_ids = prop_ids.squeeze()[sorted_indices]\n",
    "            \n",
    "    with open(fn, \"w\") as f:\n",
    "        f.write(\"srch_id,prop_id\\n\")\n",
    "        for srch_id, srch_probs in srch_to_probabilities.items():\n",
    "            sorted_indices = torch.tensor(srch_probs).argsort(descending=True)\n",
    "            property_ids_sorted = np.array(srch_to_properties[srch_id])[np.array(sorted_indices)]\n",
    "\n",
    "            for s_id, p_id in zip([srch_id for _ in range(len(property_ids_sorted))],property_ids_sorted):\n",
    "                f.write(f\"{s_id},{p_id}\\n\")"
   ]
  },
  {
   "cell_type": "code",
   "execution_count": 60,
   "metadata": {
    "ExecuteTime": {
     "end_time": "2023-05-20T13:37:13.718480200Z",
     "start_time": "2023-05-20T13:37:11.339782100Z"
    }
   },
   "outputs": [
    {
     "name": "stdout",
     "output_type": "stream",
     "text": [
      "Training on device: cpu\n",
      "Now training simple MLP model (without dropout)\n",
      "Now training epoch 0\n"
     ]
    },
    {
     "name": "stderr",
     "output_type": "stream",
     "text": [
      "100%|██████████| 125/125 [00:00<00:00, 369.49it/s]\n"
     ]
    }
   ],
   "source": [
    "# Train simple NN model\n",
    "num_epochs = 1\n",
    "hidden_dim = 128\n",
    "num_features = 69\n",
    "learning_rate =  3e-4\n",
    "device = torch.device(\"cuda\" if torch.cuda.is_available() else \"cpu\")\n",
    "\n",
    "simple_nn_model = RecommenderNet(num_features, hidden_size=hidden_dim, dropout_bool=False)\n",
    "simple_nn_criterion = nn.BCEWithLogitsLoss()\n",
    "\n",
    "print(f\"Training on device: {device}\")\n",
    "print(f\"Now training simple MLP model (without dropout)\")\n",
    "nn_train_loss, nn_val_loss = train(simple_nn_model, simple_nn_criterion, num_epochs, learning_rate, train_loader, dev_loader, device)"
   ]
  },
  {
   "cell_type": "code",
   "execution_count": 61,
   "metadata": {},
   "outputs": [
    {
     "data": {
      "image/png": "[encoded data removed]",
      "text/plain": [
       "<Figure size 640x480 with 1 Axes>"
      ]
     },
     "metadata": {},
     "output_type": "display_data"
    }
   ],
   "source": [
    "import matplotlib.pyplot as plt\n",
    "\n",
    "plt.plot(range(num_epochs), nn_train_loss)\n",
    "plt.xlabel(\"Number of epochs\")\n",
    "plt.ylabel(\"Training loss\")\n",
    "plt.savefig(\"simple_nn_training_loss.png\")\n",
    "plt.clf()\n",
    "\n",
    "plt.plot(range(num_epochs), nn_val_loss)\n",
    "plt.xlabel(\"Number of epochs\")\n",
    "plt.ylabel(\"Validation loss\")\n",
    "plt.savefig(\"simple_nn_validation_loss.png\")"
   ]
  },
  {
   "cell_type": "code",
   "execution_count": 62,
   "metadata": {},
   "outputs": [
    {
     "name": "stderr",
     "output_type": "stream",
     "text": [
      "100%|██████████| 32/32 [00:00<00:00, 626.89it/s]\n",
      "  0%|          | 0/157 [00:00<?, ?it/s]\n"
     ]
    },
    {
     "ename": "RuntimeError",
     "evalue": "Given normalized_shape=[69], expected input with shape [*, 69], but got input of size[32, 68]",
     "output_type": "error",
     "traceback": [
      "\u001b[1;31m---------------------------------------------------------------------------\u001b[0m",
      "\u001b[1;31mRuntimeError\u001b[0m                              Traceback (most recent call last)",
      "Cell \u001b[1;32mIn[62], line 8\u001b[0m\n\u001b[0;32m      6\u001b[0m test_and_write(\u001b[39m\"\u001b[39m\u001b[39mtest_output/dummy_val.csv\u001b[39m\u001b[39m\"\u001b[39m, simple_nn_model, dev_loader)\n\u001b[0;32m      7\u001b[0m \u001b[39m# And for testing set\u001b[39;00m\n\u001b[1;32m----> 8\u001b[0m test_and_write(\u001b[39m\"\u001b[39;49m\u001b[39mtest_output/dummy_test.csv\u001b[39;49m\u001b[39m\"\u001b[39;49m, simple_nn_model, test_loader)\n",
      "Cell \u001b[1;32mIn[59], line 66\u001b[0m, in \u001b[0;36mtest_and_write\u001b[1;34m(fn, model, loader)\u001b[0m\n\u001b[0;32m     63\u001b[0m model\u001b[39m.\u001b[39meval()\n\u001b[0;32m     64\u001b[0m \u001b[39mwith\u001b[39;00m torch\u001b[39m.\u001b[39mno_grad():\n\u001b[0;32m     65\u001b[0m     \u001b[39m# Don't take into account the search ID (first feature)\u001b[39;00m\n\u001b[1;32m---> 66\u001b[0m     outputs \u001b[39m=\u001b[39m model(features\u001b[39m.\u001b[39;49msqueeze())\n\u001b[0;32m     67\u001b[0m     probabilities \u001b[39m=\u001b[39m torch\u001b[39m.\u001b[39msigmoid(outputs\u001b[39m.\u001b[39msqueeze())\n\u001b[0;32m     69\u001b[0m \u001b[39mfor\u001b[39;00m i, srch_id \u001b[39min\u001b[39;00m \u001b[39menumerate\u001b[39m(search_ids):\n",
      "File \u001b[1;32mc:\\Users\\Cyproxius\\anaconda3\\envs\\dmt\\lib\\site-packages\\torch\\nn\\modules\\module.py:1130\u001b[0m, in \u001b[0;36mModule._call_impl\u001b[1;34m(self, *input, **kwargs)\u001b[0m\n\u001b[0;32m   1126\u001b[0m \u001b[39m# If we don't have any hooks, we want to skip the rest of the logic in\u001b[39;00m\n\u001b[0;32m   1127\u001b[0m \u001b[39m# this function, and just call forward.\u001b[39;00m\n\u001b[0;32m   1128\u001b[0m \u001b[39mif\u001b[39;00m \u001b[39mnot\u001b[39;00m (\u001b[39mself\u001b[39m\u001b[39m.\u001b[39m_backward_hooks \u001b[39mor\u001b[39;00m \u001b[39mself\u001b[39m\u001b[39m.\u001b[39m_forward_hooks \u001b[39mor\u001b[39;00m \u001b[39mself\u001b[39m\u001b[39m.\u001b[39m_forward_pre_hooks \u001b[39mor\u001b[39;00m _global_backward_hooks\n\u001b[0;32m   1129\u001b[0m         \u001b[39mor\u001b[39;00m _global_forward_hooks \u001b[39mor\u001b[39;00m _global_forward_pre_hooks):\n\u001b[1;32m-> 1130\u001b[0m     \u001b[39mreturn\u001b[39;00m forward_call(\u001b[39m*\u001b[39m\u001b[39minput\u001b[39m, \u001b[39m*\u001b[39m\u001b[39m*\u001b[39mkwargs)\n\u001b[0;32m   1131\u001b[0m \u001b[39m# Do not call functions when jit is used\u001b[39;00m\n\u001b[0;32m   1132\u001b[0m full_backward_hooks, non_full_backward_hooks \u001b[39m=\u001b[39m [], []\n",
      "Cell \u001b[1;32mIn[58], line 19\u001b[0m, in \u001b[0;36mRecommenderNet.forward\u001b[1;34m(self, features)\u001b[0m\n\u001b[0;32m     18\u001b[0m \u001b[39mdef\u001b[39;00m \u001b[39mforward\u001b[39m(\u001b[39mself\u001b[39m, features):\n\u001b[1;32m---> 19\u001b[0m     x \u001b[39m=\u001b[39m \u001b[39mself\u001b[39;49m\u001b[39m.\u001b[39;49mlayer_norm(features\u001b[39m.\u001b[39;49mfloat())\n\u001b[0;32m     20\u001b[0m     x \u001b[39m=\u001b[39m \u001b[39mself\u001b[39m\u001b[39m.\u001b[39membedding(x)\n\u001b[0;32m     21\u001b[0m     x \u001b[39m=\u001b[39m nn\u001b[39m.\u001b[39mReLU()(x)\n",
      "File \u001b[1;32mc:\\Users\\Cyproxius\\anaconda3\\envs\\dmt\\lib\\site-packages\\torch\\nn\\modules\\module.py:1130\u001b[0m, in \u001b[0;36mModule._call_impl\u001b[1;34m(self, *input, **kwargs)\u001b[0m\n\u001b[0;32m   1126\u001b[0m \u001b[39m# If we don't have any hooks, we want to skip the rest of the logic in\u001b[39;00m\n\u001b[0;32m   1127\u001b[0m \u001b[39m# this function, and just call forward.\u001b[39;00m\n\u001b[0;32m   1128\u001b[0m \u001b[39mif\u001b[39;00m \u001b[39mnot\u001b[39;00m (\u001b[39mself\u001b[39m\u001b[39m.\u001b[39m_backward_hooks \u001b[39mor\u001b[39;00m \u001b[39mself\u001b[39m\u001b[39m.\u001b[39m_forward_hooks \u001b[39mor\u001b[39;00m \u001b[39mself\u001b[39m\u001b[39m.\u001b[39m_forward_pre_hooks \u001b[39mor\u001b[39;00m _global_backward_hooks\n\u001b[0;32m   1129\u001b[0m         \u001b[39mor\u001b[39;00m _global_forward_hooks \u001b[39mor\u001b[39;00m _global_forward_pre_hooks):\n\u001b[1;32m-> 1130\u001b[0m     \u001b[39mreturn\u001b[39;00m forward_call(\u001b[39m*\u001b[39m\u001b[39minput\u001b[39m, \u001b[39m*\u001b[39m\u001b[39m*\u001b[39mkwargs)\n\u001b[0;32m   1131\u001b[0m \u001b[39m# Do not call functions when jit is used\u001b[39;00m\n\u001b[0;32m   1132\u001b[0m full_backward_hooks, non_full_backward_hooks \u001b[39m=\u001b[39m [], []\n",
      "File \u001b[1;32mc:\\Users\\Cyproxius\\anaconda3\\envs\\dmt\\lib\\site-packages\\torch\\nn\\modules\\normalization.py:189\u001b[0m, in \u001b[0;36mLayerNorm.forward\u001b[1;34m(self, input)\u001b[0m\n\u001b[0;32m    188\u001b[0m \u001b[39mdef\u001b[39;00m \u001b[39mforward\u001b[39m(\u001b[39mself\u001b[39m, \u001b[39minput\u001b[39m: Tensor) \u001b[39m-\u001b[39m\u001b[39m>\u001b[39m Tensor:\n\u001b[1;32m--> 189\u001b[0m     \u001b[39mreturn\u001b[39;00m F\u001b[39m.\u001b[39;49mlayer_norm(\n\u001b[0;32m    190\u001b[0m         \u001b[39minput\u001b[39;49m, \u001b[39mself\u001b[39;49m\u001b[39m.\u001b[39;49mnormalized_shape, \u001b[39mself\u001b[39;49m\u001b[39m.\u001b[39;49mweight, \u001b[39mself\u001b[39;49m\u001b[39m.\u001b[39;49mbias, \u001b[39mself\u001b[39;49m\u001b[39m.\u001b[39;49meps)\n",
      "File \u001b[1;32mc:\\Users\\Cyproxius\\anaconda3\\envs\\dmt\\lib\\site-packages\\torch\\nn\\functional.py:2503\u001b[0m, in \u001b[0;36mlayer_norm\u001b[1;34m(input, normalized_shape, weight, bias, eps)\u001b[0m\n\u001b[0;32m   2499\u001b[0m \u001b[39mif\u001b[39;00m has_torch_function_variadic(\u001b[39minput\u001b[39m, weight, bias):\n\u001b[0;32m   2500\u001b[0m     \u001b[39mreturn\u001b[39;00m handle_torch_function(\n\u001b[0;32m   2501\u001b[0m         layer_norm, (\u001b[39minput\u001b[39m, weight, bias), \u001b[39minput\u001b[39m, normalized_shape, weight\u001b[39m=\u001b[39mweight, bias\u001b[39m=\u001b[39mbias, eps\u001b[39m=\u001b[39meps\n\u001b[0;32m   2502\u001b[0m     )\n\u001b[1;32m-> 2503\u001b[0m \u001b[39mreturn\u001b[39;00m torch\u001b[39m.\u001b[39;49mlayer_norm(\u001b[39minput\u001b[39;49m, normalized_shape, weight, bias, eps, torch\u001b[39m.\u001b[39;49mbackends\u001b[39m.\u001b[39;49mcudnn\u001b[39m.\u001b[39;49menabled)\n",
      "\u001b[1;31mRuntimeError\u001b[0m: Given normalized_shape=[69], expected input with shape [*, 69], but got input of size[32, 68]"
     ]
    }
   ],
   "source": [
    "# Test and save results of simple NN model\n",
    "if not os.path.isdir(\"test_output\"):\n",
    "    os.makedirs(\"test_output\")\n",
    "\n",
    "# For validation set\n",
    "test_and_write(\"test_output/dummy_val.csv\", simple_nn_model, dev_loader)\n",
    "# And for testing set\n",
    "test_and_write(\"test_output/dummy_test.csv\", simple_nn_model, test_loader)"
   ]
  },
  {
   "cell_type": "code",
   "execution_count": null,
   "metadata": {},
   "outputs": [],
   "source": [
    "# simple_nn_model_dropout = RecommenderNet(num_features, hidden_size=hidden_dim, dropout_bool=True)\n",
    "# simple_nn_criterion_dropout = nn.BCEWithLogitsLoss()\n",
    "\n",
    "# print(f\"Now training simple MLP model (with dropout)\")\n",
    "# nn_train_loss_dropout, nn_val_loss_dropout = train(simple_nn_model_dropout, simple_nn_criterion_dropout, num_epochs, learning_rate, train_loader, dev_loader, device)"
   ]
  },
  {
   "cell_type": "code",
   "execution_count": null,
   "metadata": {},
   "outputs": [],
   "source": [
    "# import matplotlib.pyplot as plt\n",
    "\n",
    "# plt.plot(range(num_epochs), nn_train_loss_dropout)\n",
    "# plt.xlabel(\"Number of epochs\")\n",
    "# plt.ylabel(\"Training loss\")\n",
    "# plt.savefig(\"simple_nn_training_loss_dropout.png\")\n",
    "# plt.clf()\n",
    "\n",
    "# plt.plot(range(num_epochs), nn_val_loss_dropout)\n",
    "# plt.xlabel(\"Number of epochs\")\n",
    "# plt.ylabel(\"Validation loss\")\n",
    "# plt.savefig(\"simple_nn_validation_loss_dropout.png\")"
   ]
  },
  {
   "cell_type": "code",
   "execution_count": null,
   "metadata": {},
   "outputs": [],
   "source": [
    "# # Also save results for the dropout model\n",
    "# # For validation set\n",
    "# test_and_write(\"test_output/simple_nn_dropout_val.csv\", simple_nn_model_dropout, dev_loader)\n",
    "# # And for testing set\n",
    "# test_and_write(\"test_output/simple_nn_dropout_test.csv\", simple_nn_model_dropout, test_loader)"
   ]
  },
  {
   "cell_type": "code",
   "execution_count": null,
   "metadata": {},
   "outputs": [],
   "source": [
    "# Calculate NDCG score for validation set\n",
    "# nn_score = NDCG_from_file(\"simple_nn_val.txt\", train_df, 5)\n",
    "# print(f\"NDGC score for the simple MLP (on validation set): {nn_score}\")"
   ]
  }
 ],
 "metadata": {
  "kernelspec": {
   "display_name": "Python 3",
   "language": "python",
   "name": "python3"
  },
  "language_info": {
   "codemirror_mode": {
    "name": "ipython",
    "version": 3
   },
   "file_extension": ".py",
   "mimetype": "text/x-python",
   "name": "python",
   "nbconvert_exporter": "python",
   "pygments_lexer": "ipython3",
   "version": "3.10.10"
  }
 },
 "nbformat": 4,
 "nbformat_minor": 0
}
