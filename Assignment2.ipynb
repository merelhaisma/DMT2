{
 "cells": [
  {
   "cell_type": "code",
   "execution_count": 1,
   "metadata": {
    "collapsed": false,
    "ExecuteTime": {
     "end_time": "2023-05-20T15:10:35.501279500Z",
     "start_time": "2023-05-20T15:10:32.476616600Z"
    }
   },
   "outputs": [],
   "source": [
    "# Import the required libraries\n",
    "import os\n",
    "import pandas as pd\n",
    "import numpy as np\n",
    "from torch.utils.data import DataLoader, Dataset, random_split\n",
    "from tqdm import tqdm\n",
    "import pickle"
   ]
  },
  {
   "cell_type": "code",
   "execution_count": 2,
   "metadata": {
    "collapsed": false,
    "ExecuteTime": {
     "end_time": "2023-05-20T15:10:40.780006700Z",
     "start_time": "2023-05-20T15:10:35.506504300Z"
    }
   },
   "outputs": [],
   "source": [
    "# Load the data into pandas dataframes. The data has to be manually saved to a folder called 'data'.\n",
    "# Note: the data is quite large, so this may take a while (~40 seconds) if the data is read as a csv. To speed up further file reading, it is converted to pickle format.\n",
    "if (os.path.exists(os.path.join('data', 'training_set_VU_DM.pickle'))\n",
    "    & os.path.exists((os.path.join('data', 'test_set_VU_DM.pickle')))):\n",
    "    train_df = pd.read_pickle(os.path.join('data', 'training_set_VU_DM.pickle'))\n",
    "    test_df = pd.read_pickle(os.path.join('data', 'test_set_VU_DM.pickle'))\n",
    "else:\n",
    "    train_df = pd.read_csv(os.path.join('data', 'training_set_VU_DM.csv'))\n",
    "    test_df = pd.read_csv(os.path.join('data', 'test_set_VU_DM.csv'))\n",
    "    train_df.to_pickle(os.path.join('data', 'training_set_VU_DM.pickle'))\n",
    "    test_df.to_pickle(os.path.join('data', 'test_set_VU_DM.pickle'))"
   ]
  },
  {
   "cell_type": "code",
   "execution_count": 3,
   "metadata": {
    "collapsed": false,
    "ExecuteTime": {
     "end_time": "2023-05-20T15:10:42.755325900Z",
     "start_time": "2023-05-20T15:10:40.819803800Z"
    }
   },
   "outputs": [
    {
     "name": "stdout",
     "output_type": "stream",
     "text": [
      "Period of data collection: 2012/11/01 - 2013/06/30\n",
      "Train data contains 4,958,347 rows and 54 columns\n",
      "Test data contains 4,959,183 rows and 50 columns\n",
      "\n",
      "Train data:\n",
      "Number of unique search IDs: 199,795\n",
      "Number of unique property IDs: 129,113\n",
      "Number of clicks per search: avg. 1.11, std. 0.21\n",
      "Number of bookings per search: avg. 0.69, std. 0.16\n",
      "\n",
      "Test data:\n",
      "Number of unique search IDs: 199,549\n",
      "Number of unique property IDs: 129,438\n"
     ]
    }
   ],
   "source": [
    "print(f\"Period of data collection: {pd.to_datetime(train_df['date_time']).min().strftime('%Y/%m/%d')} - {pd.to_datetime(train_df['date_time']).max().strftime('%Y/%m/%d')}\")\n",
    "print(f\"Train data contains {train_df.shape[0]:,} rows and {train_df.shape[1]} columns\")\n",
    "print(f\"Test data contains {test_df.shape[0]:,} rows and {test_df.shape[1]} columns\")\n",
    "print()\n",
    "print(f\"Train data:\")\n",
    "print(f\"Number of unique search IDs: {len(train_df['srch_id'].unique()):,}\")\n",
    "print(f\"Number of unique property IDs: {len(train_df['prop_id'].unique()):,}\")\n",
    "print(f\"Number of clicks per search: avg. {train_df['click_bool'].sum() / len(train_df['srch_id'].unique()):.2f}, std. {train_df['click_bool'].std():.2f}\")\n",
    "print(f\"Number of bookings per search: avg. {train_df['booking_bool'].sum() / len(train_df['srch_id'].unique()):.2f}, std. {train_df['booking_bool'].std():.2f}\")\n",
    "print()\n",
    "print(f\"Test data:\")\n",
    "print(f\"Number of unique search IDs: {len(test_df['srch_id'].unique()):,}\")\n",
    "print(f\"Number of unique property IDs: {len(test_df['prop_id'].unique()):,}\")"
   ]
  },
  {
   "attachments": {},
   "cell_type": "markdown",
   "metadata": {
    "collapsed": false
   },
   "source": [
    "### Data Columns"
   ]
  },
  {
   "attachments": {},
   "cell_type": "markdown",
   "metadata": {
    "collapsed": false
   },
   "source": [
    "| Column Name                 | Data Type | Description                                                                                                                                                                                                       |\n",
    "|-----------------------------|-----------|-------------------------------------------------------------------------------------------------------------------------------------------------------------------------------------------------------------------|\n",
    "| position                    | Integer   | Hotel position on Expedia's search results page. This is only provided for the training data, but not the test data.                                                                                              |\n",
    "| gross_booking_usd           | Float     | Total value of the transaction. This can differ from the price_usd due to taxes, fees, conventions on multiple day bookings and purchase of a room type other than the one shown in the search                    |\n",
    "| click_bool                  | Boolean   | 1 if the user clicked on the property, 0 if not.                                                                                              |\n",
    "| booking_bool                | Boolean   | 1 if the user booked the property, 0 if not.                    |\n",
    "|                             |           ||\n",
    "| srch_id                     | Integer   | The ID of the search                                                                                                                                                                                              |\n",
    "| date_time                   | Date/time | Date and time of the search                                                                                                                                                                                       |\n",
    "| site_id                     | Integer   | ID of the Expedia point of sale (i.e. Expedia.com, Expedia.co.uk, Expedia.co.jp, ..)                                                                                                                              |\n",
    "| visitor_location_country_id | Integer   | The ID of the country the customer is located                                                                                                                                                                     |\n",
    "| visitor_hist_starrating     | Float     | The mean star rating of hotels the customer has previously purchased; null signifies there is no purchase history on the customer                                                                                 |\n",
    "| visitor_hist_adr_usd        | Float     | The mean price per night (in US$) of the hotels the customer has previously purchased; null signifies there is no purchase history on the customer                                                                |\n",
    "| prop_country_id             | Integer   | The ID of the country the hotel is located in                                                                                                                                                                     |\n",
    "| prop_id                     | Integer   | The ID of the hotel                                                                                                                                                                                               |\n",
    "| prop_starrating             | Integer   | The star rating of the hotel, from 1 to 5, in increments of 1. A 0 indicates the property has no stars, the star rating is not known or cannot be publicized.                                                     |\n",
    "| prop_review_score           | Float     | The mean customer review score for the hotel on a scale out of 5, rounded to 0.5 increments. A 0 means there have been no reviews, null that the information is not available.                                    |\n",
    "| prop_brand_bool             | Integer   | +1 if the hotel is part of a major hotel chain; 0 if it is an independent hotel                                                                                                                                   |\n",
    "| prop_location_score1        | Float     | A (first) score outlining the desirability of a hotel’s location                                                                                                                                                  |\n",
    "| prop_location_score2        | Float     | A (second) score outlining the desirability of the hotel’s location                                                                                                                                               |\n",
    "| prop_log_historical_price   | Float     | The logarithm of the mean price of the hotel over the last trading period. A 0 will occur if the hotel was not sold in that period.                                                                               |\n",
    "| price_usd                   | Float     | Displayed price of the hotel for the given search. Note that different countries have different conventions regarding displaying taxes and fees and the value may be per night or for the whole stay              |\n",
    "| promotion_flag              | Integer   | +1 if the hotel had a sale price promotion specifically displayed                                                                                                                                                 |\n",
    "| srch_destination_id         | Integer   | ID of the destination where the hotel search was performed                                                                                                                                                        |\n",
    "| srch_length_of_stay         | Integer   | Number of nights stay that was searched                                                                                                                                                                           |\n",
    "| srch_booking_window         | Integer   | Number of days in the future the hotel stay started from the search date                                                                                                                                          |\n",
    "| srch_adults_count           | Integer   | The number of adults specified in the hotel room                                                                                                                                                                  |\n",
    "| srch_children_count         | Integer   | The number of (extra occupancy) children specified in the hotel room                                                                                                                                              |\n",
    "| srch_room_count             | Integer   | Number of hotel rooms specified in the search                                                                                                                                                                     |\n",
    "| srch_saturday_night_bool    | Boolean   | +1 if the stay includes a Saturday night, starts from Thursday with a length of stay is less than or equal to 4 nights (i.e. weekend); otherwise 0                                                                |\n",
    "| srch_query_affinity_score   | Float     | The log of the probability a hotel will be clicked on in Internet searches (hence the values are negative)  A null signifies there are no data (i.e. hotel did not register in any searches)                      |\n",
    "| orig_destination_distance   | Float     | Physical distance between the hotel and the customer at the time of search. A null means the distance could not be calculated.                                                                                    |\n",
    "| random_bool                 | Boolean   | +1 when the displayed sort was random, 0 when the normal sort order was displayed                                                                                                                                 |\n",
    "| comp*x*_rate                | Integer   | '*x*' denotes the competitor number. +1 if Expedia has a lower price than competitor 1 for the hotel; 0 if the same; -1 if Expedia’s price is higher than competitor 1; null signifies there is no competitive data |\n",
    "| comp*x*_inv                 | Integer   | '*x*' denotes the competitor number. +1 if competitor 1 does not have availability in the hotel; 0 if both Expedia and competitor 1 have availability; null signifies there is no competitive data                  |\n",
    "| comp*x*_rate_percent_diff   | Float     | '*x*' denotes the competitor number. The absolute percentage difference (if one exists) between Expedia and competitor 1’s price (Expedia’s price the denominator); null signifies there is no competitive data      |\n"
   ]
  },
  {
   "attachments": {},
   "cell_type": "markdown",
   "metadata": {
    "collapsed": false
   },
   "source": [
    "# Data Transformation"
   ]
  },
  {
   "cell_type": "code",
   "execution_count": 4,
   "metadata": {
    "collapsed": false,
    "ExecuteTime": {
     "end_time": "2023-05-20T15:10:42.769742700Z",
     "start_time": "2023-05-20T15:10:42.760980Z"
    }
   },
   "outputs": [],
   "source": [
    "def create_features(df):\n",
    "    \"\"\"\n",
    "    Create the following new features: has_starrating, has_review_score, traveling_abroad, srch_prop_country_match, month, and day_of_week\n",
    "    \"\"\"\n",
    "    # has_starrating: boolean whether prop_starrating is 0 or null\n",
    "    df[\"has_starrating\"] = df[\"prop_starrating\"].isnull()\n",
    "    df[\"has_starrating\"] = df[\"has_starrating\"].astype(int)\n",
    "    df.loc[df[\"prop_starrating\"] == 0, \"has_starrating\"] = 1\n",
    "\n",
    "    # has_review_score: boolean whether prop_review_score is 0 or null\n",
    "    df[\"has_review_score\"] = df[\"prop_review_score\"].isnull()\n",
    "    df[\"has_review_score\"] = df[\"has_review_score\"].astype(int)\n",
    "    df.loc[df[\"prop_review_score\"] == 0, \"has_review_score\"] = 1\n",
    "\n",
    "    # traveling_abroad: boolean whether visitor_location_country_id != prop_country_id\n",
    "    df[\"traveling_abroad\"] = df[\"visitor_location_country_id\"] != df[\"prop_country_id\"]\n",
    "    df[\"traveling_abroad\"] = df[\"traveling_abroad\"].astype(int)\n",
    "\n",
    "    # srch_prop_country_match: boolean whether srch_destination_id == prop_country_id\n",
    "    df[\"srch_prop_country_match\"] = df[\"srch_destination_id\"] == df[\"prop_country_id\"]\n",
    "    df[\"srch_prop_country_match\"] = df[\"srch_prop_country_match\"].astype(int)\n",
    "\n",
    "    # month: month of the search, one-hot encoded\n",
    "    df[\"date_time\"] = pd.to_datetime(df[\"date_time\"])\n",
    "    df[\"month\"] = df[\"date_time\"].dt.month\n",
    "    df[\"month\"] = df[\"month\"].map({1: \"jan\", 2: \"feb\", 3: \"mar\", 4: \"apr\", 5: \"may\", 6: \"jun\", 7: \"jul\", 8: \"aug\", 9: \"sep\", 10: \"oct\", 11: \"nov\", 12: \"dec\"})\n",
    "    df = pd.get_dummies(df, columns=[\"month\"], dtype=int)\n",
    "    for col in [\"month_jan\", \"month_feb\", \"month_mar\", \"month_apr\", \"month_may\", \"month_jun\", \"month_jul\", \"month_aug\", \"month_sep\", \"month_oct\", \"month_nov\", \"month_dec\"]:\n",
    "        if col not in df.columns:\n",
    "            df[col] = 0\n",
    "\n",
    "    # day_of_week: day of the week of the search\n",
    "    df[\"day_of_week\"] = df[\"date_time\"].dt.dayofweek\n",
    "    df[\"day_of_week\"] = df[\"day_of_week\"].map({0: \"mon\", 1: \"tue\", 2: \"wed\", 3: \"thu\", 4: \"fri\", 5: \"sat\", 6: \"sun\"})\n",
    "    df = pd.get_dummies(df, columns=[\"day_of_week\"], dtype=int)\n",
    "    for col in [\"day_of_week_mon\", \"day_of_week_tue\", \"day_of_week_wed\", \"day_of_week_thu\", \"day_of_week_fri\", \"day_of_week_sat\", \"day_of_week_sun\"]:\n",
    "        if col not in df.columns:\n",
    "            df[col] = 0\n",
    "\n",
    "    return df"
   ]
  },
  {
   "cell_type": "code",
   "execution_count": 5,
   "metadata": {
    "collapsed": false,
    "ExecuteTime": {
     "end_time": "2023-05-20T15:10:42.786743100Z",
     "start_time": "2023-05-20T15:10:42.767659100Z"
    }
   },
   "outputs": [],
   "source": [
    "def drop_nan_columns(df):\n",
    "    \"\"\"\n",
    "    Train data shows that \"visitor_hist_starrating\", \"visitor_hist_adr_usd\", \"srch_query_affinity_score\", and \"compx_rate_percent_diff\" have >90% NaN values. These values cannot be imputed accurately, so we drop these columns.\n",
    "    \"\"\"\n",
    "    cols = [\"visitor_hist_starrating\", \"visitor_hist_adr_usd\", \"srch_query_affinity_score\"] + [f\"comp{i}_rate_percent_diff\" for i in range(1, 9)]\n",
    "    df.drop(columns=cols, inplace=True)\n",
    "    return df"
   ]
  },
  {
   "cell_type": "code",
   "execution_count": 6,
   "metadata": {
    "collapsed": false,
    "ExecuteTime": {
     "end_time": "2023-05-20T15:10:42.786743100Z",
     "start_time": "2023-05-20T15:10:42.774356300Z"
    }
   },
   "outputs": [],
   "source": [
    "def impute_missing_values(df):\n",
    "    \"\"\"\n",
    "    Impute missing values for the following columns: \"prop_starrating\", \"prop_review_score\", \"compx_rate\", and \"compx_inv\".\n",
    "\n",
    "    For \"prop_starrating\" and \"prop_review_score\", we replace 0 values with NaN and then impute the NaN values with the mean per srch_id. Remaining NaN values are then filled with 0.\n",
    "    For \"compx_rate\" and \"compx_inv\", we assume that missing data means that Expedia has the same price and equal availability as its competitors. We therefore impute the NaN values with 0.\n",
    "    \"\"\"\n",
    "    # Replace 0 values with NaN\n",
    "    df[\"prop_starrating\"] = df[\"prop_starrating\"].replace(0, np.nan)\n",
    "    df[\"prop_review_score\"] = df[\"prop_review_score\"].replace(0, np.nan)\n",
    "    # Impute NaN values with mean per srch_id\n",
    "    df[\"prop_starrating\"] = df.groupby(\"srch_id\")[\"prop_starrating\"].transform(lambda x: x.fillna(x.mean()))\n",
    "    df[\"prop_review_score\"] = df.groupby(\"srch_id\")[\"prop_review_score\"].transform(lambda x: x.fillna(x.mean()))\n",
    "    # Fill remaining NaN values with 0\n",
    "    df[\"prop_starrating\"] = df[\"prop_starrating\"].fillna(0)\n",
    "    df[\"prop_review_score\"] = df[\"prop_review_score\"].fillna(0)\n",
    "\n",
    "    # Impute NaN values with 0\n",
    "    for i in range(1, 9):\n",
    "        df[f\"comp{i}_rate\"] = df[f\"comp{i}_rate\"].fillna(0)\n",
    "        df[f\"comp{i}_inv\"] = df[f\"comp{i}_inv\"].fillna(0)\n",
    "\n",
    "    return df"
   ]
  },
  {
   "cell_type": "code",
   "execution_count": 7,
   "metadata": {
    "collapsed": false,
    "ExecuteTime": {
     "end_time": "2023-05-20T15:10:42.787757400Z",
     "start_time": "2023-05-20T15:10:42.780566400Z"
    }
   },
   "outputs": [],
   "source": [
    "def compute_aggregated_values(df):\n",
    "    \"\"\"\n",
    "    Compute the mean, median and standard deviation for the following columns:\n",
    "    \"visitor_hist_starrating\", \"visitor_hist_adr_usd\", \"prop_starrating\", \"prop_review_score\", \"prop_location_score1\", \"prop_log_historical_price\", \"price_usd\"\n",
    "    \"\"\"\n",
    "    numerical_cols = [\"prop_starrating\", \"prop_review_score\", \"prop_location_score1\", \"prop_log_historical_price\", \"price_usd\"]\n",
    "    # srch_length_of_stay, srch_booking_window, srch_adults_count, srch_children_count, and srch_room_count are also numerical variables, but it has no use aggregating these values over prop_id.\n",
    "\n",
    "    agg_df = df.groupby(\"prop_id\").agg({col: [\"mean\", \"std\", \"median\"] for col in numerical_cols})\n",
    "    agg_df.columns = [\"_\".join(col) for col in agg_df.columns]\n",
    "    agg_df.fillna(0, inplace=True)  # Fill standard deviation NaN values with 0\n",
    "    for col in agg_df.columns:\n",
    "        df[col] = df[\"prop_id\"].map(agg_df[col])\n",
    "    return df"
   ]
  },
  {
   "cell_type": "code",
   "execution_count": 8,
   "metadata": {
    "collapsed": false,
    "ExecuteTime": {
     "end_time": "2023-05-20T15:10:42.803556400Z",
     "start_time": "2023-05-20T15:10:42.786743100Z"
    }
   },
   "outputs": [],
   "source": [
    "def compute_relative_values(df):\n",
    "    \"\"\"\n",
    "    Subtract the mean per srch_id from the following columns:\n",
    "    \"prop_starrating\", \"prop_review_score\", \"prop_location_score1\", \"prop_log_historical_price\", \"price_usd\"\n",
    "\n",
    "    This is done so that the model can learn the relative values of these columns per srch_id.\n",
    "    \"\"\"\n",
    "    cols = [\"prop_starrating\", \"prop_review_score\", \"prop_location_score1\", \"prop_log_historical_price\", \"price_usd\"]\n",
    "    grouper = df.groupby('srch_id')\n",
    "    for col in cols:\n",
    "        df[col] = df[col] - grouper[col].transform('mean')\n",
    "    return df"
   ]
  },
  {
   "cell_type": "code",
   "execution_count": 9,
   "metadata": {
    "collapsed": false,
    "ExecuteTime": {
     "end_time": "2023-05-20T15:10:42.836086100Z",
     "start_time": "2023-05-20T15:10:42.792637300Z"
    }
   },
   "outputs": [],
   "source": [
    "def drop_columns(df):\n",
    "    \"\"\"\n",
    "    Train data shows that for \"orig_destination_distance\" over 75% of the data with a calculated value lower than 0.95 of the largest distance was lower than 130, meaning that the distance per srch_id is roughly the same. We assume therefore that this is not a deciding factor for a customer in their booking process and drop this column.\n",
    "\n",
    "    Features were created from \"date_time\" and the column will not be used anymore, so we drop this column as well.\n",
    "\n",
    "    Columns containing IDs (\"site_id\", \"visitor_location_country_id\", \"prop_country_id\", \"prop_id\", and \"srch_destination_id\") are not used in the model, so we drop these columns as well. \"srch_id\" and \"prop_id\" will remain in the columns for now for later use.\n",
    "\n",
    "    If the supplied dataframe is the training dataframe, drop the unused target columns as well.\n",
    "\n",
    "    # TODO:\n",
    "    I don't really know what to do with \"prop_location_score2\" yet, so I'll drop it for now.\n",
    "    \"\"\"\n",
    "    df.drop(columns=[\"orig_destination_distance\"], inplace=True)\n",
    "    df.drop(columns=[\"date_time\"], inplace=True)\n",
    "    df.drop(columns=[\"site_id\", \"visitor_location_country_id\", \"prop_country_id\", \"srch_destination_id\"], inplace=True)\n",
    "    df.drop(columns=[\"prop_location_score2\"], inplace=True)\n",
    "    for col in [\"position\", \"gross_bookings_usd\"]:\n",
    "        if col in df.columns:\n",
    "            df.drop(columns=[col], inplace=True)\n",
    "    return df"
   ]
  },
  {
   "cell_type": "code",
   "execution_count": 10,
   "metadata": {
    "collapsed": false,
    "ExecuteTime": {
     "end_time": "2023-05-20T15:10:42.836086100Z",
     "start_time": "2023-05-20T15:10:42.799387700Z"
    }
   },
   "outputs": [],
   "source": [
    "def process_data(train_df: pd.DataFrame, test_df: pd.DataFrame, target_value: str = \"booking_bool\"):\n",
    "    \"\"\"\n",
    "    Process the dataframes for training and testing the model.\n",
    "    :param train_df: The training dataframe\n",
    "    :param test_df: The test dataframe\n",
    "    :param target_value: The target value to use for training the model. Either \"booking_bool\" or \"both\".\n",
    "    :return: The processed dataframes\n",
    "    \"\"\"\n",
    "    # Create features\n",
    "    train_df = create_features(train_df)\n",
    "    test_df = create_features(test_df)\n",
    "\n",
    "    # Drop columns with NaN values\n",
    "    train_df = drop_nan_columns(train_df)\n",
    "    test_df = drop_nan_columns(test_df)\n",
    "\n",
    "    # Impute missing values\n",
    "    train_df = impute_missing_values(train_df)\n",
    "    test_df = impute_missing_values(test_df)\n",
    "\n",
    "    # Compute aggregated values\n",
    "    train_df = compute_aggregated_values(train_df)\n",
    "    test_df = compute_aggregated_values(test_df)\n",
    "\n",
    "    # Compute relative values\n",
    "    train_df = compute_relative_values(train_df)\n",
    "    test_df = compute_relative_values(test_df)\n",
    "\n",
    "    # Drop columns\n",
    "    train_df = drop_columns(train_df)\n",
    "    test_df = drop_columns(test_df)\n",
    "\n",
    "    # Split train data into features and target\n",
    "    if target_value == \"booking_bool\":\n",
    "        train_df[\"target\"] = train_df[\"booking_bool\"]\n",
    "    elif target_value == \"both\":\n",
    "        train_df[\"target\"] = 5*train_df[\"booking_bool\"] + train_df[\"click_bool\"]\n",
    "    else:\n",
    "        raise ValueError(\"target_value must be either 'booking_bool' or 'both'\")\n",
    "\n",
    "    train_df.drop(columns=[\"booking_bool\", \"click_bool\"], inplace=True)\n",
    "\n",
    "    return train_df, test_df"
   ]
  },
  {
   "attachments": {},
   "cell_type": "markdown",
   "metadata": {
    "collapsed": false
   },
   "source": [
    "### DataLoaders"
   ]
  },
  {
   "cell_type": "code",
   "execution_count": 11,
   "metadata": {
    "collapsed": false,
    "ExecuteTime": {
     "end_time": "2023-05-20T15:10:42.837111100Z",
     "start_time": "2023-05-20T15:10:42.806656Z"
    }
   },
   "outputs": [],
   "source": [
    "class TrainDataset(Dataset):\n",
    "    def __init__(self, df):\n",
    "        self.data = df\n",
    "\n",
    "    def __getitem__(self, idx):\n",
    "        row = self.data[idx]\n",
    "        return row[\"srch_id\"], row[\"prop_id\"], torch.tensor(row[\"sequence\"].astype(np.float64)), row[\"target\"]\n",
    "\n",
    "    def __len__(self):\n",
    "        return len(self.data)"
   ]
  },
  {
   "cell_type": "code",
   "execution_count": 12,
   "metadata": {
    "collapsed": false,
    "ExecuteTime": {
     "end_time": "2023-05-20T15:10:42.837111100Z",
     "start_time": "2023-05-20T15:10:42.815915700Z"
    }
   },
   "outputs": [],
   "source": [
    "class TestDataset(Dataset):\n",
    "    def __init__(self, df):\n",
    "        self.data = df\n",
    "\n",
    "    def __getitem__(self, idx):\n",
    "        row = self.data[idx]\n",
    "        return row[\"srch_id\"], row[\"prop_id\"], torch.tensor(row[\"sequence\"].astype(np.float64))\n",
    "\n",
    "    def __len__(self):\n",
    "        return len(self.data)"
   ]
  },
  {
   "cell_type": "code",
   "execution_count": 13,
   "metadata": {
    "collapsed": false,
    "ExecuteTime": {
     "end_time": "2023-05-20T15:10:42.837111100Z",
     "start_time": "2023-05-20T15:10:42.822834Z"
    }
   },
   "outputs": [],
   "source": [
    "def generate_sequences(df: pd.DataFrame, kind: str = \"train\") -> dict:\n",
    "    \"\"\"\n",
    "    Generate sequences from the dataframe.\n",
    "    :param df: The dataframe to take the sequences from.\n",
    "    :param kind: The kind of dataframe. Either \"train\" or \"test\".\n",
    "    :return: Dictionary containing the sequences and targets for the training data.\n",
    "    \"\"\"\n",
    "    sequences = []\n",
    "    if kind == \"train\":\n",
    "        idx_dict = df.to_dict(\"index\")\n",
    "        df = df.drop(columns=[\"prop_id\", \"srch_id\"])\n",
    "        for i, idx in enumerate(tqdm(idx_dict, desc=\"Train DataLoader\")):\n",
    "            sequences.append({\"srch_id\": idx_dict[idx][\"srch_id\"], \"prop_id\": idx_dict[idx][\"prop_id\"], \"sequence\": df.iloc[i].values, \"target\": idx_dict[idx][\"target\"]})\n",
    "    elif kind == \"test\":\n",
    "        for srch_id, group in tqdm(df.groupby(\"srch_id\"), desc=\"Test DataLoader\"):\n",
    "            prop_ids = group[\"prop_id\"].values\n",
    "            sequence = group.drop(columns=[\"srch_id\"]).values\n",
    "            sequences.append({\"srch_id\": srch_id, \"prop_id\": prop_ids, \"sequence\": sequence})\n",
    "    else:\n",
    "        raise ValueError(\"kind must be either 'train' or 'test'\")\n",
    "    return sequences"
   ]
  },
  {
   "cell_type": "code",
   "execution_count": 14,
   "metadata": {
    "collapsed": false,
    "ExecuteTime": {
     "end_time": "2023-05-20T15:10:42.843838700Z",
     "start_time": "2023-05-20T15:10:42.835570400Z"
    }
   },
   "outputs": [],
   "source": [
    "def create_dataloaders(train_df: pd.DataFrame, test_df: pd.DataFrame, target_value: str = \"booking_bool\", batch_size: int=1, train_validation_split: float=0.8, shuffle: bool=True, force_data_processing: bool = False) -> tuple[DataLoader, DataLoader, DataLoader]:\n",
    "    \"\"\"\n",
    "    Create dataloaders for the training, validation and test set.\n",
    "    :param train_df: The train dataframe.\n",
    "    :param test_df: The test dataframe.\n",
    "    :param target_value: The target value to use for training the model. Either \"booking_bool\" or \"both\".\n",
    "    :param batch_size: How many samples per batch to load.\n",
    "    :param train_validation_split: The percentage of the dataset to use for training.\n",
    "    :param shuffle: Set to True to have the data reshuffled at every epoch.\n",
    "    :param force_data_processing: Set to True to force the data to be processed again.\n",
    "    :return: Tuple containing the training, validation and test dataloaders.\n",
    "    \"\"\"\n",
    "    # The files 'final_train_set_booking_bool.pickle' and 'final_test_set_booking_bool.pickle' can be deleted, as they are not used anymore.\n",
    "    if os.path.exists(os.path.join('data', f'train_sequences_{target_value}.pickle')) \\\n",
    "            & os.path.exists(os.path.join('data', f'test_sequences_{target_value}.pickle')) \\\n",
    "            & (not force_data_processing):\n",
    "        with open(os.path.join('data', f'train_sequences_{target_value}.pickle'), 'rb') as f:\n",
    "            train_sequences = pickle.load(f)\n",
    "        with open(os.path.join('data', f'test_sequences_{target_value}.pickle'), 'rb') as f:\n",
    "            test_sequences = pickle.load(f)\n",
    "    else:\n",
    "        train_df, test_df = process_data(train_df, test_df, target_value=target_value)\n",
    "        train_sequences = generate_sequences(train_df, kind=\"train\")\n",
    "        with open(os.path.join('data', f'train_sequences_{target_value}.pickle'), 'wb') as f:\n",
    "            pickle.dump(train_sequences, f)\n",
    "        test_sequences = generate_sequences(test_df, kind=\"test\")\n",
    "        with open(os.path.join('data', f'test_sequences_{target_value}.pickle'), 'wb') as f:\n",
    "            pickle.dump(test_sequences, f)\n",
    "\n",
    "    train_dataset = TrainDataset(train_sequences)\n",
    "    train_size = int(train_validation_split * len(train_dataset))\n",
    "    val_size = len(train_dataset) - train_size\n",
    "    train_dataset, val_dataset = random_split(train_dataset, [train_size, val_size])\n",
    "\n",
    "    test_dataset = TestDataset(test_sequences)\n",
    "\n",
    "    train_dataloader = DataLoader(train_dataset, batch_size=batch_size, shuffle=shuffle)\n",
    "    val_dataloader = DataLoader(val_dataset, batch_size=batch_size, shuffle=shuffle)\n",
    "    test_dataloader = DataLoader(test_dataset, batch_size=batch_size, shuffle=False)\n",
    "    return train_dataloader, val_dataloader, test_dataloader"
   ]
  },
  {
   "attachments": {},
   "cell_type": "markdown",
   "metadata": {
    "collapsed": false
   },
   "source": [
    "**Models**"
   ]
  },
  {
   "cell_type": "code",
   "execution_count": 15,
<<<<<<< HEAD
   "metadata": {},
=======
   "metadata": {
    "ExecuteTime": {
     "end_time": "2023-05-20T15:10:42.847425800Z",
     "start_time": "2023-05-20T15:10:42.840195400Z"
    }
   },
>>>>>>> ca189c4c490c574a6c6b312b2e0ba8535fa874f3
   "outputs": [],
   "source": [
    "# Relevant imports\n",
    "import torch\n",
    "import torch.nn as nn"
   ]
  },
  {
   "cell_type": "code",
<<<<<<< HEAD
   "execution_count": 16,
   "metadata": {},
=======
   "execution_count": 17,
   "metadata": {
    "ExecuteTime": {
     "end_time": "2023-05-20T15:35:49.816195600Z",
     "start_time": "2023-05-20T15:34:24.271022100Z"
    }
   },
>>>>>>> ca189c4c490c574a6c6b312b2e0ba8535fa874f3
   "outputs": [],
   "source": [
    "# Load all data\n",
    "train_loader, dev_loader, test_loader = create_dataloaders(train_df, \n",
    "                                                           test_df,\n",
    "                                                           target_value=\"booking_bool\",\n",
    "                                                           batch_size=1,\n",
    "                                                           train_validation_split=0.8,\n",
    "                                                           shuffle=True,\n",
    "                                                           force_data_processing=False)"
   ]
  },
  {
   "cell_type": "code",
   "execution_count": 17,
<<<<<<< HEAD
   "metadata": {},
=======
   "metadata": {
    "ExecuteTime": {
     "end_time": "2023-05-20T13:37:11.227874400Z",
     "start_time": "2023-05-20T13:37:11.226855800Z"
    }
   },
>>>>>>> ca189c4c490c574a6c6b312b2e0ba8535fa874f3
   "outputs": [],
   "source": [
    "# Calculate NDCG@k score from file\n",
    "\n",
    "def NDCG_from_file(fn, data, k):\n",
    "    \"\"\"\n",
    "    Function to calculate the NDCG@k score from a txt file in the format specified in the assignment (two \n",
    "    columns, the left one containing the search IDs and the right one containing the PropertyIDs, sorted by\n",
    "    relevance)\n",
    "    \"\"\"\n",
    "    query_to_properties = {}\n",
    "    \n",
    "    # Fill the query-to-properties dictionary\n",
    "    with open(fn) as f:\n",
    "        lines = f.readlines()[1:] # Remove the header\n",
    "        for line in lines:\n",
    "            query_id, prop_id = line.split(\",\")\n",
    "            query_id, prop_id = int(query_id), int(prop_id)\n",
    "            if query_id not in query_to_properties.keys():\n",
    "                query_to_properties[query_id] = [prop_id]\n",
    "            else:\n",
    "                query_to_properties[query_id].append(prop_id)\n",
    "\n",
    "    NDCG_score = 0\n",
    "    for query_id, prop_ids in query_to_properties.items():\n",
    "        \n",
    "        # TODO: change this to match the correct query\n",
    "        data_query = data[query_id]\n",
    "\n",
    "        # Only select the first k properties\n",
    "        prop_selection = prop_ids[:k]\n",
    "\n",
    "        # TODO: Change \"scores\" to match the name of the column which keeps the scores (5 for booking, 1 for clicking)\n",
    "        true_scores = data.loc(data_query[\"prop_id\"] == prop_selection, \"scores\")\n",
    "    \n",
    "        # Calculate DCG@k (Discounted Cumulative Gain at k)\n",
    "        dcg = np.sum(true_scores / np.log2(np.arange(2, k+2)))\n",
    "        \n",
    "        # Sort the true scores in descending order\n",
    "        true_sorted_indices = np.argsort(data_query[\"scores\"])[::-1]\n",
    "        true_sorted_scores = np.array(data_query[\"scores\"])[true_sorted_indices]\n",
    "        \n",
    "        # Calculate ideal DCG@k\n",
    "        ideal_dcg = np.sum(true_sorted_scores[:k] / np.log2(np.arange(2, k+2)))\n",
    "        \n",
    "        # Calculate NDCG@k\n",
    "        NDCG_score += dcg / ideal_dcg if ideal_dcg > 0 else 0.0\n",
    "\n",
    "    return NDCG_score"
   ]
  },
  {
   "cell_type": "code",
   "execution_count": 18,
<<<<<<< HEAD
   "metadata": {},
=======
   "metadata": {
    "ExecuteTime": {
     "end_time": "2023-05-20T13:37:11.228891200Z",
     "start_time": "2023-05-20T13:37:11.227874400Z"
    }
   },
>>>>>>> ca189c4c490c574a6c6b312b2e0ba8535fa874f3
   "outputs": [],
   "source": [
    "# Simple Neural model\n",
    "class RecommenderNet(nn.Module):\n",
    "    \"\"\"\n",
    "    Neural prediction model for predicting the probability that a user will buy \n",
    "    a room at a certain hotel.\n",
    "    \"\"\"\n",
    "    def __init__(self, num_features, hidden_size=64, dropout_bool=False):\n",
    "        super().__init__()\n",
    "        self.embedding = nn.Linear(num_features, hidden_size)\n",
    "        self.layer_norm = nn.LayerNorm(num_features)\n",
    "        self.dropout = nn.Dropout(0.5)\n",
    "        self.dropout_bool = dropout_bool\n",
    "\n",
    "        self.fc1 = nn.Linear(hidden_size, hidden_size//2)\n",
    "        self.fc2 = nn.Linear(hidden_size//2, hidden_size//4)\n",
    "        self.fc3 = nn.Linear(hidden_size//4, 1)\n",
    "\n",
    "    def forward(self, features):\n",
    "        x = self.layer_norm(features.float())\n",
    "        x = self.embedding(x)\n",
    "        x = nn.ReLU()(x)\n",
    "        if self.dropout_bool:\n",
    "            x = self.dropout(x)\n",
    "        \n",
    "        x = self.fc1(x)\n",
    "        x = nn.ReLU()(x)\n",
    "        if self.dropout_bool:\n",
    "            x = self.dropout(x)\n",
    "        \n",
    "        x = self.fc2(x)\n",
    "        x = nn.ReLU()(x)\n",
    "        if self.dropout_bool:\n",
    "            x = self.dropout(x)\n",
    "        \n",
    "        x = self.fc3(x)\n",
    "        \n",
    "        return x"
   ]
  },
  {
   "attachments": {},
   "cell_type": "markdown",
   "metadata": {},
   "source": [
    "_Training and testing code_"
   ]
  },
  {
   "cell_type": "code",
<<<<<<< HEAD
   "execution_count": 24,
   "metadata": {},
=======
   "execution_count": 19,
   "metadata": {
    "ExecuteTime": {
     "end_time": "2023-05-20T13:37:11.247518700Z",
     "start_time": "2023-05-20T13:37:11.232008200Z"
    }
   },
>>>>>>> ca189c4c490c574a6c6b312b2e0ba8535fa874f3
   "outputs": [],
   "source": [
    "import torch.optim as optim\n",
    "\n",
    "def train(model, criterion, num_epochs, learning_rate, train_loader, val_loader, device):\n",
    "    train_loss = []\n",
    "    val_loss = []    \n",
    "    optimizer = optim.Adam(model.parameters(), lr=learning_rate)\n",
    "\n",
    "    model = model.to(device)\n",
    "    criterion = criterion.to(device)\n",
    "\n",
    "    for epoch in range(num_epochs):\n",
    "        print(f\"Now training epoch {epoch}\")\n",
    "\n",
    "        # Training loop\n",
    "        running_train_loss = 0\n",
    "        for _, _, features, targets in tqdm(train_loader):\n",
    "            optimizer.zero_grad()\n",
    "            \n",
    "            outputs = model(features.squeeze().to(device))\n",
    "            loss = criterion(outputs.to(device).squeeze().float(), targets.to(device).squeeze().float())\n",
    "            loss.backward()\n",
    "\n",
    "            running_train_loss += loss.item()\n",
    "            \n",
    "            optimizer.step()\n",
    "\n",
    "        train_loss.append(running_train_loss)\n",
    "\n",
    "        # Validation loop\n",
    "        running_val_loss = 0\n",
    "        for _, _, features, targets in val_loader:\n",
    "            with torch.no_grad():\n",
    "                outputs = model(features.to(device))\n",
    "                loss = criterion(outputs.to(device).squeeze().float(), targets.to(device).squeeze().float())\n",
    "                running_val_loss += loss.item()\n",
    "\n",
    "        val_loss.append(running_val_loss)\n",
    "\n",
    "    return train_loss, val_loss\n",
    "\n",
    "\n",
    "def test_and_write(fn, model, loader):\n",
    "    with open(fn, \"w\") as f:\n",
    "        f.write(\"srch_id,prop_id\\n\")\n",
    "        for elem in tqdm(loader):\n",
    "\n",
    "            # Check if there are four elements in the dataloader (a feature vector and a label).\n",
    "            # If so, we have the validation set and need to extract the features accordingly\n",
    "            if len(elem) == 4:\n",
    "                search_id, prop_ids, features, _ = elem\n",
    "            else:\n",
    "                search_id, prop_ids, features = elem \n",
    "\n",
    "            # This assumes that features is batched and shaped (num_properties x num_features)\n",
    "            # search_id = features[:, 0] #TODO extract search ID from feature vector correctly\n",
    "\n",
    "            model.eval()\n",
    "            with torch.no_grad():\n",
    "                # Don't take into account the search ID (first feature)\n",
    "                outputs = model(features.squeeze())\n",
    "                probabilities = torch.sigmoid(outputs.squeeze())\n",
    "                sorted_indices = probabilities.argsort(descending=True)\n",
    "\n",
    "            property_ids = prop_ids.squeeze()[sorted_indices]\n",
    "\n",
    "            for search, prop in zip([search_id.item() for _ in range(len(property_ids))], list(property_ids)):\n",
    "                f.write(f\"{search},{prop}\\n\")\n",
    "            "
   ]
  },
  {
   "cell_type": "code",
<<<<<<< HEAD
   "execution_count": 29,
   "metadata": {},
=======
   "execution_count": 20,
   "metadata": {
    "ExecuteTime": {
     "end_time": "2023-05-20T13:37:13.718480200Z",
     "start_time": "2023-05-20T13:37:11.339782100Z"
    }
   },
>>>>>>> ca189c4c490c574a6c6b312b2e0ba8535fa874f3
   "outputs": [
    {
     "name": "stdout",
     "output_type": "stream",
     "text": [
<<<<<<< HEAD
      "Training on device: cpu\n",
=======
      "Training on device: cuda\n",
>>>>>>> ca189c4c490c574a6c6b312b2e0ba8535fa874f3
      "Now training simple MLP model (without dropout)\n",
      "Now training epoch 0\n"
     ]
    },
    {
     "name": "stderr",
     "output_type": "stream",
     "text": [
<<<<<<< HEAD
      "  1%|          | 1565/159836 [00:06<10:51, 243.06it/s]\n"
     ]
    },
    {
     "ename": "KeyboardInterrupt",
     "evalue": "",
     "output_type": "error",
     "traceback": [
      "\u001b[1;31m---------------------------------------------------------------------------\u001b[0m",
      "\u001b[1;31mKeyboardInterrupt\u001b[0m                         Traceback (most recent call last)",
      "Cell \u001b[1;32mIn[29], line 13\u001b[0m\n\u001b[0;32m     11\u001b[0m \u001b[39mprint\u001b[39m(\u001b[39mf\u001b[39m\u001b[39m\"\u001b[39m\u001b[39mTraining on device: \u001b[39m\u001b[39m{\u001b[39;00mdevice\u001b[39m}\u001b[39;00m\u001b[39m\"\u001b[39m)\n\u001b[0;32m     12\u001b[0m \u001b[39mprint\u001b[39m(\u001b[39mf\u001b[39m\u001b[39m\"\u001b[39m\u001b[39mNow training simple MLP model (without dropout)\u001b[39m\u001b[39m\"\u001b[39m)\n\u001b[1;32m---> 13\u001b[0m nn_train_loss, nn_val_loss \u001b[39m=\u001b[39m train(simple_nn_model, simple_nn_criterion, num_epochs, learning_rate, train_loader, dev_loader, device)\n",
      "Cell \u001b[1;32mIn[24], line 20\u001b[0m, in \u001b[0;36mtrain\u001b[1;34m(model, criterion, num_epochs, learning_rate, train_loader, val_loader, device)\u001b[0m\n\u001b[0;32m     17\u001b[0m \u001b[39mfor\u001b[39;00m _, _, features, targets \u001b[39min\u001b[39;00m tqdm(train_loader):\n\u001b[0;32m     18\u001b[0m     optimizer\u001b[39m.\u001b[39mzero_grad()\n\u001b[1;32m---> 20\u001b[0m     outputs \u001b[39m=\u001b[39m model(features\u001b[39m.\u001b[39;49msqueeze()\u001b[39m.\u001b[39;49mto(device))\n\u001b[0;32m     21\u001b[0m     loss \u001b[39m=\u001b[39m criterion(outputs\u001b[39m.\u001b[39mto(device)\u001b[39m.\u001b[39msqueeze()\u001b[39m.\u001b[39mfloat(), targets\u001b[39m.\u001b[39mto(device)\u001b[39m.\u001b[39msqueeze()\u001b[39m.\u001b[39mfloat())\n\u001b[0;32m     22\u001b[0m     loss\u001b[39m.\u001b[39mbackward()\n",
      "File \u001b[1;32mc:\\Users\\Cyproxius\\anaconda3\\envs\\dmt\\lib\\site-packages\\torch\\nn\\modules\\module.py:1130\u001b[0m, in \u001b[0;36mModule._call_impl\u001b[1;34m(self, *input, **kwargs)\u001b[0m\n\u001b[0;32m   1126\u001b[0m \u001b[39m# If we don't have any hooks, we want to skip the rest of the logic in\u001b[39;00m\n\u001b[0;32m   1127\u001b[0m \u001b[39m# this function, and just call forward.\u001b[39;00m\n\u001b[0;32m   1128\u001b[0m \u001b[39mif\u001b[39;00m \u001b[39mnot\u001b[39;00m (\u001b[39mself\u001b[39m\u001b[39m.\u001b[39m_backward_hooks \u001b[39mor\u001b[39;00m \u001b[39mself\u001b[39m\u001b[39m.\u001b[39m_forward_hooks \u001b[39mor\u001b[39;00m \u001b[39mself\u001b[39m\u001b[39m.\u001b[39m_forward_pre_hooks \u001b[39mor\u001b[39;00m _global_backward_hooks\n\u001b[0;32m   1129\u001b[0m         \u001b[39mor\u001b[39;00m _global_forward_hooks \u001b[39mor\u001b[39;00m _global_forward_pre_hooks):\n\u001b[1;32m-> 1130\u001b[0m     \u001b[39mreturn\u001b[39;00m forward_call(\u001b[39m*\u001b[39m\u001b[39minput\u001b[39m, \u001b[39m*\u001b[39m\u001b[39m*\u001b[39mkwargs)\n\u001b[0;32m   1131\u001b[0m \u001b[39m# Do not call functions when jit is used\u001b[39;00m\n\u001b[0;32m   1132\u001b[0m full_backward_hooks, non_full_backward_hooks \u001b[39m=\u001b[39m [], []\n",
      "Cell \u001b[1;32mIn[18], line 30\u001b[0m, in \u001b[0;36mRecommenderNet.forward\u001b[1;34m(self, features)\u001b[0m\n\u001b[0;32m     27\u001b[0m \u001b[39mif\u001b[39;00m \u001b[39mself\u001b[39m\u001b[39m.\u001b[39mdropout_bool:\n\u001b[0;32m     28\u001b[0m     x \u001b[39m=\u001b[39m \u001b[39mself\u001b[39m\u001b[39m.\u001b[39mdropout(x)\n\u001b[1;32m---> 30\u001b[0m x \u001b[39m=\u001b[39m \u001b[39mself\u001b[39;49m\u001b[39m.\u001b[39;49mfc2(x)\n\u001b[0;32m     31\u001b[0m x \u001b[39m=\u001b[39m nn\u001b[39m.\u001b[39mReLU()(x)\n\u001b[0;32m     32\u001b[0m \u001b[39mif\u001b[39;00m \u001b[39mself\u001b[39m\u001b[39m.\u001b[39mdropout_bool:\n",
      "File \u001b[1;32mc:\\Users\\Cyproxius\\anaconda3\\envs\\dmt\\lib\\site-packages\\torch\\nn\\modules\\module.py:1130\u001b[0m, in \u001b[0;36mModule._call_impl\u001b[1;34m(self, *input, **kwargs)\u001b[0m\n\u001b[0;32m   1126\u001b[0m \u001b[39m# If we don't have any hooks, we want to skip the rest of the logic in\u001b[39;00m\n\u001b[0;32m   1127\u001b[0m \u001b[39m# this function, and just call forward.\u001b[39;00m\n\u001b[0;32m   1128\u001b[0m \u001b[39mif\u001b[39;00m \u001b[39mnot\u001b[39;00m (\u001b[39mself\u001b[39m\u001b[39m.\u001b[39m_backward_hooks \u001b[39mor\u001b[39;00m \u001b[39mself\u001b[39m\u001b[39m.\u001b[39m_forward_hooks \u001b[39mor\u001b[39;00m \u001b[39mself\u001b[39m\u001b[39m.\u001b[39m_forward_pre_hooks \u001b[39mor\u001b[39;00m _global_backward_hooks\n\u001b[0;32m   1129\u001b[0m         \u001b[39mor\u001b[39;00m _global_forward_hooks \u001b[39mor\u001b[39;00m _global_forward_pre_hooks):\n\u001b[1;32m-> 1130\u001b[0m     \u001b[39mreturn\u001b[39;00m forward_call(\u001b[39m*\u001b[39m\u001b[39minput\u001b[39m, \u001b[39m*\u001b[39m\u001b[39m*\u001b[39mkwargs)\n\u001b[0;32m   1131\u001b[0m \u001b[39m# Do not call functions when jit is used\u001b[39;00m\n\u001b[0;32m   1132\u001b[0m full_backward_hooks, non_full_backward_hooks \u001b[39m=\u001b[39m [], []\n",
      "File \u001b[1;32mc:\\Users\\Cyproxius\\anaconda3\\envs\\dmt\\lib\\site-packages\\torch\\nn\\modules\\linear.py:114\u001b[0m, in \u001b[0;36mLinear.forward\u001b[1;34m(self, input)\u001b[0m\n\u001b[0;32m    113\u001b[0m \u001b[39mdef\u001b[39;00m \u001b[39mforward\u001b[39m(\u001b[39mself\u001b[39m, \u001b[39minput\u001b[39m: Tensor) \u001b[39m-\u001b[39m\u001b[39m>\u001b[39m Tensor:\n\u001b[1;32m--> 114\u001b[0m     \u001b[39mreturn\u001b[39;00m F\u001b[39m.\u001b[39;49mlinear(\u001b[39minput\u001b[39;49m, \u001b[39mself\u001b[39;49m\u001b[39m.\u001b[39;49mweight, \u001b[39mself\u001b[39;49m\u001b[39m.\u001b[39;49mbias)\n",
      "\u001b[1;31mKeyboardInterrupt\u001b[0m: "
=======
      "  0%|          | 0/4995 [00:00<?, ?it/s]\n"
     ]
    },
    {
     "ename": "RuntimeError",
     "evalue": "stack expects each tensor to be equal size, but got [25] at entry 0 and [32] at entry 1",
     "output_type": "error",
     "traceback": [
      "\u001B[1;31m---------------------------------------------------------------------------\u001B[0m",
      "\u001B[1;31mRuntimeError\u001B[0m                              Traceback (most recent call last)",
      "Cell \u001B[1;32mIn[20], line 13\u001B[0m\n\u001B[0;32m     11\u001B[0m \u001B[38;5;28mprint\u001B[39m(\u001B[38;5;124mf\u001B[39m\u001B[38;5;124m\"\u001B[39m\u001B[38;5;124mTraining on device: \u001B[39m\u001B[38;5;132;01m{\u001B[39;00mdevice\u001B[38;5;132;01m}\u001B[39;00m\u001B[38;5;124m\"\u001B[39m)\n\u001B[0;32m     12\u001B[0m \u001B[38;5;28mprint\u001B[39m(\u001B[38;5;124mf\u001B[39m\u001B[38;5;124m\"\u001B[39m\u001B[38;5;124mNow training simple MLP model (without dropout)\u001B[39m\u001B[38;5;124m\"\u001B[39m)\n\u001B[1;32m---> 13\u001B[0m nn_train_loss, nn_val_loss \u001B[38;5;241m=\u001B[39m \u001B[43mtrain\u001B[49m\u001B[43m(\u001B[49m\u001B[43msimple_nn_model\u001B[49m\u001B[43m,\u001B[49m\u001B[43m \u001B[49m\u001B[43msimple_nn_criterion\u001B[49m\u001B[43m,\u001B[49m\u001B[43m \u001B[49m\u001B[43mnum_epochs\u001B[49m\u001B[43m,\u001B[49m\u001B[43m \u001B[49m\u001B[43mlearning_rate\u001B[49m\u001B[43m,\u001B[49m\u001B[43m \u001B[49m\u001B[43mtrain_loader\u001B[49m\u001B[43m,\u001B[49m\u001B[43m \u001B[49m\u001B[43mdev_loader\u001B[49m\u001B[43m,\u001B[49m\u001B[43m \u001B[49m\u001B[43mdevice\u001B[49m\u001B[43m)\u001B[49m\n",
      "Cell \u001B[1;32mIn[19], line 17\u001B[0m, in \u001B[0;36mtrain\u001B[1;34m(model, criterion, num_epochs, learning_rate, train_loader, val_loader, device)\u001B[0m\n\u001B[0;32m     15\u001B[0m \u001B[38;5;66;03m# Training loop\u001B[39;00m\n\u001B[0;32m     16\u001B[0m running_train_loss \u001B[38;5;241m=\u001B[39m \u001B[38;5;241m0\u001B[39m\n\u001B[1;32m---> 17\u001B[0m \u001B[38;5;28;01mfor\u001B[39;00m _, _, features, targets \u001B[38;5;129;01min\u001B[39;00m tqdm(train_loader):\n\u001B[0;32m     18\u001B[0m     optimizer\u001B[38;5;241m.\u001B[39mzero_grad()\n\u001B[0;32m     20\u001B[0m     outputs \u001B[38;5;241m=\u001B[39m model(features\u001B[38;5;241m.\u001B[39msqueeze()\u001B[38;5;241m.\u001B[39mto(device))\n",
      "File \u001B[1;32m~\\AppData\\Local\\Programs\\Python\\Python311\\Lib\\site-packages\\tqdm\\std.py:1178\u001B[0m, in \u001B[0;36mtqdm.__iter__\u001B[1;34m(self)\u001B[0m\n\u001B[0;32m   1175\u001B[0m time \u001B[38;5;241m=\u001B[39m \u001B[38;5;28mself\u001B[39m\u001B[38;5;241m.\u001B[39m_time\n\u001B[0;32m   1177\u001B[0m \u001B[38;5;28;01mtry\u001B[39;00m:\n\u001B[1;32m-> 1178\u001B[0m     \u001B[38;5;28;01mfor\u001B[39;00m obj \u001B[38;5;129;01min\u001B[39;00m iterable:\n\u001B[0;32m   1179\u001B[0m         \u001B[38;5;28;01myield\u001B[39;00m obj\n\u001B[0;32m   1180\u001B[0m         \u001B[38;5;66;03m# Update and possibly print the progressbar.\u001B[39;00m\n\u001B[0;32m   1181\u001B[0m         \u001B[38;5;66;03m# Note: does not call self.update(1) for speed optimisation.\u001B[39;00m\n",
      "File \u001B[1;32m~\\AppData\\Local\\Programs\\Python\\Python311\\Lib\\site-packages\\torch\\utils\\data\\dataloader.py:633\u001B[0m, in \u001B[0;36m_BaseDataLoaderIter.__next__\u001B[1;34m(self)\u001B[0m\n\u001B[0;32m    630\u001B[0m \u001B[38;5;28;01mif\u001B[39;00m \u001B[38;5;28mself\u001B[39m\u001B[38;5;241m.\u001B[39m_sampler_iter \u001B[38;5;129;01mis\u001B[39;00m \u001B[38;5;28;01mNone\u001B[39;00m:\n\u001B[0;32m    631\u001B[0m     \u001B[38;5;66;03m# TODO(https://github.com/pytorch/pytorch/issues/76750)\u001B[39;00m\n\u001B[0;32m    632\u001B[0m     \u001B[38;5;28mself\u001B[39m\u001B[38;5;241m.\u001B[39m_reset()  \u001B[38;5;66;03m# type: ignore[call-arg]\u001B[39;00m\n\u001B[1;32m--> 633\u001B[0m data \u001B[38;5;241m=\u001B[39m \u001B[38;5;28;43mself\u001B[39;49m\u001B[38;5;241;43m.\u001B[39;49m\u001B[43m_next_data\u001B[49m\u001B[43m(\u001B[49m\u001B[43m)\u001B[49m\n\u001B[0;32m    634\u001B[0m \u001B[38;5;28mself\u001B[39m\u001B[38;5;241m.\u001B[39m_num_yielded \u001B[38;5;241m+\u001B[39m\u001B[38;5;241m=\u001B[39m \u001B[38;5;241m1\u001B[39m\n\u001B[0;32m    635\u001B[0m \u001B[38;5;28;01mif\u001B[39;00m \u001B[38;5;28mself\u001B[39m\u001B[38;5;241m.\u001B[39m_dataset_kind \u001B[38;5;241m==\u001B[39m _DatasetKind\u001B[38;5;241m.\u001B[39mIterable \u001B[38;5;129;01mand\u001B[39;00m \\\n\u001B[0;32m    636\u001B[0m         \u001B[38;5;28mself\u001B[39m\u001B[38;5;241m.\u001B[39m_IterableDataset_len_called \u001B[38;5;129;01mis\u001B[39;00m \u001B[38;5;129;01mnot\u001B[39;00m \u001B[38;5;28;01mNone\u001B[39;00m \u001B[38;5;129;01mand\u001B[39;00m \\\n\u001B[0;32m    637\u001B[0m         \u001B[38;5;28mself\u001B[39m\u001B[38;5;241m.\u001B[39m_num_yielded \u001B[38;5;241m>\u001B[39m \u001B[38;5;28mself\u001B[39m\u001B[38;5;241m.\u001B[39m_IterableDataset_len_called:\n",
      "File \u001B[1;32m~\\AppData\\Local\\Programs\\Python\\Python311\\Lib\\site-packages\\torch\\utils\\data\\dataloader.py:677\u001B[0m, in \u001B[0;36m_SingleProcessDataLoaderIter._next_data\u001B[1;34m(self)\u001B[0m\n\u001B[0;32m    675\u001B[0m \u001B[38;5;28;01mdef\u001B[39;00m \u001B[38;5;21m_next_data\u001B[39m(\u001B[38;5;28mself\u001B[39m):\n\u001B[0;32m    676\u001B[0m     index \u001B[38;5;241m=\u001B[39m \u001B[38;5;28mself\u001B[39m\u001B[38;5;241m.\u001B[39m_next_index()  \u001B[38;5;66;03m# may raise StopIteration\u001B[39;00m\n\u001B[1;32m--> 677\u001B[0m     data \u001B[38;5;241m=\u001B[39m \u001B[38;5;28;43mself\u001B[39;49m\u001B[38;5;241;43m.\u001B[39;49m\u001B[43m_dataset_fetcher\u001B[49m\u001B[38;5;241;43m.\u001B[39;49m\u001B[43mfetch\u001B[49m\u001B[43m(\u001B[49m\u001B[43mindex\u001B[49m\u001B[43m)\u001B[49m  \u001B[38;5;66;03m# may raise StopIteration\u001B[39;00m\n\u001B[0;32m    678\u001B[0m     \u001B[38;5;28;01mif\u001B[39;00m \u001B[38;5;28mself\u001B[39m\u001B[38;5;241m.\u001B[39m_pin_memory:\n\u001B[0;32m    679\u001B[0m         data \u001B[38;5;241m=\u001B[39m _utils\u001B[38;5;241m.\u001B[39mpin_memory\u001B[38;5;241m.\u001B[39mpin_memory(data, \u001B[38;5;28mself\u001B[39m\u001B[38;5;241m.\u001B[39m_pin_memory_device)\n",
      "File \u001B[1;32m~\\AppData\\Local\\Programs\\Python\\Python311\\Lib\\site-packages\\torch\\utils\\data\\_utils\\fetch.py:54\u001B[0m, in \u001B[0;36m_MapDatasetFetcher.fetch\u001B[1;34m(self, possibly_batched_index)\u001B[0m\n\u001B[0;32m     52\u001B[0m \u001B[38;5;28;01melse\u001B[39;00m:\n\u001B[0;32m     53\u001B[0m     data \u001B[38;5;241m=\u001B[39m \u001B[38;5;28mself\u001B[39m\u001B[38;5;241m.\u001B[39mdataset[possibly_batched_index]\n\u001B[1;32m---> 54\u001B[0m \u001B[38;5;28;01mreturn\u001B[39;00m \u001B[38;5;28;43mself\u001B[39;49m\u001B[38;5;241;43m.\u001B[39;49m\u001B[43mcollate_fn\u001B[49m\u001B[43m(\u001B[49m\u001B[43mdata\u001B[49m\u001B[43m)\u001B[49m\n",
      "File \u001B[1;32m~\\AppData\\Local\\Programs\\Python\\Python311\\Lib\\site-packages\\torch\\utils\\data\\_utils\\collate.py:265\u001B[0m, in \u001B[0;36mdefault_collate\u001B[1;34m(batch)\u001B[0m\n\u001B[0;32m    204\u001B[0m \u001B[38;5;28;01mdef\u001B[39;00m \u001B[38;5;21mdefault_collate\u001B[39m(batch):\n\u001B[0;32m    205\u001B[0m \u001B[38;5;250m    \u001B[39m\u001B[38;5;124mr\u001B[39m\u001B[38;5;124;03m\"\"\"\u001B[39;00m\n\u001B[0;32m    206\u001B[0m \u001B[38;5;124;03m        Function that takes in a batch of data and puts the elements within the batch\u001B[39;00m\n\u001B[0;32m    207\u001B[0m \u001B[38;5;124;03m        into a tensor with an additional outer dimension - batch size. The exact output type can be\u001B[39;00m\n\u001B[1;32m   (...)\u001B[0m\n\u001B[0;32m    263\u001B[0m \u001B[38;5;124;03m            >>> default_collate(batch)  # Handle `CustomType` automatically\u001B[39;00m\n\u001B[0;32m    264\u001B[0m \u001B[38;5;124;03m    \"\"\"\u001B[39;00m\n\u001B[1;32m--> 265\u001B[0m     \u001B[38;5;28;01mreturn\u001B[39;00m \u001B[43mcollate\u001B[49m\u001B[43m(\u001B[49m\u001B[43mbatch\u001B[49m\u001B[43m,\u001B[49m\u001B[43m \u001B[49m\u001B[43mcollate_fn_map\u001B[49m\u001B[38;5;241;43m=\u001B[39;49m\u001B[43mdefault_collate_fn_map\u001B[49m\u001B[43m)\u001B[49m\n",
      "File \u001B[1;32m~\\AppData\\Local\\Programs\\Python\\Python311\\Lib\\site-packages\\torch\\utils\\data\\_utils\\collate.py:142\u001B[0m, in \u001B[0;36mcollate\u001B[1;34m(batch, collate_fn_map)\u001B[0m\n\u001B[0;32m    139\u001B[0m transposed \u001B[38;5;241m=\u001B[39m \u001B[38;5;28mlist\u001B[39m(\u001B[38;5;28mzip\u001B[39m(\u001B[38;5;241m*\u001B[39mbatch))  \u001B[38;5;66;03m# It may be accessed twice, so we use a list.\u001B[39;00m\n\u001B[0;32m    141\u001B[0m \u001B[38;5;28;01mif\u001B[39;00m \u001B[38;5;28misinstance\u001B[39m(elem, \u001B[38;5;28mtuple\u001B[39m):\n\u001B[1;32m--> 142\u001B[0m     \u001B[38;5;28;01mreturn\u001B[39;00m \u001B[43m[\u001B[49m\u001B[43mcollate\u001B[49m\u001B[43m(\u001B[49m\u001B[43msamples\u001B[49m\u001B[43m,\u001B[49m\u001B[43m \u001B[49m\u001B[43mcollate_fn_map\u001B[49m\u001B[38;5;241;43m=\u001B[39;49m\u001B[43mcollate_fn_map\u001B[49m\u001B[43m)\u001B[49m\u001B[43m \u001B[49m\u001B[38;5;28;43;01mfor\u001B[39;49;00m\u001B[43m \u001B[49m\u001B[43msamples\u001B[49m\u001B[43m \u001B[49m\u001B[38;5;129;43;01min\u001B[39;49;00m\u001B[43m \u001B[49m\u001B[43mtransposed\u001B[49m\u001B[43m]\u001B[49m  \u001B[38;5;66;03m# Backwards compatibility.\u001B[39;00m\n\u001B[0;32m    143\u001B[0m \u001B[38;5;28;01melse\u001B[39;00m:\n\u001B[0;32m    144\u001B[0m     \u001B[38;5;28;01mtry\u001B[39;00m:\n",
      "File \u001B[1;32m~\\AppData\\Local\\Programs\\Python\\Python311\\Lib\\site-packages\\torch\\utils\\data\\_utils\\collate.py:142\u001B[0m, in \u001B[0;36m<listcomp>\u001B[1;34m(.0)\u001B[0m\n\u001B[0;32m    139\u001B[0m transposed \u001B[38;5;241m=\u001B[39m \u001B[38;5;28mlist\u001B[39m(\u001B[38;5;28mzip\u001B[39m(\u001B[38;5;241m*\u001B[39mbatch))  \u001B[38;5;66;03m# It may be accessed twice, so we use a list.\u001B[39;00m\n\u001B[0;32m    141\u001B[0m \u001B[38;5;28;01mif\u001B[39;00m \u001B[38;5;28misinstance\u001B[39m(elem, \u001B[38;5;28mtuple\u001B[39m):\n\u001B[1;32m--> 142\u001B[0m     \u001B[38;5;28;01mreturn\u001B[39;00m [\u001B[43mcollate\u001B[49m\u001B[43m(\u001B[49m\u001B[43msamples\u001B[49m\u001B[43m,\u001B[49m\u001B[43m \u001B[49m\u001B[43mcollate_fn_map\u001B[49m\u001B[38;5;241;43m=\u001B[39;49m\u001B[43mcollate_fn_map\u001B[49m\u001B[43m)\u001B[49m \u001B[38;5;28;01mfor\u001B[39;00m samples \u001B[38;5;129;01min\u001B[39;00m transposed]  \u001B[38;5;66;03m# Backwards compatibility.\u001B[39;00m\n\u001B[0;32m    143\u001B[0m \u001B[38;5;28;01melse\u001B[39;00m:\n\u001B[0;32m    144\u001B[0m     \u001B[38;5;28;01mtry\u001B[39;00m:\n",
      "File \u001B[1;32m~\\AppData\\Local\\Programs\\Python\\Python311\\Lib\\site-packages\\torch\\utils\\data\\_utils\\collate.py:119\u001B[0m, in \u001B[0;36mcollate\u001B[1;34m(batch, collate_fn_map)\u001B[0m\n\u001B[0;32m    117\u001B[0m \u001B[38;5;28;01mif\u001B[39;00m collate_fn_map \u001B[38;5;129;01mis\u001B[39;00m \u001B[38;5;129;01mnot\u001B[39;00m \u001B[38;5;28;01mNone\u001B[39;00m:\n\u001B[0;32m    118\u001B[0m     \u001B[38;5;28;01mif\u001B[39;00m elem_type \u001B[38;5;129;01min\u001B[39;00m collate_fn_map:\n\u001B[1;32m--> 119\u001B[0m         \u001B[38;5;28;01mreturn\u001B[39;00m \u001B[43mcollate_fn_map\u001B[49m\u001B[43m[\u001B[49m\u001B[43melem_type\u001B[49m\u001B[43m]\u001B[49m\u001B[43m(\u001B[49m\u001B[43mbatch\u001B[49m\u001B[43m,\u001B[49m\u001B[43m \u001B[49m\u001B[43mcollate_fn_map\u001B[49m\u001B[38;5;241;43m=\u001B[39;49m\u001B[43mcollate_fn_map\u001B[49m\u001B[43m)\u001B[49m\n\u001B[0;32m    121\u001B[0m     \u001B[38;5;28;01mfor\u001B[39;00m collate_type \u001B[38;5;129;01min\u001B[39;00m collate_fn_map:\n\u001B[0;32m    122\u001B[0m         \u001B[38;5;28;01mif\u001B[39;00m \u001B[38;5;28misinstance\u001B[39m(elem, collate_type):\n",
      "File \u001B[1;32m~\\AppData\\Local\\Programs\\Python\\Python311\\Lib\\site-packages\\torch\\utils\\data\\_utils\\collate.py:171\u001B[0m, in \u001B[0;36mcollate_numpy_array_fn\u001B[1;34m(batch, collate_fn_map)\u001B[0m\n\u001B[0;32m    168\u001B[0m \u001B[38;5;28;01mif\u001B[39;00m np_str_obj_array_pattern\u001B[38;5;241m.\u001B[39msearch(elem\u001B[38;5;241m.\u001B[39mdtype\u001B[38;5;241m.\u001B[39mstr) \u001B[38;5;129;01mis\u001B[39;00m \u001B[38;5;129;01mnot\u001B[39;00m \u001B[38;5;28;01mNone\u001B[39;00m:\n\u001B[0;32m    169\u001B[0m     \u001B[38;5;28;01mraise\u001B[39;00m \u001B[38;5;167;01mTypeError\u001B[39;00m(default_collate_err_msg_format\u001B[38;5;241m.\u001B[39mformat(elem\u001B[38;5;241m.\u001B[39mdtype))\n\u001B[1;32m--> 171\u001B[0m \u001B[38;5;28;01mreturn\u001B[39;00m \u001B[43mcollate\u001B[49m\u001B[43m(\u001B[49m\u001B[43m[\u001B[49m\u001B[43mtorch\u001B[49m\u001B[38;5;241;43m.\u001B[39;49m\u001B[43mas_tensor\u001B[49m\u001B[43m(\u001B[49m\u001B[43mb\u001B[49m\u001B[43m)\u001B[49m\u001B[43m \u001B[49m\u001B[38;5;28;43;01mfor\u001B[39;49;00m\u001B[43m \u001B[49m\u001B[43mb\u001B[49m\u001B[43m \u001B[49m\u001B[38;5;129;43;01min\u001B[39;49;00m\u001B[43m \u001B[49m\u001B[43mbatch\u001B[49m\u001B[43m]\u001B[49m\u001B[43m,\u001B[49m\u001B[43m \u001B[49m\u001B[43mcollate_fn_map\u001B[49m\u001B[38;5;241;43m=\u001B[39;49m\u001B[43mcollate_fn_map\u001B[49m\u001B[43m)\u001B[49m\n",
      "File \u001B[1;32m~\\AppData\\Local\\Programs\\Python\\Python311\\Lib\\site-packages\\torch\\utils\\data\\_utils\\collate.py:119\u001B[0m, in \u001B[0;36mcollate\u001B[1;34m(batch, collate_fn_map)\u001B[0m\n\u001B[0;32m    117\u001B[0m \u001B[38;5;28;01mif\u001B[39;00m collate_fn_map \u001B[38;5;129;01mis\u001B[39;00m \u001B[38;5;129;01mnot\u001B[39;00m \u001B[38;5;28;01mNone\u001B[39;00m:\n\u001B[0;32m    118\u001B[0m     \u001B[38;5;28;01mif\u001B[39;00m elem_type \u001B[38;5;129;01min\u001B[39;00m collate_fn_map:\n\u001B[1;32m--> 119\u001B[0m         \u001B[38;5;28;01mreturn\u001B[39;00m \u001B[43mcollate_fn_map\u001B[49m\u001B[43m[\u001B[49m\u001B[43melem_type\u001B[49m\u001B[43m]\u001B[49m\u001B[43m(\u001B[49m\u001B[43mbatch\u001B[49m\u001B[43m,\u001B[49m\u001B[43m \u001B[49m\u001B[43mcollate_fn_map\u001B[49m\u001B[38;5;241;43m=\u001B[39;49m\u001B[43mcollate_fn_map\u001B[49m\u001B[43m)\u001B[49m\n\u001B[0;32m    121\u001B[0m     \u001B[38;5;28;01mfor\u001B[39;00m collate_type \u001B[38;5;129;01min\u001B[39;00m collate_fn_map:\n\u001B[0;32m    122\u001B[0m         \u001B[38;5;28;01mif\u001B[39;00m \u001B[38;5;28misinstance\u001B[39m(elem, collate_type):\n",
      "File \u001B[1;32m~\\AppData\\Local\\Programs\\Python\\Python311\\Lib\\site-packages\\torch\\utils\\data\\_utils\\collate.py:162\u001B[0m, in \u001B[0;36mcollate_tensor_fn\u001B[1;34m(batch, collate_fn_map)\u001B[0m\n\u001B[0;32m    160\u001B[0m     storage \u001B[38;5;241m=\u001B[39m elem\u001B[38;5;241m.\u001B[39m_typed_storage()\u001B[38;5;241m.\u001B[39m_new_shared(numel, device\u001B[38;5;241m=\u001B[39melem\u001B[38;5;241m.\u001B[39mdevice)\n\u001B[0;32m    161\u001B[0m     out \u001B[38;5;241m=\u001B[39m elem\u001B[38;5;241m.\u001B[39mnew(storage)\u001B[38;5;241m.\u001B[39mresize_(\u001B[38;5;28mlen\u001B[39m(batch), \u001B[38;5;241m*\u001B[39m\u001B[38;5;28mlist\u001B[39m(elem\u001B[38;5;241m.\u001B[39msize()))\n\u001B[1;32m--> 162\u001B[0m \u001B[38;5;28;01mreturn\u001B[39;00m \u001B[43mtorch\u001B[49m\u001B[38;5;241;43m.\u001B[39;49m\u001B[43mstack\u001B[49m\u001B[43m(\u001B[49m\u001B[43mbatch\u001B[49m\u001B[43m,\u001B[49m\u001B[43m \u001B[49m\u001B[38;5;241;43m0\u001B[39;49m\u001B[43m,\u001B[49m\u001B[43m \u001B[49m\u001B[43mout\u001B[49m\u001B[38;5;241;43m=\u001B[39;49m\u001B[43mout\u001B[49m\u001B[43m)\u001B[49m\n",
      "\u001B[1;31mRuntimeError\u001B[0m: stack expects each tensor to be equal size, but got [25] at entry 0 and [32] at entry 1"
>>>>>>> ca189c4c490c574a6c6b312b2e0ba8535fa874f3
     ]
    }
   ],
   "source": [
    "# Train simple NN model\n",
    "num_epochs = 50\n",
    "hidden_dim = 256\n",
    "num_features = 69\n",
    "learning_rate =  3e-4\n",
    "device = torch.device(\"cuda\" if torch.cuda.is_available() else \"cpu\")\n",
    "\n",
    "simple_nn_model = RecommenderNet(num_features, hidden_size=hidden_dim, dropout_bool=False)\n",
    "simple_nn_criterion = nn.BCEWithLogitsLoss()\n",
    "\n",
    "print(f\"Training on device: {device}\")\n",
    "print(f\"Now training simple MLP model (without dropout)\")\n",
    "nn_train_loss, nn_val_loss = train(simple_nn_model, simple_nn_criterion, num_epochs, learning_rate, train_loader, dev_loader, device)"
   ]
  },
  {
   "cell_type": "code",
   "execution_count": 21,
   "metadata": {},
   "outputs": [
    {
     "data": {
      "image/png": "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",
      "text/plain": [
       "<Figure size 640x480 with 1 Axes>"
      ]
     },
     "metadata": {},
     "output_type": "display_data"
    }
   ],
   "source": [
    "import matplotlib.pyplot as plt\n",
    "\n",
    "plt.plot(range(num_epochs), nn_train_loss)\n",
    "plt.xlabel(\"Number of epochs\")\n",
    "plt.ylabel(\"Training loss\")\n",
    "plt.savefig(\"simple_nn_training_loss.png\")\n",
    "plt.clf()\n",
    "\n",
    "plt.plot(range(num_epochs), nn_val_loss)\n",
    "plt.xlabel(\"Number of epochs\")\n",
    "plt.ylabel(\"Validation loss\")\n",
    "plt.savefig(\"simple_nn_validation_loss.png\")"
   ]
  },
  {
   "cell_type": "code",
   "execution_count": 25,
   "metadata": {},
   "outputs": [
    {
     "name": "stderr",
     "output_type": "stream",
     "text": [
      "100%|██████████| 39959/39959 [00:37<00:00, 1076.10it/s]\n",
      "100%|██████████| 199549/199549 [03:10<00:00, 1046.47it/s]\n"
     ]
    }
   ],
   "source": [
    "# Test and save results of simple NN model\n",
    "if not os.path.isdir(\"test_output\"):\n",
    "    os.makedirs(\"test_output\")\n",
    "\n",
    "# For validation set\n",
    "test_and_write(\"test_output/simple_nn_val.csv\", simple_nn_model, dev_loader)\n",
    "# And for testing set\n",
    "test_and_write(\"test_output/simple_nn_test.csv\", simple_nn_model, test_loader)"
   ]
  },
  {
   "cell_type": "code",
<<<<<<< HEAD
   "execution_count": 26,
   "metadata": {},
   "outputs": [
    {
     "name": "stdout",
     "output_type": "stream",
     "text": [
      "Now training simple MLP model (with dropout)\n",
      "Now training epoch 0\n"
     ]
    },
    {
     "name": "stderr",
     "output_type": "stream",
     "text": [
      "100%|██████████| 159836/159836 [06:16<00:00, 424.92it/s]\n"
     ]
    },
    {
     "name": "stdout",
     "output_type": "stream",
     "text": [
      "Now training epoch 1\n"
     ]
    },
    {
     "name": "stderr",
     "output_type": "stream",
     "text": [
      "100%|██████████| 159836/159836 [05:55<00:00, 450.15it/s]\n"
     ]
    },
    {
     "name": "stdout",
     "output_type": "stream",
     "text": [
      "Now training epoch 2\n"
     ]
    },
    {
     "name": "stderr",
     "output_type": "stream",
     "text": [
      "100%|██████████| 159836/159836 [05:52<00:00, 452.89it/s]\n"
     ]
    },
    {
     "name": "stdout",
     "output_type": "stream",
     "text": [
      "Now training epoch 3\n"
     ]
    },
    {
     "name": "stderr",
     "output_type": "stream",
     "text": [
      "100%|██████████| 159836/159836 [05:52<00:00, 453.46it/s]\n"
     ]
    },
    {
     "name": "stdout",
     "output_type": "stream",
     "text": [
      "Now training epoch 4\n"
     ]
    },
    {
     "name": "stderr",
     "output_type": "stream",
     "text": [
      "100%|██████████| 159836/159836 [05:51<00:00, 454.98it/s]\n"
     ]
    },
    {
     "name": "stdout",
     "output_type": "stream",
     "text": [
      "Now training epoch 5\n"
     ]
    },
    {
     "name": "stderr",
     "output_type": "stream",
     "text": [
      "100%|██████████| 159836/159836 [05:51<00:00, 454.23it/s]\n"
     ]
    },
    {
     "name": "stdout",
     "output_type": "stream",
     "text": [
      "Now training epoch 6\n"
     ]
    },
    {
     "name": "stderr",
     "output_type": "stream",
     "text": [
      "100%|██████████| 159836/159836 [05:52<00:00, 454.04it/s]\n"
     ]
    },
    {
     "name": "stdout",
     "output_type": "stream",
     "text": [
      "Now training epoch 7\n"
     ]
    },
    {
     "name": "stderr",
     "output_type": "stream",
     "text": [
      "100%|██████████| 159836/159836 [05:51<00:00, 455.28it/s]\n"
     ]
    },
    {
     "name": "stdout",
     "output_type": "stream",
     "text": [
      "Now training epoch 8\n"
     ]
    },
    {
     "name": "stderr",
     "output_type": "stream",
     "text": [
      "100%|██████████| 159836/159836 [05:51<00:00, 455.28it/s]\n"
     ]
    },
    {
     "name": "stdout",
     "output_type": "stream",
     "text": [
      "Now training epoch 9\n"
     ]
    },
    {
     "name": "stderr",
     "output_type": "stream",
     "text": [
      "100%|██████████| 159836/159836 [05:50<00:00, 455.67it/s]\n"
     ]
    },
    {
     "name": "stdout",
     "output_type": "stream",
     "text": [
      "Now training epoch 10\n"
     ]
    },
    {
     "name": "stderr",
     "output_type": "stream",
     "text": [
      "100%|██████████| 159836/159836 [05:51<00:00, 454.98it/s]\n"
     ]
    },
    {
     "name": "stdout",
     "output_type": "stream",
     "text": [
      "Now training epoch 11\n"
     ]
    },
    {
     "name": "stderr",
     "output_type": "stream",
     "text": [
      "100%|██████████| 159836/159836 [05:51<00:00, 454.31it/s]\n"
     ]
    },
    {
     "name": "stdout",
     "output_type": "stream",
     "text": [
      "Now training epoch 12\n"
     ]
    },
    {
     "name": "stderr",
     "output_type": "stream",
     "text": [
      "100%|██████████| 159836/159836 [05:50<00:00, 456.19it/s]\n"
     ]
    },
    {
     "name": "stdout",
     "output_type": "stream",
     "text": [
      "Now training epoch 13\n"
     ]
    },
    {
     "name": "stderr",
     "output_type": "stream",
     "text": [
      "100%|██████████| 159836/159836 [05:50<00:00, 455.45it/s]\n"
     ]
    },
    {
     "name": "stdout",
     "output_type": "stream",
     "text": [
      "Now training epoch 14\n"
     ]
    },
    {
     "name": "stderr",
     "output_type": "stream",
     "text": [
      "100%|██████████| 159836/159836 [05:51<00:00, 455.26it/s]\n"
     ]
    },
    {
     "name": "stdout",
     "output_type": "stream",
     "text": [
      "Now training epoch 15\n"
     ]
    },
    {
     "name": "stderr",
     "output_type": "stream",
     "text": [
      "100%|██████████| 159836/159836 [05:50<00:00, 456.51it/s]\n"
     ]
    },
    {
     "name": "stdout",
     "output_type": "stream",
     "text": [
      "Now training epoch 16\n"
     ]
    },
    {
     "name": "stderr",
     "output_type": "stream",
     "text": [
      "100%|██████████| 159836/159836 [05:50<00:00, 456.07it/s]\n"
     ]
    },
    {
     "name": "stdout",
     "output_type": "stream",
     "text": [
      "Now training epoch 17\n"
     ]
    },
    {
     "name": "stderr",
     "output_type": "stream",
     "text": [
      "100%|██████████| 159836/159836 [05:50<00:00, 455.81it/s]\n"
     ]
    },
    {
     "name": "stdout",
     "output_type": "stream",
     "text": [
      "Now training epoch 18\n"
     ]
    },
    {
     "name": "stderr",
     "output_type": "stream",
     "text": [
      "100%|██████████| 159836/159836 [05:51<00:00, 454.87it/s]\n"
     ]
    },
    {
     "name": "stdout",
     "output_type": "stream",
     "text": [
      "Now training epoch 19\n"
     ]
    },
    {
     "name": "stderr",
     "output_type": "stream",
     "text": [
      "100%|██████████| 159836/159836 [05:49<00:00, 456.95it/s]\n"
     ]
    },
    {
     "name": "stdout",
     "output_type": "stream",
     "text": [
      "Now training epoch 20\n"
     ]
    },
    {
     "name": "stderr",
     "output_type": "stream",
     "text": [
      "100%|██████████| 159836/159836 [05:50<00:00, 455.85it/s]\n"
     ]
    },
    {
     "name": "stdout",
     "output_type": "stream",
     "text": [
      "Now training epoch 21\n"
     ]
    },
    {
     "name": "stderr",
     "output_type": "stream",
     "text": [
      "100%|██████████| 159836/159836 [05:50<00:00, 455.72it/s]\n"
     ]
    },
    {
     "name": "stdout",
     "output_type": "stream",
     "text": [
      "Now training epoch 22\n"
     ]
    },
    {
     "name": "stderr",
     "output_type": "stream",
     "text": [
      "100%|██████████| 159836/159836 [05:50<00:00, 455.50it/s]\n"
     ]
    },
    {
     "name": "stdout",
     "output_type": "stream",
     "text": [
      "Now training epoch 23\n"
     ]
    },
    {
     "name": "stderr",
     "output_type": "stream",
     "text": [
      "100%|██████████| 159836/159836 [05:51<00:00, 454.34it/s]\n"
     ]
    },
    {
     "name": "stdout",
     "output_type": "stream",
     "text": [
      "Now training epoch 24\n"
     ]
    },
    {
     "name": "stderr",
     "output_type": "stream",
     "text": [
      "100%|██████████| 159836/159836 [05:50<00:00, 455.71it/s]\n"
     ]
    },
    {
     "name": "stdout",
     "output_type": "stream",
     "text": [
      "Now training epoch 25\n"
     ]
    },
    {
     "name": "stderr",
     "output_type": "stream",
     "text": [
      "100%|██████████| 159836/159836 [05:50<00:00, 456.19it/s]\n"
     ]
    },
    {
     "name": "stdout",
     "output_type": "stream",
     "text": [
      "Now training epoch 26\n"
     ]
    },
    {
     "name": "stderr",
     "output_type": "stream",
     "text": [
      "100%|██████████| 159836/159836 [05:50<00:00, 455.51it/s]\n"
     ]
    },
    {
     "name": "stdout",
     "output_type": "stream",
     "text": [
      "Now training epoch 27\n"
     ]
    },
    {
     "name": "stderr",
     "output_type": "stream",
     "text": [
      "100%|██████████| 159836/159836 [05:50<00:00, 455.60it/s]\n"
     ]
    },
    {
     "name": "stdout",
     "output_type": "stream",
     "text": [
      "Now training epoch 28\n"
     ]
    },
    {
     "name": "stderr",
     "output_type": "stream",
     "text": [
      "100%|██████████| 159836/159836 [05:50<00:00, 456.54it/s]\n"
     ]
    },
    {
     "name": "stdout",
     "output_type": "stream",
     "text": [
      "Now training epoch 29\n"
     ]
    },
    {
     "name": "stderr",
     "output_type": "stream",
     "text": [
      "100%|██████████| 159836/159836 [05:49<00:00, 456.78it/s]\n"
     ]
    },
    {
     "name": "stdout",
     "output_type": "stream",
     "text": [
      "Now training epoch 30\n"
     ]
    },
    {
     "name": "stderr",
     "output_type": "stream",
     "text": [
      "100%|██████████| 159836/159836 [05:51<00:00, 454.87it/s]\n"
     ]
    },
    {
     "name": "stdout",
     "output_type": "stream",
     "text": [
      "Now training epoch 31\n"
     ]
    },
    {
     "name": "stderr",
     "output_type": "stream",
     "text": [
      "100%|██████████| 159836/159836 [05:50<00:00, 455.75it/s]\n"
     ]
    },
    {
     "name": "stdout",
     "output_type": "stream",
     "text": [
      "Now training epoch 32\n"
     ]
    },
    {
     "name": "stderr",
     "output_type": "stream",
     "text": [
      "100%|██████████| 159836/159836 [05:49<00:00, 457.21it/s]\n"
     ]
    },
    {
     "name": "stdout",
     "output_type": "stream",
     "text": [
      "Now training epoch 33\n"
     ]
    },
    {
     "name": "stderr",
     "output_type": "stream",
     "text": [
      "100%|██████████| 159836/159836 [05:51<00:00, 455.31it/s]\n"
     ]
    },
    {
     "name": "stdout",
     "output_type": "stream",
     "text": [
      "Now training epoch 34\n"
     ]
    },
    {
     "name": "stderr",
     "output_type": "stream",
     "text": [
      "100%|██████████| 159836/159836 [05:51<00:00, 455.26it/s]\n"
     ]
    },
    {
     "name": "stdout",
     "output_type": "stream",
     "text": [
      "Now training epoch 35\n"
     ]
    },
    {
     "name": "stderr",
     "output_type": "stream",
     "text": [
      "100%|██████████| 159836/159836 [05:51<00:00, 454.38it/s]\n"
     ]
    },
    {
     "name": "stdout",
     "output_type": "stream",
     "text": [
      "Now training epoch 36\n"
     ]
    },
    {
     "name": "stderr",
     "output_type": "stream",
     "text": [
      "100%|██████████| 159836/159836 [05:50<00:00, 455.99it/s]\n"
     ]
    },
    {
     "name": "stdout",
     "output_type": "stream",
     "text": [
      "Now training epoch 37\n"
     ]
    },
    {
     "name": "stderr",
     "output_type": "stream",
     "text": [
      "100%|██████████| 159836/159836 [05:52<00:00, 454.07it/s]\n"
     ]
    },
    {
     "name": "stdout",
     "output_type": "stream",
     "text": [
      "Now training epoch 38\n"
     ]
    },
    {
     "name": "stderr",
     "output_type": "stream",
     "text": [
      "100%|██████████| 159836/159836 [05:51<00:00, 454.37it/s]\n"
     ]
    },
    {
     "name": "stdout",
     "output_type": "stream",
     "text": [
      "Now training epoch 39\n"
     ]
    },
    {
     "name": "stderr",
     "output_type": "stream",
     "text": [
      "100%|██████████| 159836/159836 [05:52<00:00, 453.39it/s]\n"
     ]
    },
    {
     "name": "stdout",
     "output_type": "stream",
     "text": [
      "Now training epoch 40\n"
     ]
    },
    {
     "name": "stderr",
     "output_type": "stream",
     "text": [
      "100%|██████████| 159836/159836 [05:51<00:00, 454.71it/s]\n"
     ]
    },
    {
     "name": "stdout",
     "output_type": "stream",
     "text": [
      "Now training epoch 41\n"
     ]
    },
    {
     "name": "stderr",
     "output_type": "stream",
     "text": [
      "100%|██████████| 159836/159836 [05:52<00:00, 453.16it/s]\n"
     ]
    },
    {
     "name": "stdout",
     "output_type": "stream",
     "text": [
      "Now training epoch 42\n"
     ]
    },
    {
     "name": "stderr",
     "output_type": "stream",
     "text": [
      "100%|██████████| 159836/159836 [05:51<00:00, 454.79it/s]\n"
     ]
    },
    {
     "name": "stdout",
     "output_type": "stream",
     "text": [
      "Now training epoch 43\n"
     ]
    },
    {
     "name": "stderr",
     "output_type": "stream",
     "text": [
      "100%|██████████| 159836/159836 [05:50<00:00, 455.65it/s]\n"
     ]
    },
    {
     "name": "stdout",
     "output_type": "stream",
     "text": [
      "Now training epoch 44\n"
     ]
    },
    {
     "name": "stderr",
     "output_type": "stream",
     "text": [
      "100%|██████████| 159836/159836 [05:51<00:00, 454.52it/s]\n"
     ]
    },
    {
     "name": "stdout",
     "output_type": "stream",
     "text": [
      "Now training epoch 45\n"
     ]
    },
    {
     "name": "stderr",
     "output_type": "stream",
     "text": [
      "100%|██████████| 159836/159836 [05:51<00:00, 454.24it/s]\n"
     ]
    },
    {
     "name": "stdout",
     "output_type": "stream",
     "text": [
      "Now training epoch 46\n"
     ]
    },
    {
     "name": "stderr",
     "output_type": "stream",
     "text": [
      "100%|██████████| 159836/159836 [05:51<00:00, 454.11it/s]\n"
     ]
    },
    {
     "name": "stdout",
     "output_type": "stream",
     "text": [
      "Now training epoch 47\n"
     ]
    },
    {
     "name": "stderr",
     "output_type": "stream",
     "text": [
      "100%|██████████| 159836/159836 [05:51<00:00, 454.88it/s]\n"
     ]
    },
    {
     "name": "stdout",
     "output_type": "stream",
     "text": [
      "Now training epoch 48\n"
     ]
    },
    {
     "name": "stderr",
     "output_type": "stream",
     "text": [
      "100%|██████████| 159836/159836 [05:51<00:00, 454.83it/s]\n"
     ]
    },
    {
     "name": "stdout",
     "output_type": "stream",
     "text": [
      "Now training epoch 49\n"
     ]
    },
    {
     "name": "stderr",
     "output_type": "stream",
     "text": [
      "100%|██████████| 159836/159836 [05:53<00:00, 451.96it/s]\n"
     ]
    }
   ],
=======
   "execution_count": null,
   "metadata": {},
   "outputs": [],
>>>>>>> ca189c4c490c574a6c6b312b2e0ba8535fa874f3
   "source": [
    "simple_nn_model_dropout = RecommenderNet(num_features, hidden_size=hidden_dim, dropout_bool=True)\n",
    "simple_nn_criterion_dropout = nn.BCEWithLogitsLoss()\n",
    "\n",
    "print(f\"Now training simple MLP model (with dropout)\")\n",
    "nn_train_loss_dropout, nn_val_loss_dropout = train(simple_nn_model_dropout, simple_nn_criterion_dropout, num_epochs, learning_rate, train_loader, dev_loader, device)"
   ]
  },
  {
   "cell_type": "code",
   "execution_count": 27,
   "metadata": {},
   "outputs": [
    {
     "data": {
      "image/png": "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",
      "text/plain": [
       "<Figure size 640x480 with 1 Axes>"
      ]
     },
     "metadata": {},
     "output_type": "display_data"
    }
   ],
   "source": [
    "import matplotlib.pyplot as plt\n",
    "\n",
    "plt.plot(range(num_epochs), nn_train_loss_dropout)\n",
    "plt.xlabel(\"Number of epochs\")\n",
    "plt.ylabel(\"Training loss\")\n",
    "plt.savefig(\"simple_nn_training_loss_dropout.png\")\n",
    "plt.clf()\n",
    "\n",
    "plt.plot(range(num_epochs), nn_val_loss_dropout)\n",
    "plt.xlabel(\"Number of epochs\")\n",
    "plt.ylabel(\"Validation loss\")\n",
    "plt.savefig(\"simple_nn_validation_loss_dropout.png\")"
   ]
  },
  {
   "cell_type": "code",
   "execution_count": 28,
   "metadata": {},
   "outputs": [
    {
     "name": "stderr",
     "output_type": "stream",
     "text": [
      "100%|██████████| 39959/39959 [00:35<00:00, 1121.36it/s]\n",
      "100%|██████████| 199549/199549 [02:58<00:00, 1118.75it/s]\n"
     ]
    }
   ],
   "source": [
    "# Also save results for the dropout model\n",
    "# For validation set\n",
    "test_and_write(\"test_output/simple_nn_dropout_val.csv\", simple_nn_model_dropout, dev_loader)\n",
    "# And for testing set\n",
    "test_and_write(\"test_output/simple_nn_dropout_test.csv\", simple_nn_model_dropout, test_loader)"
   ]
  },
  {
   "cell_type": "code",
   "execution_count": null,
   "metadata": {},
   "outputs": [],
   "source": [
    "# Calculate NDCG score for validation set\n",
    "# nn_score = NDCG_from_file(\"simple_nn_val.txt\", train_df, 5)\n",
    "# print(f\"NDGC score for the simple MLP (on validation set): {nn_score}\")"
   ]
  }
 ],
 "metadata": {
  "kernelspec": {
   "display_name": "Python 3",
   "language": "python",
   "name": "python3"
  },
  "language_info": {
   "codemirror_mode": {
    "name": "ipython",
    "version": 3
   },
   "file_extension": ".py",
   "mimetype": "text/x-python",
   "name": "python",
   "nbconvert_exporter": "python",
   "pygments_lexer": "ipython3",
   "version": "3.10.10"
  }
 },
 "nbformat": 4,
 "nbformat_minor": 0
}
