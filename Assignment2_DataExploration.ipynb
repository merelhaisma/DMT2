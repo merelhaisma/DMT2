{
 "cells": [
  {
   "cell_type": "code",
   "execution_count": 1,
   "outputs": [],
   "source": [
    "# Import the required libraries\n",
    "import os\n",
    "import pandas as pd\n",
    "import numpy as np\n",
    "import seaborn as sns\n",
    "import matplotlib.pyplot as plt"
   ],
   "metadata": {
    "collapsed": false,
    "ExecuteTime": {
     "end_time": "2023-05-18T08:52:20.052631600Z",
     "start_time": "2023-05-18T08:52:19.978632900Z"
    }
   }
  },
  {
   "cell_type": "code",
   "execution_count": 2,
   "outputs": [],
   "source": [
    "# Load the data into pandas dataframes. The data has to be manually saved to a folder called 'data'.\n",
    "# Note: the data is quite large, so this may take a while (~40 seconds) if the data is read as a csv. To speed up further file reading, it is converted to pickle format.\n",
    "if (os.path.exists(os.path.join('data', 'training_set_VU_DM.pickle'))\n",
    "    & os.path.exists((os.path.join('data', 'test_set_VU_DM.pickle')))):\n",
    "    train_df = pd.read_pickle(os.path.join('data', 'training_set_VU_DM.pickle'))\n",
    "    test_df = pd.read_pickle(os.path.join('data', 'test_set_VU_DM.pickle'))\n",
    "else:\n",
    "    train_df = pd.read_csv(os.path.join('data', 'training_set_VU_DM.csv'))\n",
    "    test_df = pd.read_csv(os.path.join('data', 'test_set_VU_DM.csv'))\n",
    "    train_df.to_pickle(os.path.join('data', 'training_set_VU_DM.pickle'))\n",
    "    test_df.to_pickle(os.path.join('data', 'test_set_VU_DM.pickle'))"
   ],
   "metadata": {
    "collapsed": false,
    "ExecuteTime": {
     "end_time": "2023-05-18T08:52:25.670455800Z",
     "start_time": "2023-05-18T08:52:19.985732100Z"
    }
   }
  },
  {
   "cell_type": "code",
   "execution_count": 3,
   "outputs": [
    {
     "name": "stdout",
     "output_type": "stream",
     "text": [
      "Period of data collection: 2012/11/01 - 2013/06/30\n",
      "Train data contains 4,958,347 rows and 54 columns\n",
      "Test data contains 4,959,183 rows and 50 columns\n",
      "\n",
      "Number of unique search IDs: 199,795\n",
      "Number of unique property IDs: 129,113\n",
      "Number of clicks per search: avg. 1.11, std. 0.21\n",
      "Number of bookings per search: avg. 0.69, std. 0.16\n"
     ]
    }
   ],
   "source": [
    "print(f\"Period of data collection: {pd.to_datetime(train_df['date_time']).min().strftime('%Y/%m/%d')} - {pd.to_datetime(train_df['date_time']).max().strftime('%Y/%m/%d')}\")\n",
    "print(f\"Train data contains {train_df.shape[0]:,} rows and {train_df.shape[1]} columns\")\n",
    "print(f\"Test data contains {test_df.shape[0]:,} rows and {test_df.shape[1]} columns\")\n",
    "print()\n",
    "print(f\"Number of unique search IDs: {len(train_df['srch_id'].unique()):,}\")\n",
    "print(f\"Number of unique property IDs: {len(train_df['prop_id'].unique()):,}\")\n",
    "print(f\"Number of clicks per search: avg. {train_df['click_bool'].sum() / len(train_df['srch_id'].unique()):.2f}, std. {train_df['click_bool'].std():.2f}\")\n",
    "print(f\"Number of bookings per search: avg. {train_df['booking_bool'].sum() / len(train_df['srch_id'].unique()):.2f}, std. {train_df['booking_bool'].std():.2f}\")"
   ],
   "metadata": {
    "collapsed": false,
    "ExecuteTime": {
     "end_time": "2023-05-18T08:52:27.527307500Z",
     "start_time": "2023-05-18T08:52:25.672508200Z"
    }
   }
  },
  {
   "cell_type": "markdown",
   "source": [
    "### Data Columns"
   ],
   "metadata": {
    "collapsed": false
   }
  },
  {
   "cell_type": "markdown",
   "source": [
    "| Column Name                 | Data Type | Description                                                                                                                                                                                                         |\n",
    "|-----------------------------|-----------|---------------------------------------------------------------------------------------------------------------------------------------------------------------------------------------------------------------------|\n",
    "| position                    | Integer   | Hotel position on Expedia's search results page. This is only provided for the training data, but not the test data.                                                                                                |\n",
    "| gross_booking_usd           | Float     | Total value of the transaction. This can differ from the price_usd due to taxes, fees, conventions on multiple day bookings and purchase of a room type other than the one shown in the search                      |\n",
    "| click_bool                  | Boolean   | 1 if the user clicked on the property, 0 if not.                                                                                                                                                                    |\n",
    "| booking_bool                | Boolean   | 1 if the user booked the property, 0 if not.                                                                                                                                                                        |\n",
    "|                             |           |                                                                                                                                                                                                                     |\n",
    "| srch_id                     | Integer   | The ID of the search                                                                                                                                                                                                |\n",
    "| date_time                   | Date/time | Date and time of the search                                                                                                                                                                                         |\n",
    "| site_id                     | Integer   | ID of the Expedia point of sale (i.e. Expedia.com, Expedia.co.uk, Expedia.co.jp, ..)                                                                                                                                |\n",
    "| visitor_location_country_id | Integer   | The ID of the country the customer is located                                                                                                                                                                       |\n",
    "| visitor_hist_starrating     | Float     | The mean star rating of hotels the customer has previously purchased; null signifies there is no purchase history on the customer                                                                                   |\n",
    "| visitor_hist_adr_usd        | Float     | The mean price per night (in US$) of the hotels the customer has previously purchased; null signifies there is no purchase history on the customer                                                                  |\n",
    "| prop_country_id             | Integer   | The ID of the country the hotel is located in                                                                                                                                                                       |\n",
    "| prop_id                     | Integer   | The ID of the hotel                                                                                                                                                                                                 |\n",
    "| prop_starrating             | Integer   | The star rating of the hotel, from 1 to 5, in increments of 1. A 0 indicates the property has no stars, the star rating is not known or cannot be publicized.                                                       |\n",
    "| prop_review_score           | Float     | The mean customer review score for the hotel on a scale out of 5, rounded to 0.5 increments. A 0 means there have been no reviews, null that the information is not available.                                      |\n",
    "| prop_brand_bool             | Integer   | +1 if the hotel is part of a major hotel chain; 0 if it is an independent hotel                                                                                                                                     |\n",
    "| prop_location_score1        | Float     | A (first) score outlining the desirability of a hotel’s location                                                                                                                                                    |\n",
    "| prop_location_score2        | Float     | A (second) score outlining the desirability of the hotel’s location                                                                                                                                                 |\n",
    "| prop_log_historical_price   | Float     | The logarithm of the mean price of the hotel over the last trading period. A 0 will occur if the hotel was not sold in that period.                                                                                 |\n",
    "| price_usd                   | Float     | Displayed price of the hotel for the given search. Note that different countries have different conventions regarding displaying taxes and fees and the value may be per night or for the whole stay                |\n",
    "| promotion_flag              | Integer   | +1 if the hotel had a sale price promotion specifically displayed                                                                                                                                                   |\n",
    "| srch_destination_id         | Integer   | ID of the destination where the hotel search was performed                                                                                                                                                          |\n",
    "| srch_length_of_stay         | Integer   | Number of nights stay that was searched                                                                                                                                                                             |\n",
    "| srch_booking_window         | Integer   | Number of days in the future the hotel stay started from the search date                                                                                                                                            |\n",
    "| srch_adults_count           | Integer   | The number of adults specified in the hotel room                                                                                                                                                                    |\n",
    "| srch_children_count         | Integer   | The number of (extra occupancy) children specified in the hotel room                                                                                                                                                |\n",
    "| srch_room_count             | Integer   | Number of hotel rooms specified in the search                                                                                                                                                                       |\n",
    "| srch_saturday_night_bool    | Boolean   | +1 if the stay includes a Saturday night, starts from Thursday with a length of stay is less than or equal to 4 nights (i.e. weekend); otherwise 0                                                                  |\n",
    "| srch_query_affinity_score   | Float     | The log of the probability a hotel will be clicked on in Internet searches (hence the values are negative) A null signifies there are no data (i.e. hotel did not register in any searches)                         |\n",
    "| orig_destination_distance   | Float     | Physical distance between the hotel and the customer at the time of search. A null means the distance could not be calculated.                                                                                      |\n",
    "| random_bool                 | Boolean   | +1 when the displayed sort was random, 0 when the normal sort order was displayed                                                                                                                                   |\n",
    "| comp*x*_rate                | Integer   | '*x*' denotes the competitor number. +1 if Expedia has a lower price than competitor 1 for the hotel; 0 if the same; -1 if Expedia’s price is higher than competitor 1; null signifies there is no competitive data |\n",
    "| comp*x*_inv                 | Integer   | '*x*' denotes the competitor number. +1 if competitor 1 does not have availability in the hotel; 0 if both Expedia and competitor 1 have availability; null signifies there is no competitive data                  |\n",
    "| comp*x*_rate_percent_diff   | Float     | '*x*' denotes the competitor number. The absolute percentage difference (if one exists) between Expedia and competitor 1’s price (Expedia’s price the denominator); null signifies there is no competitive data     |\n"
   ],
   "metadata": {
    "collapsed": false
   }
  },
  {
   "cell_type": "markdown",
   "source": [
    "## Ideas for feature engineering\n",
    "The 1st place team of the original Kaggle competition commented they used the following features:\n",
    "-all numeric features\n",
    "-average of numeric features per prop_id\n",
    "-stddev of numeric features per prop_id\n",
    "-median of numeric features per prop_id\n",
    "\n",
    "\n",
    "Own ideas:\n",
    "traveling_abroad: boolean whether visitor_location_country_id != prop_country_id\n",
    "srch_prop_country_match: boolean whether srch_destination_id == prop_country_id"
   ],
   "metadata": {
    "collapsed": false
   }
  },
  {
   "cell_type": "markdown",
   "source": [
    "# Data Exploration"
   ],
   "metadata": {
    "collapsed": false
   }
  },
  {
   "cell_type": "code",
   "execution_count": 4,
   "outputs": [
    {
     "data": {
      "text/plain": "     srch_id            date_time  site_id  visitor_location_country_id   \n0          1  2013-04-04 08:32:15       12                          187  \\\n1          1  2013-04-04 08:32:15       12                          187   \n2          1  2013-04-04 08:32:15       12                          187   \n3          1  2013-04-04 08:32:15       12                          187   \n4          1  2013-04-04 08:32:15       12                          187   \n..       ...                  ...      ...                          ...   \n495       44  2013-03-19 15:57:46       15                           55   \n496       44  2013-03-19 15:57:46       15                           55   \n497       44  2013-03-19 15:57:46       15                           55   \n498       45  2013-05-18 09:25:08       14                          100   \n499       45  2013-05-18 09:25:08       14                          100   \n\n     visitor_hist_starrating  visitor_hist_adr_usd  prop_country_id  prop_id   \n0                        NaN                   NaN              219      893  \\\n1                        NaN                   NaN              219    10404   \n2                        NaN                   NaN              219    21315   \n3                        NaN                   NaN              219    27348   \n4                        NaN                   NaN              219    29604   \n..                       ...                   ...              ...      ...   \n495                      NaN                   NaN               55   130270   \n496                      NaN                   NaN               55   138977   \n497                      NaN                   NaN               55   139249   \n498                      NaN                   NaN              219     2924   \n499                      NaN                   NaN              219    25444   \n\n     prop_starrating  prop_review_score  ...  comp6_rate_percent_diff   \n0                  3                3.5  ...                      NaN  \\\n1                  4                4.0  ...                      NaN   \n2                  3                4.5  ...                      NaN   \n3                  2                4.0  ...                      NaN   \n4                  4                3.5  ...                      NaN   \n..               ...                ...  ...                      ...   \n495                5                4.5  ...                      NaN   \n496                4                4.5  ...                      NaN   \n497                5                4.5  ...                      NaN   \n498                4                4.5  ...                      NaN   \n499                4                4.0  ...                      NaN   \n\n     comp7_rate  comp7_inv  comp7_rate_percent_diff  comp8_rate  comp8_inv   \n0           NaN        NaN                      NaN         0.0        0.0  \\\n1           NaN        NaN                      NaN         0.0        0.0   \n2           NaN        NaN                      NaN         0.0        0.0   \n3           NaN        NaN                      NaN        -1.0        0.0   \n4           NaN        NaN                      NaN         0.0        0.0   \n..          ...        ...                      ...         ...        ...   \n495         0.0        0.0                      NaN         NaN        NaN   \n496         NaN        NaN                      NaN         NaN        NaN   \n497         1.0        0.0                     20.0         NaN        NaN   \n498         NaN        NaN                      NaN         0.0        0.0   \n499         NaN        NaN                      NaN         0.0        0.0   \n\n     comp8_rate_percent_diff  click_bool  gross_bookings_usd  booking_bool  \n0                        NaN           0                 NaN             0  \n1                        NaN           0                 NaN             0  \n2                        NaN           0                 NaN             0  \n3                        5.0           0                 NaN             0  \n4                        NaN           0                 NaN             0  \n..                       ...         ...                 ...           ...  \n495                      NaN           0                 NaN             0  \n496                      NaN           0                 NaN             0  \n497                      NaN           0                 NaN             0  \n498                      NaN           0                 NaN             0  \n499                      NaN           0                 NaN             0  \n\n[500 rows x 54 columns]",
      "text/html": "<div>\n<style scoped>\n    .dataframe tbody tr th:only-of-type {\n        vertical-align: middle;\n    }\n\n    .dataframe tbody tr th {\n        vertical-align: top;\n    }\n\n    .dataframe thead th {\n        text-align: right;\n    }\n</style>\n<table border=\"1\" class=\"dataframe\">\n  <thead>\n    <tr style=\"text-align: right;\">\n      <th></th>\n      <th>srch_id</th>\n      <th>date_time</th>\n      <th>site_id</th>\n      <th>visitor_location_country_id</th>\n      <th>visitor_hist_starrating</th>\n      <th>visitor_hist_adr_usd</th>\n      <th>prop_country_id</th>\n      <th>prop_id</th>\n      <th>prop_starrating</th>\n      <th>prop_review_score</th>\n      <th>...</th>\n      <th>comp6_rate_percent_diff</th>\n      <th>comp7_rate</th>\n      <th>comp7_inv</th>\n      <th>comp7_rate_percent_diff</th>\n      <th>comp8_rate</th>\n      <th>comp8_inv</th>\n      <th>comp8_rate_percent_diff</th>\n      <th>click_bool</th>\n      <th>gross_bookings_usd</th>\n      <th>booking_bool</th>\n    </tr>\n  </thead>\n  <tbody>\n    <tr>\n      <th>0</th>\n      <td>1</td>\n      <td>2013-04-04 08:32:15</td>\n      <td>12</td>\n      <td>187</td>\n      <td>NaN</td>\n      <td>NaN</td>\n      <td>219</td>\n      <td>893</td>\n      <td>3</td>\n      <td>3.5</td>\n      <td>...</td>\n      <td>NaN</td>\n      <td>NaN</td>\n      <td>NaN</td>\n      <td>NaN</td>\n      <td>0.0</td>\n      <td>0.0</td>\n      <td>NaN</td>\n      <td>0</td>\n      <td>NaN</td>\n      <td>0</td>\n    </tr>\n    <tr>\n      <th>1</th>\n      <td>1</td>\n      <td>2013-04-04 08:32:15</td>\n      <td>12</td>\n      <td>187</td>\n      <td>NaN</td>\n      <td>NaN</td>\n      <td>219</td>\n      <td>10404</td>\n      <td>4</td>\n      <td>4.0</td>\n      <td>...</td>\n      <td>NaN</td>\n      <td>NaN</td>\n      <td>NaN</td>\n      <td>NaN</td>\n      <td>0.0</td>\n      <td>0.0</td>\n      <td>NaN</td>\n      <td>0</td>\n      <td>NaN</td>\n      <td>0</td>\n    </tr>\n    <tr>\n      <th>2</th>\n      <td>1</td>\n      <td>2013-04-04 08:32:15</td>\n      <td>12</td>\n      <td>187</td>\n      <td>NaN</td>\n      <td>NaN</td>\n      <td>219</td>\n      <td>21315</td>\n      <td>3</td>\n      <td>4.5</td>\n      <td>...</td>\n      <td>NaN</td>\n      <td>NaN</td>\n      <td>NaN</td>\n      <td>NaN</td>\n      <td>0.0</td>\n      <td>0.0</td>\n      <td>NaN</td>\n      <td>0</td>\n      <td>NaN</td>\n      <td>0</td>\n    </tr>\n    <tr>\n      <th>3</th>\n      <td>1</td>\n      <td>2013-04-04 08:32:15</td>\n      <td>12</td>\n      <td>187</td>\n      <td>NaN</td>\n      <td>NaN</td>\n      <td>219</td>\n      <td>27348</td>\n      <td>2</td>\n      <td>4.0</td>\n      <td>...</td>\n      <td>NaN</td>\n      <td>NaN</td>\n      <td>NaN</td>\n      <td>NaN</td>\n      <td>-1.0</td>\n      <td>0.0</td>\n      <td>5.0</td>\n      <td>0</td>\n      <td>NaN</td>\n      <td>0</td>\n    </tr>\n    <tr>\n      <th>4</th>\n      <td>1</td>\n      <td>2013-04-04 08:32:15</td>\n      <td>12</td>\n      <td>187</td>\n      <td>NaN</td>\n      <td>NaN</td>\n      <td>219</td>\n      <td>29604</td>\n      <td>4</td>\n      <td>3.5</td>\n      <td>...</td>\n      <td>NaN</td>\n      <td>NaN</td>\n      <td>NaN</td>\n      <td>NaN</td>\n      <td>0.0</td>\n      <td>0.0</td>\n      <td>NaN</td>\n      <td>0</td>\n      <td>NaN</td>\n      <td>0</td>\n    </tr>\n    <tr>\n      <th>...</th>\n      <td>...</td>\n      <td>...</td>\n      <td>...</td>\n      <td>...</td>\n      <td>...</td>\n      <td>...</td>\n      <td>...</td>\n      <td>...</td>\n      <td>...</td>\n      <td>...</td>\n      <td>...</td>\n      <td>...</td>\n      <td>...</td>\n      <td>...</td>\n      <td>...</td>\n      <td>...</td>\n      <td>...</td>\n      <td>...</td>\n      <td>...</td>\n      <td>...</td>\n      <td>...</td>\n    </tr>\n    <tr>\n      <th>495</th>\n      <td>44</td>\n      <td>2013-03-19 15:57:46</td>\n      <td>15</td>\n      <td>55</td>\n      <td>NaN</td>\n      <td>NaN</td>\n      <td>55</td>\n      <td>130270</td>\n      <td>5</td>\n      <td>4.5</td>\n      <td>...</td>\n      <td>NaN</td>\n      <td>0.0</td>\n      <td>0.0</td>\n      <td>NaN</td>\n      <td>NaN</td>\n      <td>NaN</td>\n      <td>NaN</td>\n      <td>0</td>\n      <td>NaN</td>\n      <td>0</td>\n    </tr>\n    <tr>\n      <th>496</th>\n      <td>44</td>\n      <td>2013-03-19 15:57:46</td>\n      <td>15</td>\n      <td>55</td>\n      <td>NaN</td>\n      <td>NaN</td>\n      <td>55</td>\n      <td>138977</td>\n      <td>4</td>\n      <td>4.5</td>\n      <td>...</td>\n      <td>NaN</td>\n      <td>NaN</td>\n      <td>NaN</td>\n      <td>NaN</td>\n      <td>NaN</td>\n      <td>NaN</td>\n      <td>NaN</td>\n      <td>0</td>\n      <td>NaN</td>\n      <td>0</td>\n    </tr>\n    <tr>\n      <th>497</th>\n      <td>44</td>\n      <td>2013-03-19 15:57:46</td>\n      <td>15</td>\n      <td>55</td>\n      <td>NaN</td>\n      <td>NaN</td>\n      <td>55</td>\n      <td>139249</td>\n      <td>5</td>\n      <td>4.5</td>\n      <td>...</td>\n      <td>NaN</td>\n      <td>1.0</td>\n      <td>0.0</td>\n      <td>20.0</td>\n      <td>NaN</td>\n      <td>NaN</td>\n      <td>NaN</td>\n      <td>0</td>\n      <td>NaN</td>\n      <td>0</td>\n    </tr>\n    <tr>\n      <th>498</th>\n      <td>45</td>\n      <td>2013-05-18 09:25:08</td>\n      <td>14</td>\n      <td>100</td>\n      <td>NaN</td>\n      <td>NaN</td>\n      <td>219</td>\n      <td>2924</td>\n      <td>4</td>\n      <td>4.5</td>\n      <td>...</td>\n      <td>NaN</td>\n      <td>NaN</td>\n      <td>NaN</td>\n      <td>NaN</td>\n      <td>0.0</td>\n      <td>0.0</td>\n      <td>NaN</td>\n      <td>0</td>\n      <td>NaN</td>\n      <td>0</td>\n    </tr>\n    <tr>\n      <th>499</th>\n      <td>45</td>\n      <td>2013-05-18 09:25:08</td>\n      <td>14</td>\n      <td>100</td>\n      <td>NaN</td>\n      <td>NaN</td>\n      <td>219</td>\n      <td>25444</td>\n      <td>4</td>\n      <td>4.0</td>\n      <td>...</td>\n      <td>NaN</td>\n      <td>NaN</td>\n      <td>NaN</td>\n      <td>NaN</td>\n      <td>0.0</td>\n      <td>0.0</td>\n      <td>NaN</td>\n      <td>0</td>\n      <td>NaN</td>\n      <td>0</td>\n    </tr>\n  </tbody>\n</table>\n<p>500 rows × 54 columns</p>\n</div>"
     },
     "execution_count": 4,
     "metadata": {},
     "output_type": "execute_result"
    }
   ],
   "source": [
    "# Check the first 500 rows of the training data\n",
    "train_df.head(500)"
   ],
   "metadata": {
    "collapsed": false,
    "ExecuteTime": {
     "end_time": "2023-05-18T08:52:27.564068800Z",
     "start_time": "2023-05-18T08:52:27.534823600Z"
    }
   }
  },
  {
   "cell_type": "code",
   "execution_count": 5,
   "outputs": [
    {
     "data": {
      "text/plain": "            srch_id       site_id  visitor_location_country_id   \ncount  4.958347e+06  4.958347e+06                 4.958347e+06  \\\nmean   1.663666e+05  9.953133e+00                 1.753405e+02   \nstd    9.611223e+04  7.646890e+00                 6.591625e+01   \nmin    1.000000e+00  1.000000e+00                 1.000000e+00   \n25%    8.293600e+04  5.000000e+00                 1.000000e+02   \n50%    1.665070e+05  5.000000e+00                 2.190000e+02   \n75%    2.497240e+05  1.400000e+01                 2.190000e+02   \nmax    3.327850e+05  3.400000e+01                 2.310000e+02   \n\n       visitor_hist_starrating  visitor_hist_adr_usd  prop_country_id   \ncount            251866.000000         252988.000000     4.958347e+06  \\\nmean                  3.374334            176.022659     1.739739e+02   \nstd                   0.692519            107.254493     6.834525e+01   \nmin                   1.410000              0.000000     1.000000e+00   \n25%                   2.920000            109.810000     1.000000e+02   \n50%                   3.450000            152.240000     2.190000e+02   \n75%                   3.930000            213.490000     2.190000e+02   \nmax                   5.000000           1958.700000     2.300000e+02   \n\n            prop_id  prop_starrating  prop_review_score  prop_brand_bool  ...   \ncount  4.958347e+06     4.958347e+06       4.950983e+06     4.958347e+06  ...  \\\nmean   7.007918e+04     3.180525e+00       3.777777e+00     6.346994e-01  ...   \nstd    4.060992e+04     1.051024e+00       1.050329e+00     4.815144e-01  ...   \nmin    1.000000e+00     0.000000e+00       0.000000e+00     0.000000e+00  ...   \n25%    3.501000e+04     3.000000e+00       3.500000e+00     0.000000e+00  ...   \n50%    6.963800e+04     3.000000e+00       4.000000e+00     1.000000e+00  ...   \n75%    1.051680e+05     4.000000e+00       4.500000e+00     1.000000e+00  ...   \nmax    1.408210e+05     5.000000e+00       5.000000e+00     1.000000e+00  ...   \n\n       comp6_rate_percent_diff     comp7_rate      comp7_inv   \ncount             96174.000000  315348.000000  356422.000000  \\\nmean                 17.250473       0.145969       0.083202   \nstd                  31.160313       0.578202       0.316722   \nmin                   2.000000      -1.000000      -1.000000   \n25%                   6.000000       0.000000       0.000000   \n50%                  11.000000       0.000000       0.000000   \n75%                  18.000000       1.000000       0.000000   \nmax                1620.000000       1.000000       1.000000   \n\n       comp7_rate_percent_diff    comp8_rate     comp8_inv   \ncount            138515.000000  1.916654e+06  1.987503e+06  \\\nmean                 19.433267 -6.089936e-02  9.962752e-03   \nstd                  54.370221  4.691723e-01  2.029142e-01   \nmin                   2.000000 -1.000000e+00 -1.000000e+00   \n25%                   7.000000  0.000000e+00  0.000000e+00   \n50%                  12.000000  0.000000e+00  0.000000e+00   \n75%                  20.000000  0.000000e+00  0.000000e+00   \nmax                9900.000000  1.000000e+00  1.000000e+00   \n\n       comp8_rate_percent_diff    click_bool  gross_bookings_usd  booking_bool  \ncount            614730.000000  4.958347e+06       138390.000000  4.958347e+06  \nmean                 22.430384  4.474858e-02          386.283316  2.791051e-02  \nstd                 895.965854  2.067514e-01          821.190577  1.647165e-01  \nmin                   2.000000  0.000000e+00            0.000000  0.000000e+00  \n25%                   7.000000  0.000000e+00          124.000000  0.000000e+00  \n50%                  11.000000  0.000000e+00          218.400000  0.000000e+00  \n75%                  17.000000  0.000000e+00          429.790000  0.000000e+00  \nmax              149400.000000  1.000000e+00       159292.380000  1.000000e+00  \n\n[8 rows x 53 columns]",
      "text/html": "<div>\n<style scoped>\n    .dataframe tbody tr th:only-of-type {\n        vertical-align: middle;\n    }\n\n    .dataframe tbody tr th {\n        vertical-align: top;\n    }\n\n    .dataframe thead th {\n        text-align: right;\n    }\n</style>\n<table border=\"1\" class=\"dataframe\">\n  <thead>\n    <tr style=\"text-align: right;\">\n      <th></th>\n      <th>srch_id</th>\n      <th>site_id</th>\n      <th>visitor_location_country_id</th>\n      <th>visitor_hist_starrating</th>\n      <th>visitor_hist_adr_usd</th>\n      <th>prop_country_id</th>\n      <th>prop_id</th>\n      <th>prop_starrating</th>\n      <th>prop_review_score</th>\n      <th>prop_brand_bool</th>\n      <th>...</th>\n      <th>comp6_rate_percent_diff</th>\n      <th>comp7_rate</th>\n      <th>comp7_inv</th>\n      <th>comp7_rate_percent_diff</th>\n      <th>comp8_rate</th>\n      <th>comp8_inv</th>\n      <th>comp8_rate_percent_diff</th>\n      <th>click_bool</th>\n      <th>gross_bookings_usd</th>\n      <th>booking_bool</th>\n    </tr>\n  </thead>\n  <tbody>\n    <tr>\n      <th>count</th>\n      <td>4.958347e+06</td>\n      <td>4.958347e+06</td>\n      <td>4.958347e+06</td>\n      <td>251866.000000</td>\n      <td>252988.000000</td>\n      <td>4.958347e+06</td>\n      <td>4.958347e+06</td>\n      <td>4.958347e+06</td>\n      <td>4.950983e+06</td>\n      <td>4.958347e+06</td>\n      <td>...</td>\n      <td>96174.000000</td>\n      <td>315348.000000</td>\n      <td>356422.000000</td>\n      <td>138515.000000</td>\n      <td>1.916654e+06</td>\n      <td>1.987503e+06</td>\n      <td>614730.000000</td>\n      <td>4.958347e+06</td>\n      <td>138390.000000</td>\n      <td>4.958347e+06</td>\n    </tr>\n    <tr>\n      <th>mean</th>\n      <td>1.663666e+05</td>\n      <td>9.953133e+00</td>\n      <td>1.753405e+02</td>\n      <td>3.374334</td>\n      <td>176.022659</td>\n      <td>1.739739e+02</td>\n      <td>7.007918e+04</td>\n      <td>3.180525e+00</td>\n      <td>3.777777e+00</td>\n      <td>6.346994e-01</td>\n      <td>...</td>\n      <td>17.250473</td>\n      <td>0.145969</td>\n      <td>0.083202</td>\n      <td>19.433267</td>\n      <td>-6.089936e-02</td>\n      <td>9.962752e-03</td>\n      <td>22.430384</td>\n      <td>4.474858e-02</td>\n      <td>386.283316</td>\n      <td>2.791051e-02</td>\n    </tr>\n    <tr>\n      <th>std</th>\n      <td>9.611223e+04</td>\n      <td>7.646890e+00</td>\n      <td>6.591625e+01</td>\n      <td>0.692519</td>\n      <td>107.254493</td>\n      <td>6.834525e+01</td>\n      <td>4.060992e+04</td>\n      <td>1.051024e+00</td>\n      <td>1.050329e+00</td>\n      <td>4.815144e-01</td>\n      <td>...</td>\n      <td>31.160313</td>\n      <td>0.578202</td>\n      <td>0.316722</td>\n      <td>54.370221</td>\n      <td>4.691723e-01</td>\n      <td>2.029142e-01</td>\n      <td>895.965854</td>\n      <td>2.067514e-01</td>\n      <td>821.190577</td>\n      <td>1.647165e-01</td>\n    </tr>\n    <tr>\n      <th>min</th>\n      <td>1.000000e+00</td>\n      <td>1.000000e+00</td>\n      <td>1.000000e+00</td>\n      <td>1.410000</td>\n      <td>0.000000</td>\n      <td>1.000000e+00</td>\n      <td>1.000000e+00</td>\n      <td>0.000000e+00</td>\n      <td>0.000000e+00</td>\n      <td>0.000000e+00</td>\n      <td>...</td>\n      <td>2.000000</td>\n      <td>-1.000000</td>\n      <td>-1.000000</td>\n      <td>2.000000</td>\n      <td>-1.000000e+00</td>\n      <td>-1.000000e+00</td>\n      <td>2.000000</td>\n      <td>0.000000e+00</td>\n      <td>0.000000</td>\n      <td>0.000000e+00</td>\n    </tr>\n    <tr>\n      <th>25%</th>\n      <td>8.293600e+04</td>\n      <td>5.000000e+00</td>\n      <td>1.000000e+02</td>\n      <td>2.920000</td>\n      <td>109.810000</td>\n      <td>1.000000e+02</td>\n      <td>3.501000e+04</td>\n      <td>3.000000e+00</td>\n      <td>3.500000e+00</td>\n      <td>0.000000e+00</td>\n      <td>...</td>\n      <td>6.000000</td>\n      <td>0.000000</td>\n      <td>0.000000</td>\n      <td>7.000000</td>\n      <td>0.000000e+00</td>\n      <td>0.000000e+00</td>\n      <td>7.000000</td>\n      <td>0.000000e+00</td>\n      <td>124.000000</td>\n      <td>0.000000e+00</td>\n    </tr>\n    <tr>\n      <th>50%</th>\n      <td>1.665070e+05</td>\n      <td>5.000000e+00</td>\n      <td>2.190000e+02</td>\n      <td>3.450000</td>\n      <td>152.240000</td>\n      <td>2.190000e+02</td>\n      <td>6.963800e+04</td>\n      <td>3.000000e+00</td>\n      <td>4.000000e+00</td>\n      <td>1.000000e+00</td>\n      <td>...</td>\n      <td>11.000000</td>\n      <td>0.000000</td>\n      <td>0.000000</td>\n      <td>12.000000</td>\n      <td>0.000000e+00</td>\n      <td>0.000000e+00</td>\n      <td>11.000000</td>\n      <td>0.000000e+00</td>\n      <td>218.400000</td>\n      <td>0.000000e+00</td>\n    </tr>\n    <tr>\n      <th>75%</th>\n      <td>2.497240e+05</td>\n      <td>1.400000e+01</td>\n      <td>2.190000e+02</td>\n      <td>3.930000</td>\n      <td>213.490000</td>\n      <td>2.190000e+02</td>\n      <td>1.051680e+05</td>\n      <td>4.000000e+00</td>\n      <td>4.500000e+00</td>\n      <td>1.000000e+00</td>\n      <td>...</td>\n      <td>18.000000</td>\n      <td>1.000000</td>\n      <td>0.000000</td>\n      <td>20.000000</td>\n      <td>0.000000e+00</td>\n      <td>0.000000e+00</td>\n      <td>17.000000</td>\n      <td>0.000000e+00</td>\n      <td>429.790000</td>\n      <td>0.000000e+00</td>\n    </tr>\n    <tr>\n      <th>max</th>\n      <td>3.327850e+05</td>\n      <td>3.400000e+01</td>\n      <td>2.310000e+02</td>\n      <td>5.000000</td>\n      <td>1958.700000</td>\n      <td>2.300000e+02</td>\n      <td>1.408210e+05</td>\n      <td>5.000000e+00</td>\n      <td>5.000000e+00</td>\n      <td>1.000000e+00</td>\n      <td>...</td>\n      <td>1620.000000</td>\n      <td>1.000000</td>\n      <td>1.000000</td>\n      <td>9900.000000</td>\n      <td>1.000000e+00</td>\n      <td>1.000000e+00</td>\n      <td>149400.000000</td>\n      <td>1.000000e+00</td>\n      <td>159292.380000</td>\n      <td>1.000000e+00</td>\n    </tr>\n  </tbody>\n</table>\n<p>8 rows × 53 columns</p>\n</div>"
     },
     "execution_count": 5,
     "metadata": {},
     "output_type": "execute_result"
    }
   ],
   "source": [
    "train_df.describe()"
   ],
   "metadata": {
    "collapsed": false,
    "ExecuteTime": {
     "end_time": "2023-05-18T08:52:39.113069200Z",
     "start_time": "2023-05-18T08:52:27.560546100Z"
    }
   }
  },
  {
   "cell_type": "code",
   "execution_count": 6,
   "outputs": [
    {
     "name": "stdout",
     "output_type": "stream",
     "text": [
      "srch_id: 0 / 4958347 (0.00%)\n",
      "date_time: 0 / 4958347 (0.00%)\n",
      "site_id: 0 / 4958347 (0.00%)\n",
      "visitor_location_country_id: 0 / 4958347 (0.00%)\n",
      "visitor_hist_starrating: 4706481 / 4958347 (94.92%)\n",
      "visitor_hist_adr_usd: 4705359 / 4958347 (94.90%)\n",
      "prop_country_id: 0 / 4958347 (0.00%)\n",
      "prop_id: 0 / 4958347 (0.00%)\n",
      "prop_starrating: 0 / 4958347 (0.00%)\n",
      "prop_review_score: 7364 / 4958347 (0.15%)\n",
      "prop_brand_bool: 0 / 4958347 (0.00%)\n",
      "prop_location_score1: 0 / 4958347 (0.00%)\n",
      "prop_location_score2: 1090348 / 4958347 (21.99%)\n",
      "prop_log_historical_price: 0 / 4958347 (0.00%)\n",
      "position: 0 / 4958347 (0.00%)\n",
      "price_usd: 0 / 4958347 (0.00%)\n",
      "promotion_flag: 0 / 4958347 (0.00%)\n",
      "srch_destination_id: 0 / 4958347 (0.00%)\n",
      "srch_length_of_stay: 0 / 4958347 (0.00%)\n",
      "srch_booking_window: 0 / 4958347 (0.00%)\n",
      "srch_adults_count: 0 / 4958347 (0.00%)\n",
      "srch_children_count: 0 / 4958347 (0.00%)\n",
      "srch_room_count: 0 / 4958347 (0.00%)\n",
      "srch_saturday_night_bool: 0 / 4958347 (0.00%)\n",
      "srch_query_affinity_score: 4640941 / 4958347 (93.60%)\n",
      "orig_destination_distance: 1607782 / 4958347 (32.43%)\n",
      "random_bool: 0 / 4958347 (0.00%)\n",
      "comp1_rate: 4838417 / 4958347 (97.58%)\n",
      "comp1_inv: 4828788 / 4958347 (97.39%)\n",
      "comp1_rate_percent_diff: 4863908 / 4958347 (98.10%)\n",
      "comp2_rate: 2933675 / 4958347 (59.17%)\n",
      "comp2_inv: 2828078 / 4958347 (57.04%)\n",
      "comp2_rate_percent_diff: 4402109 / 4958347 (88.78%)\n",
      "comp3_rate: 3424059 / 4958347 (69.06%)\n",
      "comp3_inv: 3307357 / 4958347 (66.70%)\n",
      "comp3_rate_percent_diff: 4485550 / 4958347 (90.46%)\n",
      "comp4_rate: 4650969 / 4958347 (93.80%)\n",
      "comp4_inv: 4614684 / 4958347 (93.07%)\n",
      "comp4_rate_percent_diff: 4827261 / 4958347 (97.36%)\n",
      "comp5_rate: 2735974 / 4958347 (55.18%)\n",
      "comp5_inv: 2598327 / 4958347 (52.40%)\n",
      "comp5_rate_percent_diff: 4117248 / 4958347 (83.04%)\n",
      "comp6_rate: 4718190 / 4958347 (95.16%)\n",
      "comp6_inv: 4697371 / 4958347 (94.74%)\n",
      "comp6_rate_percent_diff: 4862173 / 4958347 (98.06%)\n",
      "comp7_rate: 4642999 / 4958347 (93.64%)\n",
      "comp7_inv: 4601925 / 4958347 (92.81%)\n",
      "comp7_rate_percent_diff: 4819832 / 4958347 (97.21%)\n",
      "comp8_rate: 3041693 / 4958347 (61.34%)\n",
      "comp8_inv: 2970844 / 4958347 (59.92%)\n",
      "comp8_rate_percent_diff: 4343617 / 4958347 (87.60%)\n",
      "click_bool: 0 / 4958347 (0.00%)\n",
      "gross_bookings_usd: 4819957 / 4958347 (97.21%)\n",
      "booking_bool: 0 / 4958347 (0.00%)\n"
     ]
    }
   ],
   "source": [
    "# Display per column the number of NaN values compared to the total values per row, including a percentage\n",
    "num_nan = train_df.isna().sum()\n",
    "num_total = train_df.shape[0]\n",
    "for col in train_df.columns:\n",
    "    print(f\"{col}: {num_nan[col]} / {num_total} ({num_nan[col] / num_total * 100:.2f}%)\")"
   ],
   "metadata": {
    "collapsed": false,
    "ExecuteTime": {
     "end_time": "2023-05-18T08:52:39.736128200Z",
     "start_time": "2023-05-18T08:52:39.112069100Z"
    }
   }
  },
  {
   "cell_type": "code",
   "execution_count": 7,
   "outputs": [],
   "source": [
    "def create_features(df):\n",
    "    \"\"\"\n",
    "    Create the following new features: traveling_abroad, srch_prop_country_match, month, and day_of_week\n",
    "    \"\"\"\n",
    "    # traveling_abroad: boolean whether visitor_location_country_id != prop_country_id\n",
    "    df[\"traveling_abroad\"] = df[\"visitor_location_country_id\"] != df[\"prop_country_id\"]\n",
    "    df[\"traveling_abroad\"] = df[\"traveling_abroad\"].astype(int)\n",
    "\n",
    "    # srch_prop_country_match: boolean whether srch_destination_id == prop_country_id\n",
    "    df[\"srch_prop_country_match\"] = df[\"srch_destination_id\"] == df[\"prop_country_id\"]\n",
    "    df[\"srch_prop_country_match\"] = df[\"srch_prop_country_match\"].astype(int)\n",
    "\n",
    "    # month: month of the search, one-hot encoded\n",
    "    df[\"date_time\"] = pd.to_datetime(df[\"date_time\"])\n",
    "    df[\"month\"] = df[\"date_time\"].dt.month\n",
    "    df[\"month\"] = df[\"month\"].map({1: \"jan\", 2: \"feb\", 3: \"mar\", 4: \"apr\", 5: \"may\", 6: \"jun\", 7: \"jul\", 8: \"aug\", 9: \"sep\", 10: \"oct\", 11: \"nov\", 12: \"dec\"})\n",
    "    df = pd.get_dummies(df, columns=[\"month\"], dtype=int)\n",
    "    for col in [\"month_apr\", \"month_may\", \"month_jun\", \"month_jul\", \"month_aug\", \"month_sep\", \"month_oct\", \"month_nov\", \"month_dec\"]:\n",
    "        if col not in df.columns:\n",
    "            df[col] = 0\n",
    "\n",
    "    # day_of_week: day of the week of the search\n",
    "    df[\"day_of_week\"] = df[\"date_time\"].dt.dayofweek\n",
    "    df[\"day_of_week\"] = df[\"day_of_week\"].map({0: \"mon\", 1: \"tue\", 2: \"wed\", 3: \"thu\", 4: \"fri\", 5: \"sat\", 6: \"sun\"})\n",
    "    df = pd.get_dummies(df, columns=[\"day_of_week\"], dtype=int)\n",
    "    for col in [\"day_of_week_mon\", \"day_of_week_tue\", \"day_of_week_wed\", \"day_of_week_thu\", \"day_of_week_fri\", \"day_of_week_sat\", \"day_of_week_sun\"]:\n",
    "        if col not in df.columns:\n",
    "            df[col] = 0\n",
    "\n",
    "    return df"
   ],
   "metadata": {
    "collapsed": false,
    "ExecuteTime": {
     "end_time": "2023-05-18T08:52:39.743414600Z",
     "start_time": "2023-05-18T08:52:39.741135400Z"
    }
   }
  },
  {
   "cell_type": "code",
   "execution_count": 8,
   "outputs": [],
   "source": [
    "def drop_nan_columns(df):\n",
    "    \"\"\"\n",
    "    Train data shows that \"visitor_hist_starrating\", \"visitor_hist_adr_usd\", \"srch_query_affinity_score\", and \"compx_rate_percent_diff\" have >90% NaN values. These values cannot be imputed accurately, so we drop these columns.\n",
    "    \"\"\"\n",
    "    cols = [\"visitor_hist_starrating\", \"visitor_hist_adr_usd\", \"srch_query_affinity_score\"] + [f\"comp{i}_rate_percent_diff\" for i in range(1, 9)]\n",
    "    df.drop(columns=cols, inplace=True)\n",
    "    return df"
   ],
   "metadata": {
    "collapsed": false,
    "ExecuteTime": {
     "end_time": "2023-05-18T08:52:39.750974200Z",
     "start_time": "2023-05-18T08:52:39.745926700Z"
    }
   }
  },
  {
   "cell_type": "code",
   "execution_count": 9,
   "outputs": [],
   "source": [
    "def impute_missing_values(df):\n",
    "    \"\"\"\n",
    "    Impute missing values for the following columns: \"prop_starrating\", \"prop_review_score\", \"compx_rate\", and \"compx_inv\".\n",
    "\n",
    "    For \"prop_starrating\" and \"prop_review_score\", we replace 0 values with NaN and then impute the NaN values with the mean per srch_id. Remaining NaN values are then filled with 0.\n",
    "    For \"compx_rate\" and \"compx_inv\", we assume that missing data means that Expedia has the same price and equal availability as its competitors. We therefore impute the NaN values with 0.\n",
    "    \"\"\"\n",
    "    # Replace 0 values with NaN\n",
    "    df[\"prop_starrating\"] = df[\"prop_starrating\"].replace(0, np.nan)\n",
    "    df[\"prop_review_score\"] = df[\"prop_review_score\"].replace(0, np.nan)\n",
    "    # Impute NaN values with mean per srch_id\n",
    "    df[\"prop_starrating\"] = df.groupby(\"srch_id\")[\"prop_starrating\"].transform(lambda x: x.fillna(x.mean()))\n",
    "    df[\"prop_review_score\"] = df.groupby(\"srch_id\")[\"prop_review_score\"].transform(lambda x: x.fillna(x.mean()))\n",
    "    # Fill remaining NaN values with 0\n",
    "    df[\"prop_starrating\"] = df[\"prop_starrating\"].fillna(0)\n",
    "    df[\"prop_review_score\"] = df[\"prop_review_score\"].fillna(0)\n",
    "\n",
    "    # Impute NaN values with 0\n",
    "    for i in range(1, 9):\n",
    "        df[f\"comp{i}_rate\"] = df[f\"comp{i}_rate\"].fillna(0)\n",
    "        df[f\"comp{i}_inv\"] = df[f\"comp{i}_inv\"].fillna(0)\n",
    "\n",
    "    return df"
   ],
   "metadata": {
    "collapsed": false,
    "ExecuteTime": {
     "end_time": "2023-05-18T08:52:39.759853200Z",
     "start_time": "2023-05-18T08:52:39.757846400Z"
    }
   }
  },
  {
   "cell_type": "code",
   "execution_count": 10,
   "outputs": [],
   "source": [
    "# TODO: Not used\n",
    "def compute_aggregated_values(df):\n",
    "    \"\"\"\n",
    "    Compute the mean, median and standard deviation for the following columns:\n",
    "    \"visitor_hist_starrating\", \"visitor_hist_adr_usd\", \"prop_starrating\", \"prop_review_score\", \"prop_location_score1\", \"prop_log_historical_price\", \"price_usd\"\n",
    "    \"\"\"\n",
    "    numerical_cols = [\"visitor_hist_starrating\", \"visitor_hist_adr_usd\", \"prop_starrating\", \"prop_review_score\", \"prop_location_score1\", \"prop_log_historical_price\", \"price_usd\"]\n",
    "    # srch_length_of_stay, srch_booking_window, srch_adults_count, srch_children_count, and srch_room_count are also numerical variables, but it has no use aggregating these values over prop_id.\n",
    "\n",
    "    df = df.groupby(\"prop_id\").agg({col: [\"mean\", \"std\", \"median\"] for col in numerical_cols})\n",
    "    df.columns = [\"_\".join(col) for col in df.columns]\n",
    "    return df"
   ],
   "metadata": {
    "collapsed": false,
    "ExecuteTime": {
     "end_time": "2023-05-18T08:52:39.808333Z",
     "start_time": "2023-05-18T08:52:39.761857400Z"
    }
   }
  },
  {
   "cell_type": "code",
   "execution_count": 11,
   "outputs": [],
   "source": [
    "def compute_relative_values(df):\n",
    "    \"\"\"\n",
    "    Subtract the mean per srch_id from the following columns:\n",
    "    \"prop_starrating\", \"prop_review_score\", \"prop_location_score1\", \"prop_log_historical_price\", \"price_usd\"\n",
    "\n",
    "    This is done so that the model can learn the relative values of these columns per srch_id.\n",
    "    \"\"\"\n",
    "    cols = [\"prop_starrating\", \"prop_review_score\", \"prop_location_score1\", \"prop_log_historical_price\", \"price_usd\"]\n",
    "    grouper = df.groupby('srch_id')\n",
    "    for col in cols:\n",
    "        df[col] = df[col] - grouper[col].transform('mean')\n",
    "    return df"
   ],
   "metadata": {
    "collapsed": false,
    "ExecuteTime": {
     "end_time": "2023-05-18T08:52:39.840779100Z",
     "start_time": "2023-05-18T08:52:39.768077900Z"
    }
   }
  },
  {
   "cell_type": "code",
   "execution_count": 12,
   "outputs": [],
   "source": [
    "def drop_columns(df):\n",
    "    \"\"\"\n",
    "    Train data shows that for \"orig_destination_distance\" over 75% of the data with a calculated value lower than 0.95 of the largest distance was lower than 130, meaning that the distance per srch_id is roughly the same. We assume therefore that this is not a deciding factor for a customer in their booking process and drop this column.\n",
    "\n",
    "    Features were created from \"date_time\" and the column will not be used anymore, so we drop this column as well.\n",
    "\n",
    "    Columns containing IDs (\"srch_id\", \"site_id\", \"visitor_location_country_id\", \"prop_country_id\", \"prop_id\", and \"srch_destination_id\") are not used in the model, so we drop these columns as well.\n",
    "\n",
    "    # TODO:\n",
    "    I don't really know what to do with \"prop_location_score2\" yet, so I'll drop it for now.\n",
    "    \"\"\"\n",
    "    df.drop(columns=[\"orig_destination_distance\"], inplace=True)\n",
    "    df.drop(columns=[\"date_time\"], inplace=True)\n",
    "    df.drop(columns=[\"srch_id\", \"site_id\", \"visitor_location_country_id\", \"prop_country_id\", \"prop_id\", \"srch_destination_id\"], inplace=True)\n",
    "    df.drop(columns=[\"prop_location_score2\"], inplace=True)\n",
    "    return df"
   ],
   "metadata": {
    "collapsed": false,
    "ExecuteTime": {
     "end_time": "2023-05-18T08:52:39.841779700Z",
     "start_time": "2023-05-18T08:52:39.775594700Z"
    }
   }
  },
  {
   "cell_type": "code",
   "execution_count": 13,
   "outputs": [],
   "source": [
    "# Takes roughly 1m30s to run\n",
    "train_df = create_features(train_df)\n",
    "train_df = drop_nan_columns(train_df)\n",
    "train_df = impute_missing_values(train_df)\n",
    "train_df = compute_relative_values(train_df)\n",
    "train_df = drop_columns(train_df)"
   ],
   "metadata": {
    "collapsed": false,
    "ExecuteTime": {
     "end_time": "2023-05-18T08:54:24.585727500Z",
     "start_time": "2023-05-18T08:52:39.783628900Z"
    }
   }
  },
  {
   "cell_type": "code",
   "execution_count": 14,
   "outputs": [
    {
     "name": "stdout",
     "output_type": "stream",
     "text": [
      "prop_starrating: 0 / 4958347 (0.00%)\n",
      "prop_review_score: 0 / 4958347 (0.00%)\n",
      "prop_brand_bool: 0 / 4958347 (0.00%)\n",
      "prop_location_score1: 0 / 4958347 (0.00%)\n",
      "prop_log_historical_price: 0 / 4958347 (0.00%)\n",
      "position: 0 / 4958347 (0.00%)\n",
      "price_usd: 0 / 4958347 (0.00%)\n",
      "promotion_flag: 0 / 4958347 (0.00%)\n",
      "srch_length_of_stay: 0 / 4958347 (0.00%)\n",
      "srch_booking_window: 0 / 4958347 (0.00%)\n",
      "srch_adults_count: 0 / 4958347 (0.00%)\n",
      "srch_children_count: 0 / 4958347 (0.00%)\n",
      "srch_room_count: 0 / 4958347 (0.00%)\n",
      "srch_saturday_night_bool: 0 / 4958347 (0.00%)\n",
      "random_bool: 0 / 4958347 (0.00%)\n",
      "comp1_rate: 0 / 4958347 (0.00%)\n",
      "comp1_inv: 0 / 4958347 (0.00%)\n",
      "comp2_rate: 0 / 4958347 (0.00%)\n",
      "comp2_inv: 0 / 4958347 (0.00%)\n",
      "comp3_rate: 0 / 4958347 (0.00%)\n",
      "comp3_inv: 0 / 4958347 (0.00%)\n",
      "comp4_rate: 0 / 4958347 (0.00%)\n",
      "comp4_inv: 0 / 4958347 (0.00%)\n",
      "comp5_rate: 0 / 4958347 (0.00%)\n",
      "comp5_inv: 0 / 4958347 (0.00%)\n",
      "comp6_rate: 0 / 4958347 (0.00%)\n",
      "comp6_inv: 0 / 4958347 (0.00%)\n",
      "comp7_rate: 0 / 4958347 (0.00%)\n",
      "comp7_inv: 0 / 4958347 (0.00%)\n",
      "comp8_rate: 0 / 4958347 (0.00%)\n",
      "comp8_inv: 0 / 4958347 (0.00%)\n",
      "click_bool: 0 / 4958347 (0.00%)\n",
      "gross_bookings_usd: 4819957 / 4958347 (97.21%)\n",
      "booking_bool: 0 / 4958347 (0.00%)\n",
      "traveling_abroad: 0 / 4958347 (0.00%)\n",
      "srch_prop_country_match: 0 / 4958347 (0.00%)\n",
      "month_apr: 0 / 4958347 (0.00%)\n",
      "month_dec: 0 / 4958347 (0.00%)\n",
      "month_feb: 0 / 4958347 (0.00%)\n",
      "month_jan: 0 / 4958347 (0.00%)\n",
      "month_jun: 0 / 4958347 (0.00%)\n",
      "month_mar: 0 / 4958347 (0.00%)\n",
      "month_may: 0 / 4958347 (0.00%)\n",
      "month_nov: 0 / 4958347 (0.00%)\n",
      "month_jul: 0 / 4958347 (0.00%)\n",
      "month_aug: 0 / 4958347 (0.00%)\n",
      "month_sep: 0 / 4958347 (0.00%)\n",
      "month_oct: 0 / 4958347 (0.00%)\n",
      "day_of_week_fri: 0 / 4958347 (0.00%)\n",
      "day_of_week_mon: 0 / 4958347 (0.00%)\n",
      "day_of_week_sat: 0 / 4958347 (0.00%)\n",
      "day_of_week_sun: 0 / 4958347 (0.00%)\n",
      "day_of_week_thu: 0 / 4958347 (0.00%)\n",
      "day_of_week_tue: 0 / 4958347 (0.00%)\n",
      "day_of_week_wed: 0 / 4958347 (0.00%)\n"
     ]
    }
   ],
   "source": [
    "# Display per column the number of NaN values compared to the total values per row, including a percentage\n",
    "num_nan = train_df.isna().sum()\n",
    "num_total = train_df.shape[0]\n",
    "for col in train_df.columns:\n",
    "    print(f\"{col}: {num_nan[col]} / {num_total} ({num_nan[col] / num_total * 100:.2f}%)\")"
   ],
   "metadata": {
    "collapsed": false,
    "ExecuteTime": {
     "end_time": "2023-05-18T08:54:24.937554800Z",
     "start_time": "2023-05-18T08:54:24.586725700Z"
    }
   }
  },
  {
   "cell_type": "code",
   "execution_count": 15,
   "outputs": [
    {
     "data": {
      "text/plain": "     prop_starrating  prop_review_score  prop_brand_bool   \n0          -0.071429          -0.250000                1  \\\n1           0.928571           0.250000                1   \n2          -0.071429           0.750000                1   \n3          -1.071429           0.250000                1   \n4           0.928571          -0.250000                1   \n..               ...                ...              ...   \n495         0.937500           0.125000                1   \n496        -0.062500           0.125000                0   \n497         0.937500           0.125000                0   \n498         1.357143           0.861111                1   \n499         1.357143           0.361111                1   \n\n     prop_location_score1  prop_log_historical_price  position   price_usd   \n0                0.530357                   0.079286        27  -58.948929  \\\n1               -0.099643                   0.159286        26    7.021071   \n2               -0.099643                   0.049286        21   16.081071   \n3                0.530357                  -0.480714        34  439.051071   \n4                0.340357                   0.059286         4  -20.138929   \n..                    ...                        ...       ...         ...   \n495              0.195938                   0.232500        15   91.346250   \n496             -0.054062                   0.062500         8  -55.113750   \n497             -0.044062                   0.102500        25  -24.913750   \n498              0.578500                   0.715000         3   49.755000   \n499              0.578500                   0.465000         9   49.755000   \n\n     promotion_flag  srch_length_of_stay  srch_booking_window  ...  month_aug   \n0                 0                    1                    0  ...          0  \\\n1                 0                    1                    0  ...          0   \n2                 0                    1                    0  ...          0   \n3                 0                    1                    0  ...          0   \n4                 0                    1                    0  ...          0   \n..              ...                  ...                  ...  ...        ...   \n495               0                    1                    1  ...          0   \n496               1                    1                    1  ...          0   \n497               0                    1                    1  ...          0   \n498               0                    1                    0  ...          0   \n499               0                    1                    0  ...          0   \n\n     month_sep  month_oct  day_of_week_fri  day_of_week_mon  day_of_week_sat   \n0            0          0                0                0                0  \\\n1            0          0                0                0                0   \n2            0          0                0                0                0   \n3            0          0                0                0                0   \n4            0          0                0                0                0   \n..         ...        ...              ...              ...              ...   \n495          0          0                0                0                0   \n496          0          0                0                0                0   \n497          0          0                0                0                0   \n498          0          0                0                0                1   \n499          0          0                0                0                1   \n\n     day_of_week_sun  day_of_week_thu  day_of_week_tue  day_of_week_wed  \n0                  0                1                0                0  \n1                  0                1                0                0  \n2                  0                1                0                0  \n3                  0                1                0                0  \n4                  0                1                0                0  \n..               ...              ...              ...              ...  \n495                0                0                1                0  \n496                0                0                1                0  \n497                0                0                1                0  \n498                0                0                0                0  \n499                0                0                0                0  \n\n[500 rows x 55 columns]",
      "text/html": "<div>\n<style scoped>\n    .dataframe tbody tr th:only-of-type {\n        vertical-align: middle;\n    }\n\n    .dataframe tbody tr th {\n        vertical-align: top;\n    }\n\n    .dataframe thead th {\n        text-align: right;\n    }\n</style>\n<table border=\"1\" class=\"dataframe\">\n  <thead>\n    <tr style=\"text-align: right;\">\n      <th></th>\n      <th>prop_starrating</th>\n      <th>prop_review_score</th>\n      <th>prop_brand_bool</th>\n      <th>prop_location_score1</th>\n      <th>prop_log_historical_price</th>\n      <th>position</th>\n      <th>price_usd</th>\n      <th>promotion_flag</th>\n      <th>srch_length_of_stay</th>\n      <th>srch_booking_window</th>\n      <th>...</th>\n      <th>month_aug</th>\n      <th>month_sep</th>\n      <th>month_oct</th>\n      <th>day_of_week_fri</th>\n      <th>day_of_week_mon</th>\n      <th>day_of_week_sat</th>\n      <th>day_of_week_sun</th>\n      <th>day_of_week_thu</th>\n      <th>day_of_week_tue</th>\n      <th>day_of_week_wed</th>\n    </tr>\n  </thead>\n  <tbody>\n    <tr>\n      <th>0</th>\n      <td>-0.071429</td>\n      <td>-0.250000</td>\n      <td>1</td>\n      <td>0.530357</td>\n      <td>0.079286</td>\n      <td>27</td>\n      <td>-58.948929</td>\n      <td>0</td>\n      <td>1</td>\n      <td>0</td>\n      <td>...</td>\n      <td>0</td>\n      <td>0</td>\n      <td>0</td>\n      <td>0</td>\n      <td>0</td>\n      <td>0</td>\n      <td>0</td>\n      <td>1</td>\n      <td>0</td>\n      <td>0</td>\n    </tr>\n    <tr>\n      <th>1</th>\n      <td>0.928571</td>\n      <td>0.250000</td>\n      <td>1</td>\n      <td>-0.099643</td>\n      <td>0.159286</td>\n      <td>26</td>\n      <td>7.021071</td>\n      <td>0</td>\n      <td>1</td>\n      <td>0</td>\n      <td>...</td>\n      <td>0</td>\n      <td>0</td>\n      <td>0</td>\n      <td>0</td>\n      <td>0</td>\n      <td>0</td>\n      <td>0</td>\n      <td>1</td>\n      <td>0</td>\n      <td>0</td>\n    </tr>\n    <tr>\n      <th>2</th>\n      <td>-0.071429</td>\n      <td>0.750000</td>\n      <td>1</td>\n      <td>-0.099643</td>\n      <td>0.049286</td>\n      <td>21</td>\n      <td>16.081071</td>\n      <td>0</td>\n      <td>1</td>\n      <td>0</td>\n      <td>...</td>\n      <td>0</td>\n      <td>0</td>\n      <td>0</td>\n      <td>0</td>\n      <td>0</td>\n      <td>0</td>\n      <td>0</td>\n      <td>1</td>\n      <td>0</td>\n      <td>0</td>\n    </tr>\n    <tr>\n      <th>3</th>\n      <td>-1.071429</td>\n      <td>0.250000</td>\n      <td>1</td>\n      <td>0.530357</td>\n      <td>-0.480714</td>\n      <td>34</td>\n      <td>439.051071</td>\n      <td>0</td>\n      <td>1</td>\n      <td>0</td>\n      <td>...</td>\n      <td>0</td>\n      <td>0</td>\n      <td>0</td>\n      <td>0</td>\n      <td>0</td>\n      <td>0</td>\n      <td>0</td>\n      <td>1</td>\n      <td>0</td>\n      <td>0</td>\n    </tr>\n    <tr>\n      <th>4</th>\n      <td>0.928571</td>\n      <td>-0.250000</td>\n      <td>1</td>\n      <td>0.340357</td>\n      <td>0.059286</td>\n      <td>4</td>\n      <td>-20.138929</td>\n      <td>0</td>\n      <td>1</td>\n      <td>0</td>\n      <td>...</td>\n      <td>0</td>\n      <td>0</td>\n      <td>0</td>\n      <td>0</td>\n      <td>0</td>\n      <td>0</td>\n      <td>0</td>\n      <td>1</td>\n      <td>0</td>\n      <td>0</td>\n    </tr>\n    <tr>\n      <th>...</th>\n      <td>...</td>\n      <td>...</td>\n      <td>...</td>\n      <td>...</td>\n      <td>...</td>\n      <td>...</td>\n      <td>...</td>\n      <td>...</td>\n      <td>...</td>\n      <td>...</td>\n      <td>...</td>\n      <td>...</td>\n      <td>...</td>\n      <td>...</td>\n      <td>...</td>\n      <td>...</td>\n      <td>...</td>\n      <td>...</td>\n      <td>...</td>\n      <td>...</td>\n      <td>...</td>\n    </tr>\n    <tr>\n      <th>495</th>\n      <td>0.937500</td>\n      <td>0.125000</td>\n      <td>1</td>\n      <td>0.195938</td>\n      <td>0.232500</td>\n      <td>15</td>\n      <td>91.346250</td>\n      <td>0</td>\n      <td>1</td>\n      <td>1</td>\n      <td>...</td>\n      <td>0</td>\n      <td>0</td>\n      <td>0</td>\n      <td>0</td>\n      <td>0</td>\n      <td>0</td>\n      <td>0</td>\n      <td>0</td>\n      <td>1</td>\n      <td>0</td>\n    </tr>\n    <tr>\n      <th>496</th>\n      <td>-0.062500</td>\n      <td>0.125000</td>\n      <td>0</td>\n      <td>-0.054062</td>\n      <td>0.062500</td>\n      <td>8</td>\n      <td>-55.113750</td>\n      <td>1</td>\n      <td>1</td>\n      <td>1</td>\n      <td>...</td>\n      <td>0</td>\n      <td>0</td>\n      <td>0</td>\n      <td>0</td>\n      <td>0</td>\n      <td>0</td>\n      <td>0</td>\n      <td>0</td>\n      <td>1</td>\n      <td>0</td>\n    </tr>\n    <tr>\n      <th>497</th>\n      <td>0.937500</td>\n      <td>0.125000</td>\n      <td>0</td>\n      <td>-0.044062</td>\n      <td>0.102500</td>\n      <td>25</td>\n      <td>-24.913750</td>\n      <td>0</td>\n      <td>1</td>\n      <td>1</td>\n      <td>...</td>\n      <td>0</td>\n      <td>0</td>\n      <td>0</td>\n      <td>0</td>\n      <td>0</td>\n      <td>0</td>\n      <td>0</td>\n      <td>0</td>\n      <td>1</td>\n      <td>0</td>\n    </tr>\n    <tr>\n      <th>498</th>\n      <td>1.357143</td>\n      <td>0.861111</td>\n      <td>1</td>\n      <td>0.578500</td>\n      <td>0.715000</td>\n      <td>3</td>\n      <td>49.755000</td>\n      <td>0</td>\n      <td>1</td>\n      <td>0</td>\n      <td>...</td>\n      <td>0</td>\n      <td>0</td>\n      <td>0</td>\n      <td>0</td>\n      <td>0</td>\n      <td>1</td>\n      <td>0</td>\n      <td>0</td>\n      <td>0</td>\n      <td>0</td>\n    </tr>\n    <tr>\n      <th>499</th>\n      <td>1.357143</td>\n      <td>0.361111</td>\n      <td>1</td>\n      <td>0.578500</td>\n      <td>0.465000</td>\n      <td>9</td>\n      <td>49.755000</td>\n      <td>0</td>\n      <td>1</td>\n      <td>0</td>\n      <td>...</td>\n      <td>0</td>\n      <td>0</td>\n      <td>0</td>\n      <td>0</td>\n      <td>0</td>\n      <td>1</td>\n      <td>0</td>\n      <td>0</td>\n      <td>0</td>\n      <td>0</td>\n    </tr>\n  </tbody>\n</table>\n<p>500 rows × 55 columns</p>\n</div>"
     },
     "execution_count": 15,
     "metadata": {},
     "output_type": "execute_result"
    }
   ],
   "source": [
    "train_df.head(500)"
   ],
   "metadata": {
    "collapsed": false,
    "ExecuteTime": {
     "end_time": "2023-05-18T08:54:24.959034Z",
     "start_time": "2023-05-18T08:54:24.937554800Z"
    }
   }
  },
  {
   "cell_type": "code",
   "execution_count": 16,
   "outputs": [
    {
     "name": "stdout",
     "output_type": "stream",
     "text": [
      "['comp1_rate', 'comp1_inv', 'comp2_rate', 'comp2_inv', 'comp3_rate', 'comp3_inv', 'comp4_rate', 'comp4_inv', 'comp5_rate', 'comp5_inv', 'comp6_rate', 'comp6_inv', 'comp7_rate', 'comp7_inv', 'comp8_rate', 'comp8_inv']\n"
     ]
    },
    {
     "ename": "KeyError",
     "evalue": "\"['date_time'] not found in axis\"",
     "output_type": "error",
     "traceback": [
      "\u001B[1;31m---------------------------------------------------------------------------\u001B[0m",
      "\u001B[1;31mKeyError\u001B[0m                                  Traceback (most recent call last)",
      "Cell \u001B[1;32mIn[16], line 4\u001B[0m\n\u001B[0;32m      2\u001B[0m \u001B[38;5;28mprint\u001B[39m(competition_cols)\n\u001B[0;32m      3\u001B[0m \u001B[38;5;66;03m# Create correlation matrix\u001B[39;00m\n\u001B[1;32m----> 4\u001B[0m corr_matrix \u001B[38;5;241m=\u001B[39m \u001B[43mtrain_df\u001B[49m\u001B[38;5;241;43m.\u001B[39;49m\u001B[43mdrop\u001B[49m\u001B[43m(\u001B[49m\u001B[43mcolumns\u001B[49m\u001B[38;5;241;43m=\u001B[39;49m\u001B[43mcompetition_cols\u001B[49m\u001B[38;5;241;43m+\u001B[39;49m\u001B[43m[\u001B[49m\u001B[38;5;124;43m\"\u001B[39;49m\u001B[38;5;124;43mdate_time\u001B[39;49m\u001B[38;5;124;43m\"\u001B[39;49m\u001B[43m]\u001B[49m\u001B[43m)\u001B[49m\u001B[38;5;241m.\u001B[39mcorr()\n\u001B[0;32m      5\u001B[0m \u001B[38;5;66;03m# Select lower triangle of correlation matrix\u001B[39;00m\n\u001B[0;32m      6\u001B[0m lower \u001B[38;5;241m=\u001B[39m corr_matrix\u001B[38;5;241m.\u001B[39mwhere(np\u001B[38;5;241m.\u001B[39mtril(np\u001B[38;5;241m.\u001B[39mones(corr_matrix\u001B[38;5;241m.\u001B[39mshape))\u001B[38;5;241m.\u001B[39mastype(\u001B[38;5;28mbool\u001B[39m))\n",
      "File \u001B[1;32m~\\AppData\\Local\\Programs\\Python\\Python311\\Lib\\site-packages\\pandas\\core\\frame.py:5268\u001B[0m, in \u001B[0;36mDataFrame.drop\u001B[1;34m(self, labels, axis, index, columns, level, inplace, errors)\u001B[0m\n\u001B[0;32m   5120\u001B[0m \u001B[38;5;28;01mdef\u001B[39;00m \u001B[38;5;21mdrop\u001B[39m(\n\u001B[0;32m   5121\u001B[0m     \u001B[38;5;28mself\u001B[39m,\n\u001B[0;32m   5122\u001B[0m     labels: IndexLabel \u001B[38;5;241m=\u001B[39m \u001B[38;5;28;01mNone\u001B[39;00m,\n\u001B[1;32m   (...)\u001B[0m\n\u001B[0;32m   5129\u001B[0m     errors: IgnoreRaise \u001B[38;5;241m=\u001B[39m \u001B[38;5;124m\"\u001B[39m\u001B[38;5;124mraise\u001B[39m\u001B[38;5;124m\"\u001B[39m,\n\u001B[0;32m   5130\u001B[0m ) \u001B[38;5;241m-\u001B[39m\u001B[38;5;241m>\u001B[39m DataFrame \u001B[38;5;241m|\u001B[39m \u001B[38;5;28;01mNone\u001B[39;00m:\n\u001B[0;32m   5131\u001B[0m \u001B[38;5;250m    \u001B[39m\u001B[38;5;124;03m\"\"\"\u001B[39;00m\n\u001B[0;32m   5132\u001B[0m \u001B[38;5;124;03m    Drop specified labels from rows or columns.\u001B[39;00m\n\u001B[0;32m   5133\u001B[0m \n\u001B[1;32m   (...)\u001B[0m\n\u001B[0;32m   5266\u001B[0m \u001B[38;5;124;03m            weight  1.0     0.8\u001B[39;00m\n\u001B[0;32m   5267\u001B[0m \u001B[38;5;124;03m    \"\"\"\u001B[39;00m\n\u001B[1;32m-> 5268\u001B[0m     \u001B[38;5;28;01mreturn\u001B[39;00m \u001B[38;5;28;43msuper\u001B[39;49m\u001B[43m(\u001B[49m\u001B[43m)\u001B[49m\u001B[38;5;241;43m.\u001B[39;49m\u001B[43mdrop\u001B[49m\u001B[43m(\u001B[49m\n\u001B[0;32m   5269\u001B[0m \u001B[43m        \u001B[49m\u001B[43mlabels\u001B[49m\u001B[38;5;241;43m=\u001B[39;49m\u001B[43mlabels\u001B[49m\u001B[43m,\u001B[49m\n\u001B[0;32m   5270\u001B[0m \u001B[43m        \u001B[49m\u001B[43maxis\u001B[49m\u001B[38;5;241;43m=\u001B[39;49m\u001B[43maxis\u001B[49m\u001B[43m,\u001B[49m\n\u001B[0;32m   5271\u001B[0m \u001B[43m        \u001B[49m\u001B[43mindex\u001B[49m\u001B[38;5;241;43m=\u001B[39;49m\u001B[43mindex\u001B[49m\u001B[43m,\u001B[49m\n\u001B[0;32m   5272\u001B[0m \u001B[43m        \u001B[49m\u001B[43mcolumns\u001B[49m\u001B[38;5;241;43m=\u001B[39;49m\u001B[43mcolumns\u001B[49m\u001B[43m,\u001B[49m\n\u001B[0;32m   5273\u001B[0m \u001B[43m        \u001B[49m\u001B[43mlevel\u001B[49m\u001B[38;5;241;43m=\u001B[39;49m\u001B[43mlevel\u001B[49m\u001B[43m,\u001B[49m\n\u001B[0;32m   5274\u001B[0m \u001B[43m        \u001B[49m\u001B[43minplace\u001B[49m\u001B[38;5;241;43m=\u001B[39;49m\u001B[43minplace\u001B[49m\u001B[43m,\u001B[49m\n\u001B[0;32m   5275\u001B[0m \u001B[43m        \u001B[49m\u001B[43merrors\u001B[49m\u001B[38;5;241;43m=\u001B[39;49m\u001B[43merrors\u001B[49m\u001B[43m,\u001B[49m\n\u001B[0;32m   5276\u001B[0m \u001B[43m    \u001B[49m\u001B[43m)\u001B[49m\n",
      "File \u001B[1;32m~\\AppData\\Local\\Programs\\Python\\Python311\\Lib\\site-packages\\pandas\\core\\generic.py:4549\u001B[0m, in \u001B[0;36mNDFrame.drop\u001B[1;34m(self, labels, axis, index, columns, level, inplace, errors)\u001B[0m\n\u001B[0;32m   4547\u001B[0m \u001B[38;5;28;01mfor\u001B[39;00m axis, labels \u001B[38;5;129;01min\u001B[39;00m axes\u001B[38;5;241m.\u001B[39mitems():\n\u001B[0;32m   4548\u001B[0m     \u001B[38;5;28;01mif\u001B[39;00m labels \u001B[38;5;129;01mis\u001B[39;00m \u001B[38;5;129;01mnot\u001B[39;00m \u001B[38;5;28;01mNone\u001B[39;00m:\n\u001B[1;32m-> 4549\u001B[0m         obj \u001B[38;5;241m=\u001B[39m \u001B[43mobj\u001B[49m\u001B[38;5;241;43m.\u001B[39;49m\u001B[43m_drop_axis\u001B[49m\u001B[43m(\u001B[49m\u001B[43mlabels\u001B[49m\u001B[43m,\u001B[49m\u001B[43m \u001B[49m\u001B[43maxis\u001B[49m\u001B[43m,\u001B[49m\u001B[43m \u001B[49m\u001B[43mlevel\u001B[49m\u001B[38;5;241;43m=\u001B[39;49m\u001B[43mlevel\u001B[49m\u001B[43m,\u001B[49m\u001B[43m \u001B[49m\u001B[43merrors\u001B[49m\u001B[38;5;241;43m=\u001B[39;49m\u001B[43merrors\u001B[49m\u001B[43m)\u001B[49m\n\u001B[0;32m   4551\u001B[0m \u001B[38;5;28;01mif\u001B[39;00m inplace:\n\u001B[0;32m   4552\u001B[0m     \u001B[38;5;28mself\u001B[39m\u001B[38;5;241m.\u001B[39m_update_inplace(obj)\n",
      "File \u001B[1;32m~\\AppData\\Local\\Programs\\Python\\Python311\\Lib\\site-packages\\pandas\\core\\generic.py:4591\u001B[0m, in \u001B[0;36mNDFrame._drop_axis\u001B[1;34m(self, labels, axis, level, errors, only_slice)\u001B[0m\n\u001B[0;32m   4589\u001B[0m         new_axis \u001B[38;5;241m=\u001B[39m axis\u001B[38;5;241m.\u001B[39mdrop(labels, level\u001B[38;5;241m=\u001B[39mlevel, errors\u001B[38;5;241m=\u001B[39merrors)\n\u001B[0;32m   4590\u001B[0m     \u001B[38;5;28;01melse\u001B[39;00m:\n\u001B[1;32m-> 4591\u001B[0m         new_axis \u001B[38;5;241m=\u001B[39m \u001B[43maxis\u001B[49m\u001B[38;5;241;43m.\u001B[39;49m\u001B[43mdrop\u001B[49m\u001B[43m(\u001B[49m\u001B[43mlabels\u001B[49m\u001B[43m,\u001B[49m\u001B[43m \u001B[49m\u001B[43merrors\u001B[49m\u001B[38;5;241;43m=\u001B[39;49m\u001B[43merrors\u001B[49m\u001B[43m)\u001B[49m\n\u001B[0;32m   4592\u001B[0m     indexer \u001B[38;5;241m=\u001B[39m axis\u001B[38;5;241m.\u001B[39mget_indexer(new_axis)\n\u001B[0;32m   4594\u001B[0m \u001B[38;5;66;03m# Case for non-unique axis\u001B[39;00m\n\u001B[0;32m   4595\u001B[0m \u001B[38;5;28;01melse\u001B[39;00m:\n",
      "File \u001B[1;32m~\\AppData\\Local\\Programs\\Python\\Python311\\Lib\\site-packages\\pandas\\core\\indexes\\base.py:6696\u001B[0m, in \u001B[0;36mIndex.drop\u001B[1;34m(self, labels, errors)\u001B[0m\n\u001B[0;32m   6694\u001B[0m \u001B[38;5;28;01mif\u001B[39;00m mask\u001B[38;5;241m.\u001B[39many():\n\u001B[0;32m   6695\u001B[0m     \u001B[38;5;28;01mif\u001B[39;00m errors \u001B[38;5;241m!=\u001B[39m \u001B[38;5;124m\"\u001B[39m\u001B[38;5;124mignore\u001B[39m\u001B[38;5;124m\"\u001B[39m:\n\u001B[1;32m-> 6696\u001B[0m         \u001B[38;5;28;01mraise\u001B[39;00m \u001B[38;5;167;01mKeyError\u001B[39;00m(\u001B[38;5;124mf\u001B[39m\u001B[38;5;124m\"\u001B[39m\u001B[38;5;132;01m{\u001B[39;00m\u001B[38;5;28mlist\u001B[39m(labels[mask])\u001B[38;5;132;01m}\u001B[39;00m\u001B[38;5;124m not found in axis\u001B[39m\u001B[38;5;124m\"\u001B[39m)\n\u001B[0;32m   6697\u001B[0m     indexer \u001B[38;5;241m=\u001B[39m indexer[\u001B[38;5;241m~\u001B[39mmask]\n\u001B[0;32m   6698\u001B[0m \u001B[38;5;28;01mreturn\u001B[39;00m \u001B[38;5;28mself\u001B[39m\u001B[38;5;241m.\u001B[39mdelete(indexer)\n",
      "\u001B[1;31mKeyError\u001B[0m: \"['date_time'] not found in axis\""
     ]
    }
   ],
   "source": [
    "competition_cols = [col for col in train_df.columns if \"comp\" in col]\n",
    "print(competition_cols)\n",
    "# Create correlation matrix\n",
    "corr_matrix = train_df.drop(columns=competition_cols+[\"date_time\"]).corr()\n",
    "# Select lower triangle of correlation matrix\n",
    "lower = corr_matrix.where(np.tril(np.ones(corr_matrix.shape)).astype(bool))\n",
    "# Round all values to 3 decimals\n",
    "lower = lower.round(3)\n",
    "# Plot correlation matrix\n",
    "plt.figure(figsize=(20, 20))\n",
    "sns.heatmap(lower, annot=True, cmap=\"RdYlGn\")\n",
    "plt.show()"
   ],
   "metadata": {
    "collapsed": false,
    "ExecuteTime": {
     "end_time": "2023-05-18T08:54:26.558671700Z",
     "start_time": "2023-05-18T08:54:24.958028700Z"
    }
   }
  },
  {
   "cell_type": "code",
   "execution_count": null,
   "outputs": [],
   "source": [
    "df = train_df.copy()\n",
    "numerical_cols = [\"visitor_hist_starrating\", \"visitor_hist_adr_usd\", \"prop_starrating\", \"prop_review_score\", \"prop_location_score1\", \"prop_location_score2\", \"prop_log_historical_price\", \"price_usd\"]\n",
    "# srch_length_of_stay, srch_booking_window, srch_adults_count, srch_children_count, srch_room_count, srch_query_affinity_score, orig_destination_distance are also numerical variables, but it has no use aggregating these values over prop_id\n",
    "\n",
    "df = df.groupby(\"prop_id\").agg({col: [\"mean\", \"std\", \"median\"] for col in numerical_cols})\n",
    "df.columns = [\"_\".join(col) for col in df.columns]\n",
    "print(df.isna().sum())\n",
    "df.head(100)"
   ],
   "metadata": {
    "collapsed": false,
    "ExecuteTime": {
     "start_time": "2023-05-18T08:54:26.550994700Z"
    }
   }
  },
  {
   "cell_type": "code",
   "execution_count": null,
   "outputs": [],
   "source": [
    "for col in df.columns:\n",
    "    train_df[col] = train_df[\"prop_id\"].map(df[col])"
   ],
   "metadata": {
    "collapsed": false,
    "ExecuteTime": {
     "start_time": "2023-05-18T08:54:26.551994700Z"
    }
   }
  },
  {
   "cell_type": "code",
   "execution_count": null,
   "outputs": [],
   "source": [
    "train_df"
   ],
   "metadata": {
    "collapsed": false,
    "ExecuteTime": {
     "start_time": "2023-05-18T08:54:26.553503800Z"
    }
   }
  },
  {
   "cell_type": "code",
   "execution_count": null,
   "outputs": [],
   "source": [
    "# Display per column the number of NaN values compared to the total values per row, including a percentage\n",
    "num_nan = train_df.isna().sum()\n",
    "num_total = train_df.shape[0]\n",
    "for col in train_df.columns:\n",
    "    print(f\"{col}: {num_nan[col]} / {num_total} ({num_nan[col] / num_total * 100:.2f}%)\")"
   ],
   "metadata": {
    "collapsed": false,
    "ExecuteTime": {
     "start_time": "2023-05-18T08:54:26.555638900Z"
    }
   }
  },
  {
   "cell_type": "markdown",
   "source": [
    "# Data Transformation\n",
    "### Data to be changed/imputed:\n",
    "\n",
    "| Column Name               | Data Type | Description                                                                                                                                                                                                         |\n",
    "|---------------------------|-----------|---------------------------------------------------------------------------------------------------------------------------------------------------------------------------------------------------------------------|\n",
    "| prop_starrating           | Integer   | The star rating of the hotel, from 1 to 5, in increments of 1. A 0 indicates the property has no stars, the star rating is not known or cannot be publicized.                                                     |\n",
    "| prop_review_score         | Float     | The mean customer review score for the hotel on a scale out of 5, rounded to 0.5 increments. A 0 means there have been no reviews, null that the information is not available.                                    |\n",
    "| prop_log_historical_price | Float     | The logarithm of the mean price of the hotel over the last trading period. A 0 will occur if the hotel was not sold in that period.                                                                               |\n",
    "| orig_destination_distance | Float     | Physical distance between the hotel and the customer at the time of search. A null means the distance could not be calculated.                                                                                    |\n",
    "| srch_query_affinity_score | Float     | The log of the probability a hotel will be clicked on in Internet searches (hence the values are negative) A null signifies there are no data (i.e. hotel did not register in any searches)                       |\n",
    "\n",
    "### Data changes:\n",
    "\n",
    "### Ideas performed:\n",
    "for orig_destination_distance, fill NaN values with 1 and divide by the maximum value per search id to see the relative distance between the hotel and the customer. This failed, because over 75% of the data with a calculated value lower than 0.95 was lower than 130, meaning this approach only impacted the short distances. Plotting the data further showed that distances for searches are usually roughly the same, meaning this approach is not useful."
   ],
   "metadata": {
    "collapsed": false
   }
  },
  {
   "cell_type": "code",
   "execution_count": null,
   "outputs": [],
   "source": [
    "df = train_df.copy()"
   ],
   "metadata": {
    "collapsed": false,
    "ExecuteTime": {
     "start_time": "2023-05-18T08:54:26.558671700Z"
    }
   }
  },
  {
   "cell_type": "code",
   "execution_count": null,
   "outputs": [],
   "source": [
    "# grouper = df.groupby('srch_id')['orig_destination_distance']\n",
    "# maxes = grouper.transform('max')\n",
    "# mins = grouper.transform('min')\n",
    "#\n",
    "# df = df.assign(orig_destination_distance=((df[\"orig_destination_distance\"]-mins)/(maxes-mins))) # min-max scaling\n",
    "# df[[\"srch_id\", \"orig_destination_distance\"]]\n",
    "#\n",
    "# df = df.assign(orig_destination_distance=(df[\"orig_destination_distance\"]/maxes)) # Divide by max value\n",
    "# df[[\"srch_id\", \"orig_destination_distance\"]]"
   ],
   "metadata": {
    "collapsed": false
   }
  },
  {
   "cell_type": "code",
   "execution_count": null,
   "outputs": [],
   "source": [
    "# df[\"orig_destination_distance\"].plot(kind=\"hist\")"
   ],
   "metadata": {
    "collapsed": false
   }
  },
  {
   "cell_type": "code",
   "execution_count": null,
   "outputs": [],
   "source": [
    "print(df[[\"prop_starrating\", \"prop_review_score\", \"prop_log_historical_price\", \"orig_destination_distance\", \"srch_query_affinity_score\"]].isna().sum())\n",
    "df[[\"prop_starrating\", \"prop_review_score\", \"prop_log_historical_price\", \"orig_destination_distance\", \"srch_query_affinity_score\"]]\n"
   ],
   "metadata": {
    "collapsed": false
   }
  }
 ],
 "metadata": {
  "kernelspec": {
   "display_name": "Python 3",
   "language": "python",
   "name": "python3"
  },
  "language_info": {
   "codemirror_mode": {
    "name": "ipython",
    "version": 2
   },
   "file_extension": ".py",
   "mimetype": "text/x-python",
   "name": "python",
   "nbconvert_exporter": "python",
   "pygments_lexer": "ipython2",
   "version": "2.7.6"
  }
 },
 "nbformat": 4,
 "nbformat_minor": 0
}
